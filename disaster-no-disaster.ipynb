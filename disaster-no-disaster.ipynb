{
 "cells": [
  {
   "cell_type": "markdown",
   "id": "b91d073d-7147-45c7-aef6-431a42385d9c",
   "metadata": {},
   "source": [
    "# Introduction to Natural-Language-Processing"
   ]
  },
  {
   "cell_type": "code",
   "execution_count": 11,
   "id": "0acddad8-c6fc-44ca-967f-42de6e2e5739",
   "metadata": {},
   "outputs": [],
   "source": [
    "from helper_functions import create_tensorboard_callback, plot_loss_curves, unzip_data, walk_through_dir, compare_historys"
   ]
  },
  {
   "cell_type": "code",
   "execution_count": 365,
   "id": "44c1755b-f5c2-48d9-bbc6-c3073035811d",
   "metadata": {},
   "outputs": [],
   "source": [
    "import pandas as pd\n",
    "train_df = pd.read_csv(\"data/train.csv\")\n",
    "test_df = pd.read_csv(\"data/test.csv\")"
   ]
  },
  {
   "cell_type": "code",
   "execution_count": 13,
   "id": "73835b53-1242-4a25-a75e-016055f10e03",
   "metadata": {},
   "outputs": [
    {
     "data": {
      "text/html": [
       "<div>\n",
       "<style scoped>\n",
       "    .dataframe tbody tr th:only-of-type {\n",
       "        vertical-align: middle;\n",
       "    }\n",
       "\n",
       "    .dataframe tbody tr th {\n",
       "        vertical-align: top;\n",
       "    }\n",
       "\n",
       "    .dataframe thead th {\n",
       "        text-align: right;\n",
       "    }\n",
       "</style>\n",
       "<table border=\"1\" class=\"dataframe\">\n",
       "  <thead>\n",
       "    <tr style=\"text-align: right;\">\n",
       "      <th></th>\n",
       "      <th>id</th>\n",
       "      <th>keyword</th>\n",
       "      <th>location</th>\n",
       "      <th>text</th>\n",
       "      <th>target</th>\n",
       "    </tr>\n",
       "  </thead>\n",
       "  <tbody>\n",
       "    <tr>\n",
       "      <th>0</th>\n",
       "      <td>1</td>\n",
       "      <td>NaN</td>\n",
       "      <td>NaN</td>\n",
       "      <td>Our Deeds are the Reason of this #earthquake M...</td>\n",
       "      <td>1</td>\n",
       "    </tr>\n",
       "    <tr>\n",
       "      <th>1</th>\n",
       "      <td>4</td>\n",
       "      <td>NaN</td>\n",
       "      <td>NaN</td>\n",
       "      <td>Forest fire near La Ronge Sask. Canada</td>\n",
       "      <td>1</td>\n",
       "    </tr>\n",
       "    <tr>\n",
       "      <th>2</th>\n",
       "      <td>5</td>\n",
       "      <td>NaN</td>\n",
       "      <td>NaN</td>\n",
       "      <td>All residents asked to 'shelter in place' are ...</td>\n",
       "      <td>1</td>\n",
       "    </tr>\n",
       "    <tr>\n",
       "      <th>3</th>\n",
       "      <td>6</td>\n",
       "      <td>NaN</td>\n",
       "      <td>NaN</td>\n",
       "      <td>13,000 people receive #wildfires evacuation or...</td>\n",
       "      <td>1</td>\n",
       "    </tr>\n",
       "    <tr>\n",
       "      <th>4</th>\n",
       "      <td>7</td>\n",
       "      <td>NaN</td>\n",
       "      <td>NaN</td>\n",
       "      <td>Just got sent this photo from Ruby #Alaska as ...</td>\n",
       "      <td>1</td>\n",
       "    </tr>\n",
       "  </tbody>\n",
       "</table>\n",
       "</div>"
      ],
      "text/plain": [
       "   id keyword location                                               text  \\\n",
       "0   1     NaN      NaN  Our Deeds are the Reason of this #earthquake M...   \n",
       "1   4     NaN      NaN             Forest fire near La Ronge Sask. Canada   \n",
       "2   5     NaN      NaN  All residents asked to 'shelter in place' are ...   \n",
       "3   6     NaN      NaN  13,000 people receive #wildfires evacuation or...   \n",
       "4   7     NaN      NaN  Just got sent this photo from Ruby #Alaska as ...   \n",
       "\n",
       "   target  \n",
       "0       1  \n",
       "1       1  \n",
       "2       1  \n",
       "3       1  \n",
       "4       1  "
      ]
     },
     "execution_count": 13,
     "metadata": {},
     "output_type": "execute_result"
    }
   ],
   "source": [
    "train_df.head()"
   ]
  },
  {
   "cell_type": "code",
   "execution_count": 14,
   "id": "30e4894c-4385-43e0-8067-2abf43aad71d",
   "metadata": {},
   "outputs": [
    {
     "data": {
      "text/html": [
       "<div>\n",
       "<style scoped>\n",
       "    .dataframe tbody tr th:only-of-type {\n",
       "        vertical-align: middle;\n",
       "    }\n",
       "\n",
       "    .dataframe tbody tr th {\n",
       "        vertical-align: top;\n",
       "    }\n",
       "\n",
       "    .dataframe thead th {\n",
       "        text-align: right;\n",
       "    }\n",
       "</style>\n",
       "<table border=\"1\" class=\"dataframe\">\n",
       "  <thead>\n",
       "    <tr style=\"text-align: right;\">\n",
       "      <th></th>\n",
       "      <th>id</th>\n",
       "      <th>keyword</th>\n",
       "      <th>location</th>\n",
       "      <th>text</th>\n",
       "    </tr>\n",
       "  </thead>\n",
       "  <tbody>\n",
       "    <tr>\n",
       "      <th>0</th>\n",
       "      <td>0</td>\n",
       "      <td>NaN</td>\n",
       "      <td>NaN</td>\n",
       "      <td>Just happened a terrible car crash</td>\n",
       "    </tr>\n",
       "    <tr>\n",
       "      <th>1</th>\n",
       "      <td>2</td>\n",
       "      <td>NaN</td>\n",
       "      <td>NaN</td>\n",
       "      <td>Heard about #earthquake is different cities, s...</td>\n",
       "    </tr>\n",
       "    <tr>\n",
       "      <th>2</th>\n",
       "      <td>3</td>\n",
       "      <td>NaN</td>\n",
       "      <td>NaN</td>\n",
       "      <td>there is a forest fire at spot pond, geese are...</td>\n",
       "    </tr>\n",
       "    <tr>\n",
       "      <th>3</th>\n",
       "      <td>9</td>\n",
       "      <td>NaN</td>\n",
       "      <td>NaN</td>\n",
       "      <td>Apocalypse lighting. #Spokane #wildfires</td>\n",
       "    </tr>\n",
       "    <tr>\n",
       "      <th>4</th>\n",
       "      <td>11</td>\n",
       "      <td>NaN</td>\n",
       "      <td>NaN</td>\n",
       "      <td>Typhoon Soudelor kills 28 in China and Taiwan</td>\n",
       "    </tr>\n",
       "  </tbody>\n",
       "</table>\n",
       "</div>"
      ],
      "text/plain": [
       "   id keyword location                                               text\n",
       "0   0     NaN      NaN                 Just happened a terrible car crash\n",
       "1   2     NaN      NaN  Heard about #earthquake is different cities, s...\n",
       "2   3     NaN      NaN  there is a forest fire at spot pond, geese are...\n",
       "3   9     NaN      NaN           Apocalypse lighting. #Spokane #wildfires\n",
       "4  11     NaN      NaN      Typhoon Soudelor kills 28 in China and Taiwan"
      ]
     },
     "execution_count": 14,
     "metadata": {},
     "output_type": "execute_result"
    }
   ],
   "source": [
    "test_df.head()"
   ]
  },
  {
   "cell_type": "code",
   "execution_count": 15,
   "id": "5df7d400-56a7-4325-b589-c8d15a1d368e",
   "metadata": {},
   "outputs": [
    {
     "name": "stdout",
     "output_type": "stream",
     "text": [
      "Our Deeds are the Reason of this #earthquake May ALLAH Forgive us all\n",
      "Forest fire near La Ronge Sask. Canada\n",
      "All residents asked to 'shelter in place' are being notified by officers. No other evacuation or shelter in place orders are expected\n",
      "13,000 people receive #wildfires evacuation orders in California \n",
      "Just got sent this photo from Ruby #Alaska as smoke from #wildfires pours into a school \n"
     ]
    }
   ],
   "source": [
    "for i in range(5):\n",
    "    print(train_df['text'][i])"
   ]
  },
  {
   "cell_type": "code",
   "execution_count": 16,
   "id": "f9b019fc-eef8-4d0d-b29c-a9c149868068",
   "metadata": {},
   "outputs": [
    {
     "name": "stdout",
     "output_type": "stream",
     "text": [
      "What's up man?\n",
      "I love fruits\n",
      "Summer is lovely\n",
      "My car is so fast\n",
      "What a goooooooaaaaaal!!!!!!\n"
     ]
    }
   ],
   "source": [
    "count = 0\n",
    "for i in range(len(train_df['text'])):\n",
    "    if train_df['target'][i] == 0:\n",
    "        print(train_df['text'][i])\n",
    "        count += 1\n",
    "    if count > 4:\n",
    "        break"
   ]
  },
  {
   "cell_type": "code",
   "execution_count": 17,
   "id": "930caa62-8cf9-4ba9-9394-8b83b611e217",
   "metadata": {},
   "outputs": [
    {
     "data": {
      "text/plain": [
       "target\n",
       "0    4342\n",
       "1    3271\n",
       "Name: count, dtype: int64"
      ]
     },
     "execution_count": 17,
     "metadata": {},
     "output_type": "execute_result"
    }
   ],
   "source": [
    "train_df.target.value_counts()"
   ]
  },
  {
   "cell_type": "code",
   "execution_count": 18,
   "id": "c898c613-7f5b-4e15-b256-10e54e2b5964",
   "metadata": {},
   "outputs": [
    {
     "data": {
      "text/plain": [
       "(7613, 3263)"
      ]
     },
     "execution_count": 18,
     "metadata": {},
     "output_type": "execute_result"
    }
   ],
   "source": [
    "len(train_df), len(test_df)"
   ]
  },
  {
   "cell_type": "code",
   "execution_count": 19,
   "id": "6d15af25-12bc-4404-92aa-bf9390fa0b8d",
   "metadata": {},
   "outputs": [
    {
     "data": {
      "text/html": [
       "<div>\n",
       "<style scoped>\n",
       "    .dataframe tbody tr th:only-of-type {\n",
       "        vertical-align: middle;\n",
       "    }\n",
       "\n",
       "    .dataframe tbody tr th {\n",
       "        vertical-align: top;\n",
       "    }\n",
       "\n",
       "    .dataframe thead th {\n",
       "        text-align: right;\n",
       "    }\n",
       "</style>\n",
       "<table border=\"1\" class=\"dataframe\">\n",
       "  <thead>\n",
       "    <tr style=\"text-align: right;\">\n",
       "      <th></th>\n",
       "      <th>id</th>\n",
       "      <th>keyword</th>\n",
       "      <th>location</th>\n",
       "      <th>text</th>\n",
       "      <th>target</th>\n",
       "    </tr>\n",
       "  </thead>\n",
       "  <tbody>\n",
       "    <tr>\n",
       "      <th>2644</th>\n",
       "      <td>3796</td>\n",
       "      <td>destruction</td>\n",
       "      <td>NaN</td>\n",
       "      <td>So you have a new weapon that can cause un-ima...</td>\n",
       "      <td>1</td>\n",
       "    </tr>\n",
       "    <tr>\n",
       "      <th>2227</th>\n",
       "      <td>3185</td>\n",
       "      <td>deluge</td>\n",
       "      <td>NaN</td>\n",
       "      <td>The f$&amp;amp;@ing things I do for #GISHWHES Just...</td>\n",
       "      <td>0</td>\n",
       "    </tr>\n",
       "    <tr>\n",
       "      <th>5448</th>\n",
       "      <td>7769</td>\n",
       "      <td>police</td>\n",
       "      <td>UK</td>\n",
       "      <td>DT @georgegalloway: RT @Galloway4Mayor: ÛÏThe...</td>\n",
       "      <td>1</td>\n",
       "    </tr>\n",
       "    <tr>\n",
       "      <th>132</th>\n",
       "      <td>191</td>\n",
       "      <td>aftershock</td>\n",
       "      <td>NaN</td>\n",
       "      <td>Aftershock back to school kick off was great. ...</td>\n",
       "      <td>0</td>\n",
       "    </tr>\n",
       "    <tr>\n",
       "      <th>6845</th>\n",
       "      <td>9810</td>\n",
       "      <td>trauma</td>\n",
       "      <td>Montgomery County, MD</td>\n",
       "      <td>in response to trauma Children of Addicts deve...</td>\n",
       "      <td>0</td>\n",
       "    </tr>\n",
       "  </tbody>\n",
       "</table>\n",
       "</div>"
      ],
      "text/plain": [
       "        id      keyword               location  \\\n",
       "2644  3796  destruction                    NaN   \n",
       "2227  3185       deluge                    NaN   \n",
       "5448  7769       police                     UK   \n",
       "132    191   aftershock                    NaN   \n",
       "6845  9810       trauma  Montgomery County, MD   \n",
       "\n",
       "                                                   text  target  \n",
       "2644  So you have a new weapon that can cause un-ima...       1  \n",
       "2227  The f$&amp;@ing things I do for #GISHWHES Just...       0  \n",
       "5448  DT @georgegalloway: RT @Galloway4Mayor: ÛÏThe...       1  \n",
       "132   Aftershock back to school kick off was great. ...       0  \n",
       "6845  in response to trauma Children of Addicts deve...       0  "
      ]
     },
     "execution_count": 19,
     "metadata": {},
     "output_type": "execute_result"
    }
   ],
   "source": [
    "train_df_shuffled = train_df.sample(frac=1, random_state=42)\n",
    "train_df_shuffled.head()"
   ]
  },
  {
   "cell_type": "code",
   "execution_count": 20,
   "id": "2af3d586-79cc-4ab8-80ef-97ba6eae4816",
   "metadata": {},
   "outputs": [
    {
     "name": "stdout",
     "output_type": "stream",
     "text": [
      "Target: 0 (not real disaster)\n",
      "Text:\n",
      "(OFFICIAL VID) &gt; #DoubleCups &gt;&gt; https://t.co/lfKMTZaEkk &gt;&gt; @TrubGME Prod @THISIZBWRIGHT &gt;&gt; #ARMAGEDDON                 .\n",
      "\n",
      "---\n",
      "\n",
      "Target: 0 (not real disaster)\n",
      "Text:\n",
      "Be annihilated for status education mba on behalf of a on easy street careen: eOvm http://t.co/e0pI0c54FF\n",
      "\n",
      "---\n",
      "\n",
      "Target: 1 (real disaster)\n",
      "Text:\n",
      "@Truly_Stings Yo Dm me\n",
      "\n",
      "---\n",
      "\n",
      "Target: 0 (not real disaster)\n",
      "Text:\n",
      "#KCA #VoteJKT48ID DUCKVILLELOL: Burning flips the table and says 'screw this lets hit some buildings!' Grabs a DR Û_ http://t.co/03L7NwQDje\n",
      "\n",
      "---\n",
      "\n",
      "Target: 1 (real disaster)\n",
      "Text:\n",
      "?#FUKUSHIMA?#TEPCO?\n",
      "Mountains of debris from the Japanese tsunami have floated to the West Coast\n",
      "http://t.co/y518jYrZav\n",
      "\n",
      "---\n",
      "\n"
     ]
    }
   ],
   "source": [
    "import random\n",
    "random_index = random.randint(0, len(train_df)-5)\n",
    "for row in train_df_shuffled[['text', 'target']][random_index:random_index+5].itertuples():\n",
    "    _, text, target = row\n",
    "    print(f\"Target: {target}\", \"(real disaster)\" if target > 0 else \"(not real disaster)\")\n",
    "    print(f\"Text:\\n{text}\\n\")\n",
    "    print(\"---\\n\")"
   ]
  },
  {
   "cell_type": "code",
   "execution_count": 21,
   "id": "cbab8e66-c1b1-4ef6-aaae-41c87217e4be",
   "metadata": {},
   "outputs": [],
   "source": [
    "from sklearn.model_selection import train_test_split\n",
    "\n",
    "train_sentences, val_sentences, train_labels, val_labels = train_test_split(train_df_shuffled[\"text\"].to_numpy(),\n",
    "                                                                            train_df_shuffled[\"target\"].to_numpy(),\n",
    "                                                                            test_size=0.1,\n",
    "                                                                            random_state=42)"
   ]
  },
  {
   "cell_type": "code",
   "execution_count": 22,
   "id": "296c9df1-2d4c-448a-873e-5443ac24e006",
   "metadata": {},
   "outputs": [
    {
     "data": {
      "text/plain": [
       "(6851, 6851, 762, 762)"
      ]
     },
     "execution_count": 22,
     "metadata": {},
     "output_type": "execute_result"
    }
   ],
   "source": [
    "len(train_sentences), len(train_labels), len(val_sentences), len(val_labels)"
   ]
  },
  {
   "cell_type": "markdown",
   "id": "a8c977ce-ba7d-4180-9ac3-1f00639f8864",
   "metadata": {},
   "source": [
    "## Text vectorization (tokenization)"
   ]
  },
  {
   "cell_type": "code",
   "execution_count": 23,
   "id": "367d5d82-16b1-4ca1-b43c-27f47e72b9f4",
   "metadata": {},
   "outputs": [],
   "source": [
    "import tensorflow as tf\n",
    "from tensorflow.keras.layers import TextVectorization\n",
    " \n",
    "max_vocab_length = 10000\n",
    "max_length = 15\n",
    " \n",
    "text_vectorizer = TextVectorization(max_tokens=max_vocab_length,\n",
    "                                    standardize=\"lower_and_strip_punctuation\",\n",
    "                                    split=\"whitespace\",\n",
    "                                    ngrams=None, \n",
    "                                    output_mode=\"int\", \n",
    "                                    output_sequence_length=max_length, \n",
    "                                    pad_to_max_tokens=True)"
   ]
  },
  {
   "cell_type": "code",
   "execution_count": 24,
   "id": "325c5779-d6d0-4642-af29-43e52c7116e3",
   "metadata": {},
   "outputs": [
    {
     "data": {
      "text/plain": [
       "15"
      ]
     },
     "execution_count": 24,
     "metadata": {},
     "output_type": "execute_result"
    }
   ],
   "source": [
    "round(sum([len(i.split()) for i in train_sentences])/len(train_sentences))"
   ]
  },
  {
   "cell_type": "code",
   "execution_count": 25,
   "id": "78eb3819-7e9c-4bb1-aa3b-6dab2ca507b8",
   "metadata": {},
   "outputs": [],
   "source": [
    "text_vectorizer = TextVectorization(max_tokens=max_vocab_length,\n",
    "                                    output_mode=\"int\", \n",
    "                                    output_sequence_length=max_length)"
   ]
  },
  {
   "cell_type": "code",
   "execution_count": 26,
   "id": "a5a854ca-4de7-43aa-b491-b5737ce69919",
   "metadata": {},
   "outputs": [],
   "source": [
    "text_vectorizer.adapt(train_sentences)"
   ]
  },
  {
   "cell_type": "code",
   "execution_count": 27,
   "id": "4468e703-db8c-4d7b-ae17-466a2171cdaf",
   "metadata": {},
   "outputs": [
    {
     "data": {
      "text/plain": [
       "<tf.Tensor: shape=(1, 15), dtype=int64, numpy=\n",
       "array([[264,   3, 232,   4,  13, 698,   0,   0,   0,   0,   0,   0,   0,\n",
       "          0,   0]], dtype=int64)>"
      ]
     },
     "execution_count": 27,
     "metadata": {},
     "output_type": "execute_result"
    }
   ],
   "source": [
    "# tokenize a sample sentence\n",
    "sample_sentence = \"there's a flood in my street\"\n",
    "text_vectorizer([sample_sentence])"
   ]
  },
  {
   "cell_type": "code",
   "execution_count": 28,
   "id": "a304c305-116f-4373-a270-3f8495e2a180",
   "metadata": {},
   "outputs": [
    {
     "name": "stdout",
     "output_type": "stream",
     "text": [
      "Original text:\n",
      "When bae soak you in mudslide at backroom???? #thisiswhywecanthavenicethings http://t.co/kgxNwzIUxd      \n",
      "\n",
      "Vectorized version:\n"
     ]
    },
    {
     "data": {
      "text/plain": [
       "<tf.Tensor: shape=(1, 15), dtype=int64, numpy=\n",
       "array([[  45,    1, 4588,   12,    4,  456,   17,    1, 4426,    1,    0,\n",
       "           0,    0,    0,    0]], dtype=int64)>"
      ]
     },
     "execution_count": 28,
     "metadata": {},
     "output_type": "execute_result"
    }
   ],
   "source": [
    "# tokenize random sentence\n",
    "random_sentence = random.choice(train_sentences)\n",
    "print(f\"Original text:\\n{random_sentence}\\\n",
    "      \\n\\nVectorized version:\")\n",
    "text_vectorizer([random_sentence])"
   ]
  },
  {
   "cell_type": "code",
   "execution_count": 29,
   "id": "e8e537ee-2157-4cac-8017-e7076a64c921",
   "metadata": {},
   "outputs": [
    {
     "name": "stdout",
     "output_type": "stream",
     "text": [
      "Number of words in vocab: 10000\n",
      "Top 5 most common words: ['', '[UNK]', 'the', 'a', 'in']\n",
      "Bottom 5 least common words: ['pages', 'paeds', 'pads', 'padres', 'paddytomlinson1']\n"
     ]
    }
   ],
   "source": [
    "# Get the unique words in the vocabulary\n",
    "words_in_vocab = text_vectorizer.get_vocabulary()\n",
    "top_5_words = words_in_vocab[:5] # most common tokens (notice the [UNK] token for \"unknown\" words)\n",
    "bottom_5_words = words_in_vocab[-5:] # least common tokens\n",
    "print(f\"Number of words in vocab: {len(words_in_vocab)}\")\n",
    "print(f\"Top 5 most common words: {top_5_words}\") \n",
    "print(f\"Bottom 5 least common words: {bottom_5_words}\")"
   ]
  },
  {
   "cell_type": "markdown",
   "id": "8ffadf53-5814-4bd4-822a-260b707e3555",
   "metadata": {},
   "source": [
    "## Creating an Embedding layer"
   ]
  },
  {
   "cell_type": "code",
   "execution_count": 30,
   "id": "94c8a24e-243f-44a0-b04a-41bf95d3f48d",
   "metadata": {},
   "outputs": [
    {
     "data": {
      "text/plain": [
       "<keras.layers.core.embedding.Embedding at 0x17160ac20e0>"
      ]
     },
     "execution_count": 30,
     "metadata": {},
     "output_type": "execute_result"
    }
   ],
   "source": [
    "from tensorflow.keras.layers import Embedding\n",
    "\n",
    "embedding = Embedding(input_dim=max_vocab_length,\n",
    "                      output_dim=128,\n",
    "                      input_length=max_length)\n",
    "\n",
    "embedding"
   ]
  },
  {
   "cell_type": "code",
   "execution_count": 31,
   "id": "f2ccd1d1-6b83-4486-85dc-7f5f7dabb105",
   "metadata": {},
   "outputs": [
    {
     "name": "stdout",
     "output_type": "stream",
     "text": [
      "Original text:\n",
      "Islamic State claims suicide bombing at Saudi Arabian mosque: Ten members of emergency service... http://t.co/mpOaEFQl6k via @josephjett      \n",
      "\n",
      "Embedded version:\n"
     ]
    },
    {
     "data": {
      "text/plain": [
       "<tf.Tensor: shape=(1, 15, 128), dtype=float32, numpy=\n",
       "array([[[ 4.3670509e-02, -3.0868538e-03, -4.0889014e-02, ...,\n",
       "          6.8666786e-04, -5.6857355e-03,  3.7903238e-02],\n",
       "        [-4.3002833e-02, -1.4087189e-02,  6.1765313e-06, ...,\n",
       "          1.8792998e-02,  2.2570003e-02, -3.1424761e-03],\n",
       "        [ 2.0401526e-02,  4.4217888e-02,  1.0533202e-02, ...,\n",
       "          2.9162910e-02,  4.7274102e-02, -4.8522998e-02],\n",
       "        ...,\n",
       "        [ 2.9482510e-02,  2.2282269e-02, -2.9554391e-02, ...,\n",
       "          4.1148175e-02, -2.0562196e-02,  1.3971832e-02],\n",
       "        [-3.7512459e-02,  3.4696106e-02,  3.7446771e-02, ...,\n",
       "         -3.6577273e-02,  4.8477639e-02,  3.2023583e-02],\n",
       "        [ 1.4202129e-02, -2.1625340e-02,  4.9643446e-02, ...,\n",
       "          2.1561194e-02, -3.0340422e-02, -4.2540219e-02]]], dtype=float32)>"
      ]
     },
     "execution_count": 31,
     "metadata": {},
     "output_type": "execute_result"
    }
   ],
   "source": [
    "random_sentence = random.choice(train_sentences)\n",
    "print(f\"Original text:\\n{random_sentence}\\\n",
    "      \\n\\nEmbedded version:\")\n",
    "\n",
    "# Embed the random sentence (turn it into numerical representation)\n",
    "sample_embed = embedding(text_vectorizer([random_sentence]))\n",
    "sample_embed"
   ]
  },
  {
   "cell_type": "code",
   "execution_count": 32,
   "id": "bcf0191e-ca68-44b6-b5e6-b79611c20fe2",
   "metadata": {},
   "outputs": [
    {
     "data": {
      "text/plain": [
       "(<tf.Tensor: shape=(15, 128), dtype=float32, numpy=\n",
       " array([[ 4.3670509e-02, -3.0868538e-03, -4.0889014e-02, ...,\n",
       "          6.8666786e-04, -5.6857355e-03,  3.7903238e-02],\n",
       "        [-4.3002833e-02, -1.4087189e-02,  6.1765313e-06, ...,\n",
       "          1.8792998e-02,  2.2570003e-02, -3.1424761e-03],\n",
       "        [ 2.0401526e-02,  4.4217888e-02,  1.0533202e-02, ...,\n",
       "          2.9162910e-02,  4.7274102e-02, -4.8522998e-02],\n",
       "        ...,\n",
       "        [ 2.9482510e-02,  2.2282269e-02, -2.9554391e-02, ...,\n",
       "          4.1148175e-02, -2.0562196e-02,  1.3971832e-02],\n",
       "        [-3.7512459e-02,  3.4696106e-02,  3.7446771e-02, ...,\n",
       "         -3.6577273e-02,  4.8477639e-02,  3.2023583e-02],\n",
       "        [ 1.4202129e-02, -2.1625340e-02,  4.9643446e-02, ...,\n",
       "          2.1561194e-02, -3.0340422e-02, -4.2540219e-02]], dtype=float32)>,\n",
       " TensorShape([15, 128]),\n",
       " 'Islamic State claims suicide bombing at Saudi Arabian mosque: Ten members of emergency service... http://t.co/mpOaEFQl6k via @josephjett')"
      ]
     },
     "execution_count": 32,
     "metadata": {},
     "output_type": "execute_result"
    }
   ],
   "source": [
    "sample_embed[0], sample_embed[0].shape, random_sentence"
   ]
  },
  {
   "cell_type": "markdown",
   "id": "981393c9-f904-46a8-935f-30645cab2644",
   "metadata": {},
   "source": [
    "## Modelling a text datasetning data"
   ]
  },
  {
   "cell_type": "markdown",
   "id": "ea9c108b-809f-40b2-a274-d93c89963177",
   "metadata": {},
   "source": [
    "* Model 0: Naive Bayes (baseline)\n",
    "* Model 1: Feed-forward neural network (dense model)\n",
    "* Model 2: LSTM model\n",
    "* Model 3: GRU model\n",
    "* Model 4: Bidirectional-LSTM model\n",
    "* Model 5: 1D Convolutional Neural Network\n",
    "* Model 6: TensorFlow Hub Pretrained Feature Extractor\n",
    "* Model 7: Same as model 6 with 10% of training data\n",
    "\n",
    "> CREATE\n",
    "\n",
    "> BUILD\n",
    "\n",
    "> FIT\n",
    "\n",
    "> EVALUTE"
   ]
  },
  {
   "cell_type": "markdown",
   "id": "9d7634fa-8cf0-4b12-a780-ef021301ecc4",
   "metadata": {},
   "source": [
    "### Model 0 : Naive Bayes (baseline)"
   ]
  },
  {
   "cell_type": "code",
   "execution_count": 33,
   "id": "90bc64c2-2bb1-4a6c-898d-ae8f4faa6b82",
   "metadata": {},
   "outputs": [
    {
     "data": {
      "text/html": [
       "<style>#sk-container-id-1 {\n",
       "  /* Definition of color scheme common for light and dark mode */\n",
       "  --sklearn-color-text: black;\n",
       "  --sklearn-color-line: gray;\n",
       "  /* Definition of color scheme for unfitted estimators */\n",
       "  --sklearn-color-unfitted-level-0: #fff5e6;\n",
       "  --sklearn-color-unfitted-level-1: #f6e4d2;\n",
       "  --sklearn-color-unfitted-level-2: #ffe0b3;\n",
       "  --sklearn-color-unfitted-level-3: chocolate;\n",
       "  /* Definition of color scheme for fitted estimators */\n",
       "  --sklearn-color-fitted-level-0: #f0f8ff;\n",
       "  --sklearn-color-fitted-level-1: #d4ebff;\n",
       "  --sklearn-color-fitted-level-2: #b3dbfd;\n",
       "  --sklearn-color-fitted-level-3: cornflowerblue;\n",
       "\n",
       "  /* Specific color for light theme */\n",
       "  --sklearn-color-text-on-default-background: var(--sg-text-color, var(--theme-code-foreground, var(--jp-content-font-color1, black)));\n",
       "  --sklearn-color-background: var(--sg-background-color, var(--theme-background, var(--jp-layout-color0, white)));\n",
       "  --sklearn-color-border-box: var(--sg-text-color, var(--theme-code-foreground, var(--jp-content-font-color1, black)));\n",
       "  --sklearn-color-icon: #696969;\n",
       "\n",
       "  @media (prefers-color-scheme: dark) {\n",
       "    /* Redefinition of color scheme for dark theme */\n",
       "    --sklearn-color-text-on-default-background: var(--sg-text-color, var(--theme-code-foreground, var(--jp-content-font-color1, white)));\n",
       "    --sklearn-color-background: var(--sg-background-color, var(--theme-background, var(--jp-layout-color0, #111)));\n",
       "    --sklearn-color-border-box: var(--sg-text-color, var(--theme-code-foreground, var(--jp-content-font-color1, white)));\n",
       "    --sklearn-color-icon: #878787;\n",
       "  }\n",
       "}\n",
       "\n",
       "#sk-container-id-1 {\n",
       "  color: var(--sklearn-color-text);\n",
       "}\n",
       "\n",
       "#sk-container-id-1 pre {\n",
       "  padding: 0;\n",
       "}\n",
       "\n",
       "#sk-container-id-1 input.sk-hidden--visually {\n",
       "  border: 0;\n",
       "  clip: rect(1px 1px 1px 1px);\n",
       "  clip: rect(1px, 1px, 1px, 1px);\n",
       "  height: 1px;\n",
       "  margin: -1px;\n",
       "  overflow: hidden;\n",
       "  padding: 0;\n",
       "  position: absolute;\n",
       "  width: 1px;\n",
       "}\n",
       "\n",
       "#sk-container-id-1 div.sk-dashed-wrapped {\n",
       "  border: 1px dashed var(--sklearn-color-line);\n",
       "  margin: 0 0.4em 0.5em 0.4em;\n",
       "  box-sizing: border-box;\n",
       "  padding-bottom: 0.4em;\n",
       "  background-color: var(--sklearn-color-background);\n",
       "}\n",
       "\n",
       "#sk-container-id-1 div.sk-container {\n",
       "  /* jupyter's `normalize.less` sets `[hidden] { display: none; }`\n",
       "     but bootstrap.min.css set `[hidden] { display: none !important; }`\n",
       "     so we also need the `!important` here to be able to override the\n",
       "     default hidden behavior on the sphinx rendered scikit-learn.org.\n",
       "     See: https://github.com/scikit-learn/scikit-learn/issues/21755 */\n",
       "  display: inline-block !important;\n",
       "  position: relative;\n",
       "}\n",
       "\n",
       "#sk-container-id-1 div.sk-text-repr-fallback {\n",
       "  display: none;\n",
       "}\n",
       "\n",
       "div.sk-parallel-item,\n",
       "div.sk-serial,\n",
       "div.sk-item {\n",
       "  /* draw centered vertical line to link estimators */\n",
       "  background-image: linear-gradient(var(--sklearn-color-text-on-default-background), var(--sklearn-color-text-on-default-background));\n",
       "  background-size: 2px 100%;\n",
       "  background-repeat: no-repeat;\n",
       "  background-position: center center;\n",
       "}\n",
       "\n",
       "/* Parallel-specific style estimator block */\n",
       "\n",
       "#sk-container-id-1 div.sk-parallel-item::after {\n",
       "  content: \"\";\n",
       "  width: 100%;\n",
       "  border-bottom: 2px solid var(--sklearn-color-text-on-default-background);\n",
       "  flex-grow: 1;\n",
       "}\n",
       "\n",
       "#sk-container-id-1 div.sk-parallel {\n",
       "  display: flex;\n",
       "  align-items: stretch;\n",
       "  justify-content: center;\n",
       "  background-color: var(--sklearn-color-background);\n",
       "  position: relative;\n",
       "}\n",
       "\n",
       "#sk-container-id-1 div.sk-parallel-item {\n",
       "  display: flex;\n",
       "  flex-direction: column;\n",
       "}\n",
       "\n",
       "#sk-container-id-1 div.sk-parallel-item:first-child::after {\n",
       "  align-self: flex-end;\n",
       "  width: 50%;\n",
       "}\n",
       "\n",
       "#sk-container-id-1 div.sk-parallel-item:last-child::after {\n",
       "  align-self: flex-start;\n",
       "  width: 50%;\n",
       "}\n",
       "\n",
       "#sk-container-id-1 div.sk-parallel-item:only-child::after {\n",
       "  width: 0;\n",
       "}\n",
       "\n",
       "/* Serial-specific style estimator block */\n",
       "\n",
       "#sk-container-id-1 div.sk-serial {\n",
       "  display: flex;\n",
       "  flex-direction: column;\n",
       "  align-items: center;\n",
       "  background-color: var(--sklearn-color-background);\n",
       "  padding-right: 1em;\n",
       "  padding-left: 1em;\n",
       "}\n",
       "\n",
       "\n",
       "/* Toggleable style: style used for estimator/Pipeline/ColumnTransformer box that is\n",
       "clickable and can be expanded/collapsed.\n",
       "- Pipeline and ColumnTransformer use this feature and define the default style\n",
       "- Estimators will overwrite some part of the style using the `sk-estimator` class\n",
       "*/\n",
       "\n",
       "/* Pipeline and ColumnTransformer style (default) */\n",
       "\n",
       "#sk-container-id-1 div.sk-toggleable {\n",
       "  /* Default theme specific background. It is overwritten whether we have a\n",
       "  specific estimator or a Pipeline/ColumnTransformer */\n",
       "  background-color: var(--sklearn-color-background);\n",
       "}\n",
       "\n",
       "/* Toggleable label */\n",
       "#sk-container-id-1 label.sk-toggleable__label {\n",
       "  cursor: pointer;\n",
       "  display: block;\n",
       "  width: 100%;\n",
       "  margin-bottom: 0;\n",
       "  padding: 0.5em;\n",
       "  box-sizing: border-box;\n",
       "  text-align: center;\n",
       "}\n",
       "\n",
       "#sk-container-id-1 label.sk-toggleable__label-arrow:before {\n",
       "  /* Arrow on the left of the label */\n",
       "  content: \"▸\";\n",
       "  float: left;\n",
       "  margin-right: 0.25em;\n",
       "  color: var(--sklearn-color-icon);\n",
       "}\n",
       "\n",
       "#sk-container-id-1 label.sk-toggleable__label-arrow:hover:before {\n",
       "  color: var(--sklearn-color-text);\n",
       "}\n",
       "\n",
       "/* Toggleable content - dropdown */\n",
       "\n",
       "#sk-container-id-1 div.sk-toggleable__content {\n",
       "  max-height: 0;\n",
       "  max-width: 0;\n",
       "  overflow: hidden;\n",
       "  text-align: left;\n",
       "  /* unfitted */\n",
       "  background-color: var(--sklearn-color-unfitted-level-0);\n",
       "}\n",
       "\n",
       "#sk-container-id-1 div.sk-toggleable__content.fitted {\n",
       "  /* fitted */\n",
       "  background-color: var(--sklearn-color-fitted-level-0);\n",
       "}\n",
       "\n",
       "#sk-container-id-1 div.sk-toggleable__content pre {\n",
       "  margin: 0.2em;\n",
       "  border-radius: 0.25em;\n",
       "  color: var(--sklearn-color-text);\n",
       "  /* unfitted */\n",
       "  background-color: var(--sklearn-color-unfitted-level-0);\n",
       "}\n",
       "\n",
       "#sk-container-id-1 div.sk-toggleable__content.fitted pre {\n",
       "  /* unfitted */\n",
       "  background-color: var(--sklearn-color-fitted-level-0);\n",
       "}\n",
       "\n",
       "#sk-container-id-1 input.sk-toggleable__control:checked~div.sk-toggleable__content {\n",
       "  /* Expand drop-down */\n",
       "  max-height: 200px;\n",
       "  max-width: 100%;\n",
       "  overflow: auto;\n",
       "}\n",
       "\n",
       "#sk-container-id-1 input.sk-toggleable__control:checked~label.sk-toggleable__label-arrow:before {\n",
       "  content: \"▾\";\n",
       "}\n",
       "\n",
       "/* Pipeline/ColumnTransformer-specific style */\n",
       "\n",
       "#sk-container-id-1 div.sk-label input.sk-toggleable__control:checked~label.sk-toggleable__label {\n",
       "  color: var(--sklearn-color-text);\n",
       "  background-color: var(--sklearn-color-unfitted-level-2);\n",
       "}\n",
       "\n",
       "#sk-container-id-1 div.sk-label.fitted input.sk-toggleable__control:checked~label.sk-toggleable__label {\n",
       "  background-color: var(--sklearn-color-fitted-level-2);\n",
       "}\n",
       "\n",
       "/* Estimator-specific style */\n",
       "\n",
       "/* Colorize estimator box */\n",
       "#sk-container-id-1 div.sk-estimator input.sk-toggleable__control:checked~label.sk-toggleable__label {\n",
       "  /* unfitted */\n",
       "  background-color: var(--sklearn-color-unfitted-level-2);\n",
       "}\n",
       "\n",
       "#sk-container-id-1 div.sk-estimator.fitted input.sk-toggleable__control:checked~label.sk-toggleable__label {\n",
       "  /* fitted */\n",
       "  background-color: var(--sklearn-color-fitted-level-2);\n",
       "}\n",
       "\n",
       "#sk-container-id-1 div.sk-label label.sk-toggleable__label,\n",
       "#sk-container-id-1 div.sk-label label {\n",
       "  /* The background is the default theme color */\n",
       "  color: var(--sklearn-color-text-on-default-background);\n",
       "}\n",
       "\n",
       "/* On hover, darken the color of the background */\n",
       "#sk-container-id-1 div.sk-label:hover label.sk-toggleable__label {\n",
       "  color: var(--sklearn-color-text);\n",
       "  background-color: var(--sklearn-color-unfitted-level-2);\n",
       "}\n",
       "\n",
       "/* Label box, darken color on hover, fitted */\n",
       "#sk-container-id-1 div.sk-label.fitted:hover label.sk-toggleable__label.fitted {\n",
       "  color: var(--sklearn-color-text);\n",
       "  background-color: var(--sklearn-color-fitted-level-2);\n",
       "}\n",
       "\n",
       "/* Estimator label */\n",
       "\n",
       "#sk-container-id-1 div.sk-label label {\n",
       "  font-family: monospace;\n",
       "  font-weight: bold;\n",
       "  display: inline-block;\n",
       "  line-height: 1.2em;\n",
       "}\n",
       "\n",
       "#sk-container-id-1 div.sk-label-container {\n",
       "  text-align: center;\n",
       "}\n",
       "\n",
       "/* Estimator-specific */\n",
       "#sk-container-id-1 div.sk-estimator {\n",
       "  font-family: monospace;\n",
       "  border: 1px dotted var(--sklearn-color-border-box);\n",
       "  border-radius: 0.25em;\n",
       "  box-sizing: border-box;\n",
       "  margin-bottom: 0.5em;\n",
       "  /* unfitted */\n",
       "  background-color: var(--sklearn-color-unfitted-level-0);\n",
       "}\n",
       "\n",
       "#sk-container-id-1 div.sk-estimator.fitted {\n",
       "  /* fitted */\n",
       "  background-color: var(--sklearn-color-fitted-level-0);\n",
       "}\n",
       "\n",
       "/* on hover */\n",
       "#sk-container-id-1 div.sk-estimator:hover {\n",
       "  /* unfitted */\n",
       "  background-color: var(--sklearn-color-unfitted-level-2);\n",
       "}\n",
       "\n",
       "#sk-container-id-1 div.sk-estimator.fitted:hover {\n",
       "  /* fitted */\n",
       "  background-color: var(--sklearn-color-fitted-level-2);\n",
       "}\n",
       "\n",
       "/* Specification for estimator info (e.g. \"i\" and \"?\") */\n",
       "\n",
       "/* Common style for \"i\" and \"?\" */\n",
       "\n",
       ".sk-estimator-doc-link,\n",
       "a:link.sk-estimator-doc-link,\n",
       "a:visited.sk-estimator-doc-link {\n",
       "  float: right;\n",
       "  font-size: smaller;\n",
       "  line-height: 1em;\n",
       "  font-family: monospace;\n",
       "  background-color: var(--sklearn-color-background);\n",
       "  border-radius: 1em;\n",
       "  height: 1em;\n",
       "  width: 1em;\n",
       "  text-decoration: none !important;\n",
       "  margin-left: 1ex;\n",
       "  /* unfitted */\n",
       "  border: var(--sklearn-color-unfitted-level-1) 1pt solid;\n",
       "  color: var(--sklearn-color-unfitted-level-1);\n",
       "}\n",
       "\n",
       ".sk-estimator-doc-link.fitted,\n",
       "a:link.sk-estimator-doc-link.fitted,\n",
       "a:visited.sk-estimator-doc-link.fitted {\n",
       "  /* fitted */\n",
       "  border: var(--sklearn-color-fitted-level-1) 1pt solid;\n",
       "  color: var(--sklearn-color-fitted-level-1);\n",
       "}\n",
       "\n",
       "/* On hover */\n",
       "div.sk-estimator:hover .sk-estimator-doc-link:hover,\n",
       ".sk-estimator-doc-link:hover,\n",
       "div.sk-label-container:hover .sk-estimator-doc-link:hover,\n",
       ".sk-estimator-doc-link:hover {\n",
       "  /* unfitted */\n",
       "  background-color: var(--sklearn-color-unfitted-level-3);\n",
       "  color: var(--sklearn-color-background);\n",
       "  text-decoration: none;\n",
       "}\n",
       "\n",
       "div.sk-estimator.fitted:hover .sk-estimator-doc-link.fitted:hover,\n",
       ".sk-estimator-doc-link.fitted:hover,\n",
       "div.sk-label-container:hover .sk-estimator-doc-link.fitted:hover,\n",
       ".sk-estimator-doc-link.fitted:hover {\n",
       "  /* fitted */\n",
       "  background-color: var(--sklearn-color-fitted-level-3);\n",
       "  color: var(--sklearn-color-background);\n",
       "  text-decoration: none;\n",
       "}\n",
       "\n",
       "/* Span, style for the box shown on hovering the info icon */\n",
       ".sk-estimator-doc-link span {\n",
       "  display: none;\n",
       "  z-index: 9999;\n",
       "  position: relative;\n",
       "  font-weight: normal;\n",
       "  right: .2ex;\n",
       "  padding: .5ex;\n",
       "  margin: .5ex;\n",
       "  width: min-content;\n",
       "  min-width: 20ex;\n",
       "  max-width: 50ex;\n",
       "  color: var(--sklearn-color-text);\n",
       "  box-shadow: 2pt 2pt 4pt #999;\n",
       "  /* unfitted */\n",
       "  background: var(--sklearn-color-unfitted-level-0);\n",
       "  border: .5pt solid var(--sklearn-color-unfitted-level-3);\n",
       "}\n",
       "\n",
       ".sk-estimator-doc-link.fitted span {\n",
       "  /* fitted */\n",
       "  background: var(--sklearn-color-fitted-level-0);\n",
       "  border: var(--sklearn-color-fitted-level-3);\n",
       "}\n",
       "\n",
       ".sk-estimator-doc-link:hover span {\n",
       "  display: block;\n",
       "}\n",
       "\n",
       "/* \"?\"-specific style due to the `<a>` HTML tag */\n",
       "\n",
       "#sk-container-id-1 a.estimator_doc_link {\n",
       "  float: right;\n",
       "  font-size: 1rem;\n",
       "  line-height: 1em;\n",
       "  font-family: monospace;\n",
       "  background-color: var(--sklearn-color-background);\n",
       "  border-radius: 1rem;\n",
       "  height: 1rem;\n",
       "  width: 1rem;\n",
       "  text-decoration: none;\n",
       "  /* unfitted */\n",
       "  color: var(--sklearn-color-unfitted-level-1);\n",
       "  border: var(--sklearn-color-unfitted-level-1) 1pt solid;\n",
       "}\n",
       "\n",
       "#sk-container-id-1 a.estimator_doc_link.fitted {\n",
       "  /* fitted */\n",
       "  border: var(--sklearn-color-fitted-level-1) 1pt solid;\n",
       "  color: var(--sklearn-color-fitted-level-1);\n",
       "}\n",
       "\n",
       "/* On hover */\n",
       "#sk-container-id-1 a.estimator_doc_link:hover {\n",
       "  /* unfitted */\n",
       "  background-color: var(--sklearn-color-unfitted-level-3);\n",
       "  color: var(--sklearn-color-background);\n",
       "  text-decoration: none;\n",
       "}\n",
       "\n",
       "#sk-container-id-1 a.estimator_doc_link.fitted:hover {\n",
       "  /* fitted */\n",
       "  background-color: var(--sklearn-color-fitted-level-3);\n",
       "}\n",
       "</style><div id=\"sk-container-id-1\" class=\"sk-top-container\"><div class=\"sk-text-repr-fallback\"><pre>Pipeline(steps=[(&#x27;tfidf&#x27;, TfidfVectorizer()), (&#x27;clf&#x27;, MultinomialNB())])</pre><b>In a Jupyter environment, please rerun this cell to show the HTML representation or trust the notebook. <br />On GitHub, the HTML representation is unable to render, please try loading this page with nbviewer.org.</b></div><div class=\"sk-container\" hidden><div class=\"sk-item sk-dashed-wrapped\"><div class=\"sk-label-container\"><div class=\"sk-label fitted sk-toggleable\"><input class=\"sk-toggleable__control sk-hidden--visually\" id=\"sk-estimator-id-1\" type=\"checkbox\" ><label for=\"sk-estimator-id-1\" class=\"sk-toggleable__label fitted sk-toggleable__label-arrow fitted\">&nbsp;&nbsp;Pipeline<a class=\"sk-estimator-doc-link fitted\" rel=\"noreferrer\" target=\"_blank\" href=\"https://scikit-learn.org/1.4/modules/generated/sklearn.pipeline.Pipeline.html\">?<span>Documentation for Pipeline</span></a><span class=\"sk-estimator-doc-link fitted\">i<span>Fitted</span></span></label><div class=\"sk-toggleable__content fitted\"><pre>Pipeline(steps=[(&#x27;tfidf&#x27;, TfidfVectorizer()), (&#x27;clf&#x27;, MultinomialNB())])</pre></div> </div></div><div class=\"sk-serial\"><div class=\"sk-item\"><div class=\"sk-estimator fitted sk-toggleable\"><input class=\"sk-toggleable__control sk-hidden--visually\" id=\"sk-estimator-id-2\" type=\"checkbox\" ><label for=\"sk-estimator-id-2\" class=\"sk-toggleable__label fitted sk-toggleable__label-arrow fitted\">&nbsp;TfidfVectorizer<a class=\"sk-estimator-doc-link fitted\" rel=\"noreferrer\" target=\"_blank\" href=\"https://scikit-learn.org/1.4/modules/generated/sklearn.feature_extraction.text.TfidfVectorizer.html\">?<span>Documentation for TfidfVectorizer</span></a></label><div class=\"sk-toggleable__content fitted\"><pre>TfidfVectorizer()</pre></div> </div></div><div class=\"sk-item\"><div class=\"sk-estimator fitted sk-toggleable\"><input class=\"sk-toggleable__control sk-hidden--visually\" id=\"sk-estimator-id-3\" type=\"checkbox\" ><label for=\"sk-estimator-id-3\" class=\"sk-toggleable__label fitted sk-toggleable__label-arrow fitted\">&nbsp;MultinomialNB<a class=\"sk-estimator-doc-link fitted\" rel=\"noreferrer\" target=\"_blank\" href=\"https://scikit-learn.org/1.4/modules/generated/sklearn.naive_bayes.MultinomialNB.html\">?<span>Documentation for MultinomialNB</span></a></label><div class=\"sk-toggleable__content fitted\"><pre>MultinomialNB()</pre></div> </div></div></div></div></div></div>"
      ],
      "text/plain": [
       "Pipeline(steps=[('tfidf', TfidfVectorizer()), ('clf', MultinomialNB())])"
      ]
     },
     "execution_count": 33,
     "metadata": {},
     "output_type": "execute_result"
    }
   ],
   "source": [
    "from sklearn.feature_extraction.text import TfidfVectorizer\n",
    "from sklearn.naive_bayes import MultinomialNB\n",
    "from sklearn.pipeline import Pipeline\n",
    "\n",
    "model_0 = Pipeline([\n",
    "    ('tfidf', TfidfVectorizer()),\n",
    "    ('clf', MultinomialNB()),\n",
    "])\n",
    "\n",
    "model_0.fit(train_sentences, train_labels)"
   ]
  },
  {
   "cell_type": "code",
   "execution_count": 34,
   "id": "8a4eedbe-70ab-4b29-aecd-7a3afa462dba",
   "metadata": {},
   "outputs": [
    {
     "name": "stdout",
     "output_type": "stream",
     "text": [
      "Baseline model Accuracy: 79.27%\n"
     ]
    }
   ],
   "source": [
    "# evaluate the model\n",
    "baseline_score = model_0.score(val_sentences, val_labels)\n",
    "print(f\"Baseline model Accuracy: {baseline_score*100:.2f}%\")"
   ]
  },
  {
   "cell_type": "code",
   "execution_count": 35,
   "id": "b8c51066-a50c-46f1-a09b-404487f48529",
   "metadata": {},
   "outputs": [
    {
     "data": {
      "text/plain": [
       "array([1, 1, 1, 0, 0, 1, 1, 1, 1, 0, 0, 1, 0, 0, 0, 0, 0, 0, 0, 1],\n",
       "      dtype=int64)"
      ]
     },
     "execution_count": 35,
     "metadata": {},
     "output_type": "execute_result"
    }
   ],
   "source": [
    "baseline_preds = model_0.predict(val_sentences)\n",
    "baseline_preds[:20]"
   ]
  },
  {
   "cell_type": "code",
   "execution_count": 267,
   "id": "3711b1ba-7c49-494b-a437-c44d9e5bec3d",
   "metadata": {},
   "outputs": [],
   "source": [
    "from sklearn.metrics import accuracy_score, precision_recall_fscore_support\n",
    "\n",
    "def calculate_results(y_true, y_preds):\n",
    "    # accuracy\n",
    "    model_accuracy = accuracy_score(y_true, y_preds)\n",
    "    # Calculate model precision, recall and f1 score using \"weighted\" average\n",
    "    model_precision, model_recall, model_f1, _ = precision_recall_fscore_support(y_true, y_preds, average=\"weighted\")\n",
    "    model_results = {\"accuracy\": model_accuracy,\n",
    "                     \"precision\": model_precision,\n",
    "                     \"recall\": model_recall,\n",
    "                     \"f1\": model_f1}\n",
    "    return model_results"
   ]
  },
  {
   "cell_type": "code",
   "execution_count": 268,
   "id": "94b92099-904c-49d9-bb52-8f3faf80d319",
   "metadata": {},
   "outputs": [
    {
     "data": {
      "text/plain": [
       "{'accuracy': 0.7926509186351706,\n",
       " 'precision': 0.8111390004213173,\n",
       " 'recall': 0.7926509186351706,\n",
       " 'f1': 0.7862189758049549}"
      ]
     },
     "execution_count": 268,
     "metadata": {},
     "output_type": "execute_result"
    }
   ],
   "source": [
    "# get baseline results\n",
    "baseline_results = calculate_results(val_labels, baseline_preds)\n",
    "baseline_results"
   ]
  },
  {
   "cell_type": "markdown",
   "id": "bf5c23e1-7721-44d0-b75d-152478a5a020",
   "metadata": {},
   "source": [
    "### Model 1 : Feed-forward neural network (dense model)"
   ]
  },
  {
   "cell_type": "code",
   "execution_count": 38,
   "id": "9f1dc0fd-2d76-4035-b53f-0caa5ef38f36",
   "metadata": {},
   "outputs": [],
   "source": [
    "from helper_functions import create_tensorboard_callback\n",
    "\n",
    "SAVE_DIR = 'model_logs'"
   ]
  },
  {
   "cell_type": "code",
   "execution_count": 39,
   "id": "82ec39c4-5f46-4287-8a53-4ca13524db5c",
   "metadata": {},
   "outputs": [],
   "source": [
    "from tensorflow.keras import layers\n",
    "inputs = layers.Input(shape=(1,), dtype=tf.string)\n",
    "x = text_vectorizer(inputs)\n",
    "x = embedding(x)\n",
    "x = layers.GlobalAveragePooling1D(name=\"global_avg_pool_layer\")(x)\n",
    "outputs = layers.Dense(1, activation='sigmoid')(x)\n",
    "model_1 = tf.keras.Model(inputs, outputs, name=\"model_1_dense\")"
   ]
  },
  {
   "cell_type": "code",
   "execution_count": 40,
   "id": "4a71e679-e622-459d-be31-f259fa81d5e7",
   "metadata": {},
   "outputs": [
    {
     "name": "stdout",
     "output_type": "stream",
     "text": [
      "Model: \"model_1_dense\"\n",
      "_________________________________________________________________\n",
      " Layer (type)                Output Shape              Param #   \n",
      "=================================================================\n",
      " input_1 (InputLayer)        [(None, 1)]               0         \n",
      "                                                                 \n",
      " text_vectorization_1 (TextV  (None, 15)               0         \n",
      " ectorization)                                                   \n",
      "                                                                 \n",
      " embedding (Embedding)       (None, 15, 128)           1280000   \n",
      "                                                                 \n",
      " global_avg_pool_layer (Glob  (None, 128)              0         \n",
      " alAveragePooling1D)                                             \n",
      "                                                                 \n",
      " dense (Dense)               (None, 1)                 129       \n",
      "                                                                 \n",
      "=================================================================\n",
      "Total params: 1,280,129\n",
      "Trainable params: 1,280,129\n",
      "Non-trainable params: 0\n",
      "_________________________________________________________________\n"
     ]
    }
   ],
   "source": [
    "model_1.summary()"
   ]
  },
  {
   "cell_type": "code",
   "execution_count": 41,
   "id": "e9c68416-de2d-439c-96f5-0f98d291ab01",
   "metadata": {},
   "outputs": [],
   "source": [
    "# compile the model\n",
    "model_1.compile(loss=tf.keras.losses.BinaryCrossentropy(),\n",
    "                optimizer=tf.keras.optimizers.Adam(),\n",
    "                metrics=tf.keras.metrics.Accuracy())"
   ]
  },
  {
   "cell_type": "code",
   "execution_count": 42,
   "id": "643c0542-d446-4093-a7a1-40d5d2cb9963",
   "metadata": {},
   "outputs": [
    {
     "name": "stdout",
     "output_type": "stream",
     "text": [
      "Saving TensorBoard log files to: model_logs/model_1_dense/20241009-113914\n",
      "Epoch 1/100\n",
      "215/215 [==============================] - 3s 11ms/step - loss: 0.6099 - accuracy: 0.0000e+00 - val_loss: 0.5370 - val_accuracy: 0.0000e+00\n",
      "Epoch 2/100\n",
      "215/215 [==============================] - 3s 12ms/step - loss: 0.4401 - accuracy: 0.0000e+00 - val_loss: 0.4711 - val_accuracy: 0.0000e+00\n",
      "Epoch 3/100\n",
      "215/215 [==============================] - 3s 14ms/step - loss: 0.3459 - accuracy: 0.0000e+00 - val_loss: 0.4602 - val_accuracy: 0.0000e+00\n",
      "Epoch 4/100\n",
      "215/215 [==============================] - 3s 13ms/step - loss: 0.2848 - accuracy: 0.0000e+00 - val_loss: 0.4629 - val_accuracy: 0.0000e+00\n",
      "Epoch 5/100\n",
      "215/215 [==============================] - 3s 12ms/step - loss: 0.2382 - accuracy: 0.0000e+00 - val_loss: 0.4824 - val_accuracy: 0.0000e+00\n",
      "Epoch 6/100\n",
      "215/215 [==============================] - 3s 13ms/step - loss: 0.2022 - accuracy: 0.0000e+00 - val_loss: 0.5008 - val_accuracy: 0.0000e+00\n",
      "Epoch 7/100\n",
      "215/215 [==============================] - 3s 13ms/step - loss: 0.1727 - accuracy: 0.0000e+00 - val_loss: 0.5226 - val_accuracy: 0.0000e+00\n",
      "Epoch 8/100\n",
      "215/215 [==============================] - 3s 13ms/step - loss: 0.1500 - accuracy: 0.0000e+00 - val_loss: 0.5459 - val_accuracy: 0.0000e+00\n",
      "Epoch 9/100\n",
      "215/215 [==============================] - 3s 14ms/step - loss: 0.1311 - accuracy: 0.0000e+00 - val_loss: 0.5725 - val_accuracy: 0.0000e+00\n",
      "Epoch 10/100\n",
      "215/215 [==============================] - 2s 11ms/step - loss: 0.1170 - accuracy: 1.4596e-04 - val_loss: 0.6125 - val_accuracy: 0.0000e+00\n",
      "Epoch 11/100\n",
      "215/215 [==============================] - 2s 11ms/step - loss: 0.1044 - accuracy: 0.0012 - val_loss: 0.6421 - val_accuracy: 0.0013\n",
      "Epoch 12/100\n",
      "215/215 [==============================] - 2s 11ms/step - loss: 0.0946 - accuracy: 0.0018 - val_loss: 0.6674 - val_accuracy: 0.0013\n",
      "Epoch 13/100\n",
      "215/215 [==============================] - 2s 11ms/step - loss: 0.0866 - accuracy: 0.0031 - val_loss: 0.7039 - val_accuracy: 0.0013\n",
      "Epoch 14/100\n",
      "215/215 [==============================] - 3s 16ms/step - loss: 0.0805 - accuracy: 0.0061 - val_loss: 0.7346 - val_accuracy: 0.0066\n",
      "Epoch 15/100\n",
      "215/215 [==============================] - 3s 14ms/step - loss: 0.0754 - accuracy: 0.0108 - val_loss: 0.7656 - val_accuracy: 0.0092\n",
      "Epoch 16/100\n",
      "215/215 [==============================] - 2s 12ms/step - loss: 0.0697 - accuracy: 0.0149 - val_loss: 0.7961 - val_accuracy: 0.0118\n",
      "Epoch 17/100\n",
      "215/215 [==============================] - 3s 14ms/step - loss: 0.0664 - accuracy: 0.0182 - val_loss: 0.8305 - val_accuracy: 0.0131\n",
      "Epoch 18/100\n",
      "215/215 [==============================] - 3s 12ms/step - loss: 0.0638 - accuracy: 0.0210 - val_loss: 0.8601 - val_accuracy: 0.0157\n",
      "Epoch 19/100\n",
      "215/215 [==============================] - 2s 12ms/step - loss: 0.0601 - accuracy: 0.0251 - val_loss: 0.8912 - val_accuracy: 0.0223\n",
      "Epoch 20/100\n",
      "215/215 [==============================] - 2s 11ms/step - loss: 0.0583 - accuracy: 0.0292 - val_loss: 0.9195 - val_accuracy: 0.0315\n",
      "Epoch 21/100\n",
      "215/215 [==============================] - 2s 11ms/step - loss: 0.0562 - accuracy: 0.0323 - val_loss: 0.9442 - val_accuracy: 0.0315\n",
      "Epoch 22/100\n",
      "215/215 [==============================] - 2s 11ms/step - loss: 0.0540 - accuracy: 0.0362 - val_loss: 0.9790 - val_accuracy: 0.0328\n",
      "Epoch 23/100\n",
      "215/215 [==============================] - 2s 11ms/step - loss: 0.0532 - accuracy: 0.0415 - val_loss: 1.0102 - val_accuracy: 0.0341\n",
      "Epoch 24/100\n",
      "215/215 [==============================] - 3s 12ms/step - loss: 0.0512 - accuracy: 0.0460 - val_loss: 1.0382 - val_accuracy: 0.0407\n",
      "Epoch 25/100\n",
      "215/215 [==============================] - 2s 12ms/step - loss: 0.0507 - accuracy: 0.0492 - val_loss: 1.0682 - val_accuracy: 0.0394\n",
      "Epoch 26/100\n",
      "215/215 [==============================] - 3s 15ms/step - loss: 0.0471 - accuracy: 0.0496 - val_loss: 1.0909 - val_accuracy: 0.0459\n",
      "Epoch 27/100\n",
      "215/215 [==============================] - 3s 12ms/step - loss: 0.0471 - accuracy: 0.0531 - val_loss: 1.1236 - val_accuracy: 0.0433\n",
      "Epoch 28/100\n",
      "215/215 [==============================] - 3s 16ms/step - loss: 0.0459 - accuracy: 0.0561 - val_loss: 1.1473 - val_accuracy: 0.0472\n",
      "Epoch 29/100\n",
      "215/215 [==============================] - 3s 14ms/step - loss: 0.0462 - accuracy: 0.0566 - val_loss: 1.1793 - val_accuracy: 0.0472\n",
      "Epoch 30/100\n",
      "215/215 [==============================] - 3s 13ms/step - loss: 0.0457 - accuracy: 0.0590 - val_loss: 1.1971 - val_accuracy: 0.0486\n",
      "Epoch 31/100\n",
      "215/215 [==============================] - 3s 12ms/step - loss: 0.0449 - accuracy: 0.0620 - val_loss: 1.2218 - val_accuracy: 0.0486\n",
      "Epoch 32/100\n",
      "215/215 [==============================] - 3s 12ms/step - loss: 0.0444 - accuracy: 0.0644 - val_loss: 1.2395 - val_accuracy: 0.0577\n",
      "Epoch 33/100\n",
      "215/215 [==============================] - 3s 12ms/step - loss: 0.0432 - accuracy: 0.0679 - val_loss: 1.2647 - val_accuracy: 0.0617\n",
      "Epoch 34/100\n",
      "215/215 [==============================] - 3s 12ms/step - loss: 0.0432 - accuracy: 0.0717 - val_loss: 1.2838 - val_accuracy: 0.0617\n",
      "Epoch 35/100\n",
      "215/215 [==============================] - 3s 12ms/step - loss: 0.0422 - accuracy: 0.0741 - val_loss: 1.3020 - val_accuracy: 0.0617\n",
      "Epoch 36/100\n",
      "215/215 [==============================] - 3s 12ms/step - loss: 0.0416 - accuracy: 0.0753 - val_loss: 1.3198 - val_accuracy: 0.0656\n",
      "Epoch 37/100\n",
      "215/215 [==============================] - 3s 12ms/step - loss: 0.0419 - accuracy: 0.0768 - val_loss: 1.3423 - val_accuracy: 0.0656\n",
      "Epoch 38/100\n",
      "215/215 [==============================] - 3s 12ms/step - loss: 0.0416 - accuracy: 0.0784 - val_loss: 1.3553 - val_accuracy: 0.0709\n",
      "Epoch 39/100\n",
      "215/215 [==============================] - 3s 12ms/step - loss: 0.0415 - accuracy: 0.0798 - val_loss: 1.3775 - val_accuracy: 0.0682\n",
      "Epoch 40/100\n",
      "215/215 [==============================] - 3s 12ms/step - loss: 0.0406 - accuracy: 0.0823 - val_loss: 1.3977 - val_accuracy: 0.0682\n",
      "Epoch 41/100\n",
      "215/215 [==============================] - 3s 12ms/step - loss: 0.0406 - accuracy: 0.0807 - val_loss: 1.4033 - val_accuracy: 0.0709\n",
      "Epoch 42/100\n",
      "215/215 [==============================] - 3s 12ms/step - loss: 0.0412 - accuracy: 0.0838 - val_loss: 1.4373 - val_accuracy: 0.0682\n",
      "Epoch 43/100\n",
      "215/215 [==============================] - 3s 12ms/step - loss: 0.0397 - accuracy: 0.0845 - val_loss: 1.4497 - val_accuracy: 0.0722\n",
      "Epoch 44/100\n",
      "215/215 [==============================] - 3s 12ms/step - loss: 0.0393 - accuracy: 0.0863 - val_loss: 1.4629 - val_accuracy: 0.0735\n",
      "Epoch 45/100\n",
      "215/215 [==============================] - 3s 12ms/step - loss: 0.0384 - accuracy: 0.0861 - val_loss: 1.4848 - val_accuracy: 0.0722\n",
      "Epoch 46/100\n",
      "215/215 [==============================] - 3s 12ms/step - loss: 0.0384 - accuracy: 0.0883 - val_loss: 1.4992 - val_accuracy: 0.0761\n",
      "Epoch 47/100\n",
      "215/215 [==============================] - 2s 12ms/step - loss: 0.0379 - accuracy: 0.0901 - val_loss: 1.5232 - val_accuracy: 0.0787\n",
      "Epoch 48/100\n",
      "215/215 [==============================] - 3s 12ms/step - loss: 0.0385 - accuracy: 0.0909 - val_loss: 1.5243 - val_accuracy: 0.0801\n",
      "Epoch 49/100\n",
      "215/215 [==============================] - 3s 13ms/step - loss: 0.0384 - accuracy: 0.0925 - val_loss: 1.5525 - val_accuracy: 0.0787\n",
      "Epoch 50/100\n",
      "215/215 [==============================] - 3s 13ms/step - loss: 0.0377 - accuracy: 0.0912 - val_loss: 1.5562 - val_accuracy: 0.0853\n",
      "Epoch 51/100\n",
      "215/215 [==============================] - 3s 13ms/step - loss: 0.0386 - accuracy: 0.0941 - val_loss: 1.5717 - val_accuracy: 0.0840\n",
      "Epoch 52/100\n",
      "215/215 [==============================] - 3s 12ms/step - loss: 0.0372 - accuracy: 0.0946 - val_loss: 1.5780 - val_accuracy: 0.0866\n",
      "Epoch 53/100\n",
      "215/215 [==============================] - 3s 13ms/step - loss: 0.0380 - accuracy: 0.0966 - val_loss: 1.6106 - val_accuracy: 0.0827\n",
      "Epoch 54/100\n",
      "215/215 [==============================] - 3s 13ms/step - loss: 0.0374 - accuracy: 0.0962 - val_loss: 1.6084 - val_accuracy: 0.0853\n",
      "Epoch 55/100\n",
      "215/215 [==============================] - 3s 13ms/step - loss: 0.0367 - accuracy: 0.0972 - val_loss: 1.6253 - val_accuracy: 0.0853\n",
      "Epoch 56/100\n",
      "215/215 [==============================] - 3s 13ms/step - loss: 0.0374 - accuracy: 0.0982 - val_loss: 1.6393 - val_accuracy: 0.0879\n",
      "Epoch 57/100\n",
      "215/215 [==============================] - 3s 13ms/step - loss: 0.0370 - accuracy: 0.0990 - val_loss: 1.6569 - val_accuracy: 0.0892\n",
      "Epoch 58/100\n",
      "215/215 [==============================] - 3s 13ms/step - loss: 0.0369 - accuracy: 0.1003 - val_loss: 1.6602 - val_accuracy: 0.0879\n",
      "Epoch 59/100\n",
      "215/215 [==============================] - 3s 12ms/step - loss: 0.0364 - accuracy: 0.1012 - val_loss: 1.6762 - val_accuracy: 0.0879\n",
      "Epoch 60/100\n",
      "215/215 [==============================] - 3s 13ms/step - loss: 0.0354 - accuracy: 0.1014 - val_loss: 1.6895 - val_accuracy: 0.0906\n",
      "Epoch 61/100\n",
      "215/215 [==============================] - 3s 13ms/step - loss: 0.0365 - accuracy: 0.1025 - val_loss: 1.7092 - val_accuracy: 0.0906\n",
      "Epoch 62/100\n",
      "215/215 [==============================] - 2s 12ms/step - loss: 0.0356 - accuracy: 0.1023 - val_loss: 1.7304 - val_accuracy: 0.0892\n",
      "Epoch 63/100\n",
      "215/215 [==============================] - 3s 13ms/step - loss: 0.0365 - accuracy: 0.1039 - val_loss: 1.7271 - val_accuracy: 0.0892\n",
      "Epoch 64/100\n",
      "215/215 [==============================] - 3s 13ms/step - loss: 0.0358 - accuracy: 0.1033 - val_loss: 1.7360 - val_accuracy: 0.0906\n",
      "Epoch 65/100\n",
      "215/215 [==============================] - 3s 13ms/step - loss: 0.0355 - accuracy: 0.1057 - val_loss: 1.7443 - val_accuracy: 0.0919\n",
      "Epoch 66/100\n",
      "215/215 [==============================] - 3s 13ms/step - loss: 0.0358 - accuracy: 0.1042 - val_loss: 1.7584 - val_accuracy: 0.0958\n",
      "Epoch 67/100\n",
      "215/215 [==============================] - 3s 13ms/step - loss: 0.0358 - accuracy: 0.1068 - val_loss: 1.7738 - val_accuracy: 0.0892\n",
      "Epoch 68/100\n",
      "215/215 [==============================] - 3s 13ms/step - loss: 0.0352 - accuracy: 0.1045 - val_loss: 1.7752 - val_accuracy: 0.0919\n",
      "Epoch 69/100\n",
      "215/215 [==============================] - 3s 12ms/step - loss: 0.0352 - accuracy: 0.1055 - val_loss: 1.7785 - val_accuracy: 0.0958\n",
      "Epoch 70/100\n",
      "215/215 [==============================] - 2s 12ms/step - loss: 0.0349 - accuracy: 0.1039 - val_loss: 1.7875 - val_accuracy: 0.0945\n",
      "Epoch 71/100\n",
      "215/215 [==============================] - 3s 13ms/step - loss: 0.0354 - accuracy: 0.1070 - val_loss: 1.7901 - val_accuracy: 0.0997\n",
      "Epoch 72/100\n",
      "215/215 [==============================] - 3s 12ms/step - loss: 0.0344 - accuracy: 0.1057 - val_loss: 1.7948 - val_accuracy: 0.0945\n",
      "Epoch 73/100\n",
      "215/215 [==============================] - 3s 12ms/step - loss: 0.0347 - accuracy: 0.1067 - val_loss: 1.8049 - val_accuracy: 0.0971\n",
      "Epoch 74/100\n",
      "215/215 [==============================] - 3s 13ms/step - loss: 0.0354 - accuracy: 0.1058 - val_loss: 1.8014 - val_accuracy: 0.0958\n",
      "Epoch 75/100\n",
      "215/215 [==============================] - 3s 13ms/step - loss: 0.0347 - accuracy: 0.1058 - val_loss: 1.8073 - val_accuracy: 0.0958\n",
      "Epoch 76/100\n",
      "215/215 [==============================] - 3s 12ms/step - loss: 0.0344 - accuracy: 0.1057 - val_loss: 1.8208 - val_accuracy: 0.0984\n",
      "Epoch 77/100\n",
      "215/215 [==============================] - 3s 12ms/step - loss: 0.0341 - accuracy: 0.1055 - val_loss: 1.8310 - val_accuracy: 0.0958\n",
      "Epoch 78/100\n",
      "215/215 [==============================] - 3s 13ms/step - loss: 0.0342 - accuracy: 0.1058 - val_loss: 1.8349 - val_accuracy: 0.0945\n",
      "Epoch 79/100\n",
      "215/215 [==============================] - 3s 13ms/step - loss: 0.0338 - accuracy: 0.1076 - val_loss: 1.8514 - val_accuracy: 0.0945\n",
      "Epoch 80/100\n",
      "215/215 [==============================] - 3s 13ms/step - loss: 0.0354 - accuracy: 0.1054 - val_loss: 1.8391 - val_accuracy: 0.0945\n",
      "Epoch 81/100\n",
      "215/215 [==============================] - 3s 13ms/step - loss: 0.0331 - accuracy: 0.1061 - val_loss: 1.8489 - val_accuracy: 0.0971\n",
      "Epoch 82/100\n",
      "215/215 [==============================] - 3s 13ms/step - loss: 0.0338 - accuracy: 0.1063 - val_loss: 1.8637 - val_accuracy: 0.0945\n",
      "Epoch 83/100\n",
      "215/215 [==============================] - 3s 13ms/step - loss: 0.0336 - accuracy: 0.1071 - val_loss: 1.8636 - val_accuracy: 0.0958\n",
      "Epoch 84/100\n",
      "215/215 [==============================] - 3s 13ms/step - loss: 0.0343 - accuracy: 0.1077 - val_loss: 1.8671 - val_accuracy: 0.1010\n",
      "Epoch 85/100\n",
      "215/215 [==============================] - 3s 13ms/step - loss: 0.0335 - accuracy: 0.1083 - val_loss: 1.8764 - val_accuracy: 0.0958\n",
      "Epoch 86/100\n",
      "215/215 [==============================] - 3s 13ms/step - loss: 0.0332 - accuracy: 0.1068 - val_loss: 1.8877 - val_accuracy: 0.0945\n",
      "Epoch 87/100\n",
      "215/215 [==============================] - 3s 13ms/step - loss: 0.0335 - accuracy: 0.1071 - val_loss: 1.8798 - val_accuracy: 0.1010\n",
      "Epoch 88/100\n",
      "215/215 [==============================] - 3s 13ms/step - loss: 0.0332 - accuracy: 0.1070 - val_loss: 1.8854 - val_accuracy: 0.0997\n",
      "Epoch 89/100\n",
      "215/215 [==============================] - 3s 13ms/step - loss: 0.0335 - accuracy: 0.1071 - val_loss: 1.8895 - val_accuracy: 0.1010\n",
      "Epoch 90/100\n",
      "215/215 [==============================] - 3s 13ms/step - loss: 0.0328 - accuracy: 0.1085 - val_loss: 1.9024 - val_accuracy: 0.0984\n",
      "Epoch 91/100\n",
      "215/215 [==============================] - 3s 13ms/step - loss: 0.0333 - accuracy: 0.1085 - val_loss: 1.9075 - val_accuracy: 0.1010\n",
      "Epoch 92/100\n",
      "215/215 [==============================] - 3s 12ms/step - loss: 0.0330 - accuracy: 0.1086 - val_loss: 1.9081 - val_accuracy: 0.1024\n",
      "Epoch 93/100\n",
      "215/215 [==============================] - 3s 13ms/step - loss: 0.0332 - accuracy: 0.1079 - val_loss: 1.9104 - val_accuracy: 0.0997\n",
      "Epoch 94/100\n",
      "215/215 [==============================] - 3s 13ms/step - loss: 0.0325 - accuracy: 0.1074 - val_loss: 1.9138 - val_accuracy: 0.1010\n",
      "Epoch 95/100\n",
      "215/215 [==============================] - 3s 13ms/step - loss: 0.0325 - accuracy: 0.1083 - val_loss: 1.9210 - val_accuracy: 0.0984\n",
      "Epoch 96/100\n",
      "215/215 [==============================] - 3s 13ms/step - loss: 0.0322 - accuracy: 0.1074 - val_loss: 1.9284 - val_accuracy: 0.1024\n",
      "Epoch 97/100\n",
      "215/215 [==============================] - 3s 13ms/step - loss: 0.0327 - accuracy: 0.1079 - val_loss: 1.9281 - val_accuracy: 0.0971\n",
      "Epoch 98/100\n",
      "215/215 [==============================] - 3s 13ms/step - loss: 0.0322 - accuracy: 0.1085 - val_loss: 1.9377 - val_accuracy: 0.0997\n",
      "Epoch 99/100\n",
      "215/215 [==============================] - 3s 13ms/step - loss: 0.0323 - accuracy: 0.1095 - val_loss: 1.9358 - val_accuracy: 0.1024\n",
      "Epoch 100/100\n",
      "215/215 [==============================] - 3s 13ms/step - loss: 0.0324 - accuracy: 0.1087 - val_loss: 1.9465 - val_accuracy: 0.1010\n"
     ]
    }
   ],
   "source": [
    "# fit the model\n",
    "model_1_history = model_1.fit(x=train_sentences,\n",
    "                              y=train_labels,\n",
    "                              epochs=100,\n",
    "                              validation_data=(val_sentences, val_labels),\n",
    "                              callbacks=[create_tensorboard_callback(dir_name=SAVE_DIR,\n",
    "                                                                     experiment_name=\"model_1_dense\")])"
   ]
  },
  {
   "cell_type": "code",
   "execution_count": 43,
   "id": "d8474736-1b03-4aa8-b8b5-ea1cc0fbc5d5",
   "metadata": {},
   "outputs": [
    {
     "name": "stdout",
     "output_type": "stream",
     "text": [
      "24/24 [==============================] - 0s 2ms/step - loss: 1.9465 - accuracy: 0.1010\n"
     ]
    },
    {
     "data": {
      "text/plain": [
       "[1.9464911222457886, 0.10104987025260925]"
      ]
     },
     "execution_count": 43,
     "metadata": {},
     "output_type": "execute_result"
    }
   ],
   "source": [
    "model_1.evaluate(val_sentences, val_labels)"
   ]
  },
  {
   "cell_type": "code",
   "execution_count": 44,
   "id": "e27b6ebc-940a-4efe-9cd8-6700f411e232",
   "metadata": {},
   "outputs": [
    {
     "data": {
      "image/png": "[encoded data removed]",
      "text/plain": [
       "<Figure size 640x480 with 1 Axes>"
      ]
     },
     "metadata": {},
     "output_type": "display_data"
    },
    {
     "data": {
      "image/png": "[encoded data removed]",
      "text/plain": [
       "<Figure size 640x480 with 1 Axes>"
      ]
     },
     "metadata": {},
     "output_type": "display_data"
    }
   ],
   "source": [
    "plot_loss_curves(model_1_history)"
   ]
  },
  {
   "cell_type": "code",
   "execution_count": 45,
   "id": "c8eae7f1-2f58-470e-8fd3-68a51b918aed",
   "metadata": {},
   "outputs": [
    {
     "name": "stdout",
     "output_type": "stream",
     "text": [
      "24/24 [==============================] - 0s 3ms/step\n"
     ]
    },
    {
     "data": {
      "text/plain": [
       "array([[8.0400616e-01],\n",
       "       [8.0326527e-01],\n",
       "       [9.9994069e-01],\n",
       "       [8.3174539e-01],\n",
       "       [2.8314306e-09],\n",
       "       [9.9047011e-01],\n",
       "       [5.7331616e-01],\n",
       "       [1.0000000e+00],\n",
       "       [1.0000000e+00],\n",
       "       [9.9639297e-01]], dtype=float32)"
      ]
     },
     "execution_count": 45,
     "metadata": {},
     "output_type": "execute_result"
    }
   ],
   "source": [
    "model_1_pred_probs = model_1.predict(val_sentences)\n",
    "model_1_pred_probs[:10]"
   ]
  },
  {
   "cell_type": "code",
   "execution_count": 46,
   "id": "5326179e-2a1f-426e-a1b0-8826a458a9a3",
   "metadata": {},
   "outputs": [
    {
     "data": {
      "text/plain": [
       "(762, 1)"
      ]
     },
     "execution_count": 46,
     "metadata": {},
     "output_type": "execute_result"
    }
   ],
   "source": [
    "model_1_pred_probs.shape"
   ]
  },
  {
   "cell_type": "code",
   "execution_count": 47,
   "id": "71ce08ce-ae91-4ea5-899a-88994e864024",
   "metadata": {},
   "outputs": [
    {
     "data": {
      "text/plain": [
       "array([0.80400616], dtype=float32)"
      ]
     },
     "execution_count": 47,
     "metadata": {},
     "output_type": "execute_result"
    }
   ],
   "source": [
    "model_1_pred_probs[0]"
   ]
  },
  {
   "cell_type": "code",
   "execution_count": 48,
   "id": "2e6ec07e-e403-4d09-ba18-e987dc716228",
   "metadata": {},
   "outputs": [
    {
     "data": {
      "text/plain": [
       "0"
      ]
     },
     "execution_count": 48,
     "metadata": {},
     "output_type": "execute_result"
    }
   ],
   "source": [
    "val_labels[0]"
   ]
  },
  {
   "cell_type": "code",
   "execution_count": 49,
   "id": "138714ab-1143-4350-9043-634751cc6f8b",
   "metadata": {},
   "outputs": [
    {
     "data": {
      "text/plain": [
       "<tf.Tensor: shape=(), dtype=float32, numpy=1.0>"
      ]
     },
     "execution_count": 49,
     "metadata": {},
     "output_type": "execute_result"
    }
   ],
   "source": [
    "model_1_preds = tf.squeeze(tf.round(model_1_pred_probs))\n",
    "model_1_preds[0]"
   ]
  },
  {
   "cell_type": "code",
   "execution_count": 269,
   "id": "21da0d89-f0ab-4046-9baa-1a026cfd2725",
   "metadata": {},
   "outputs": [
    {
     "data": {
      "text/plain": [
       "{'accuracy': 0.7375328083989501,\n",
       " 'precision': 0.737155827364345,\n",
       " 'recall': 0.7375328083989501,\n",
       " 'f1': 0.7372626602380166}"
      ]
     },
     "execution_count": 269,
     "metadata": {},
     "output_type": "execute_result"
    }
   ],
   "source": [
    "model_1_results = calculate_results(y_true=val_labels,\n",
    "                                    y_preds=model_1_preds)\n",
    "model_1_results"
   ]
  },
  {
   "cell_type": "code",
   "execution_count": 51,
   "id": "b7c54197-5300-43c7-8b24-5f00a3e60193",
   "metadata": {},
   "outputs": [
    {
     "data": {
      "text/plain": [
       "array([False, False, False, False])"
      ]
     },
     "execution_count": 51,
     "metadata": {},
     "output_type": "execute_result"
    }
   ],
   "source": [
    "import numpy as np\n",
    "np.array(list(model_1_results.values())) > np.array(list(baseline_results.values()))"
   ]
  },
  {
   "cell_type": "code",
   "execution_count": 52,
   "id": "101edbc7-0f80-41de-9292-aa8de4266e80",
   "metadata": {},
   "outputs": [
    {
     "data": {
      "text/plain": [
       "(10000, ['', '[UNK]', 'the', 'a', 'in', 'to', 'of', 'and', 'i', 'is'])"
      ]
     },
     "execution_count": 52,
     "metadata": {},
     "output_type": "execute_result"
    }
   ],
   "source": [
    "# Visualizing learned embeddings\n",
    "words_in_vocab = text_vectorizer.get_vocabulary()\n",
    "len(words_in_vocab), words_in_vocab[:10]"
   ]
  },
  {
   "cell_type": "code",
   "execution_count": 53,
   "id": "b452c67e-93eb-4080-a7e1-bc00051bf224",
   "metadata": {},
   "outputs": [
    {
     "name": "stdout",
     "output_type": "stream",
     "text": [
      "Model: \"model_1_dense\"\n",
      "_________________________________________________________________\n",
      " Layer (type)                Output Shape              Param #   \n",
      "=================================================================\n",
      " input_1 (InputLayer)        [(None, 1)]               0         \n",
      "                                                                 \n",
      " text_vectorization_1 (TextV  (None, 15)               0         \n",
      " ectorization)                                                   \n",
      "                                                                 \n",
      " embedding (Embedding)       (None, 15, 128)           1280000   \n",
      "                                                                 \n",
      " global_avg_pool_layer (Glob  (None, 128)              0         \n",
      " alAveragePooling1D)                                             \n",
      "                                                                 \n",
      " dense (Dense)               (None, 1)                 129       \n",
      "                                                                 \n",
      "=================================================================\n",
      "Total params: 1,280,129\n",
      "Trainable params: 1,280,129\n",
      "Non-trainable params: 0\n",
      "_________________________________________________________________\n"
     ]
    }
   ],
   "source": [
    "model_1.summary()"
   ]
  },
  {
   "cell_type": "code",
   "execution_count": 54,
   "id": "ef4d1053-ba97-472a-8c90-c9041ccad153",
   "metadata": {},
   "outputs": [
    {
     "data": {
      "text/plain": [
       "array([[ 4.5366909e-02, -9.1478573e-03, -1.0339256e-02, ...,\n",
       "        -7.8799480e-05, -8.8918739e-04,  6.7939073e-02],\n",
       "       [-1.2702604e-02, -4.5970377e-02,  2.1570677e-02, ...,\n",
       "         4.5653179e-02, -5.3959968e-03, -6.8786941e-02],\n",
       "       [-6.5549421e-03,  3.9156459e-02,  2.7864400e-02, ...,\n",
       "        -3.8909756e-02, -4.3373741e-02,  3.8691528e-02],\n",
       "       ...,\n",
       "       [ 1.3803467e-03,  2.3572635e-02, -3.7183464e-02, ...,\n",
       "         2.0011552e-03, -6.9665797e-03, -4.6302523e-02],\n",
       "       [ 8.2458489e-02,  7.3740564e-02,  4.3514375e-02, ...,\n",
       "        -6.3029014e-02, -4.6179809e-02,  5.1693637e-02],\n",
       "       [ 6.8419653e-01,  7.1296865e-01,  7.0889461e-01, ...,\n",
       "        -7.2238517e-01, -7.3445833e-01,  7.1530414e-01]], dtype=float32)"
      ]
     },
     "execution_count": 54,
     "metadata": {},
     "output_type": "execute_result"
    }
   ],
   "source": [
    "embed_weights = model_1.get_layer(\"embedding\").get_weights()[0]\n",
    "embed_weights"
   ]
  },
  {
   "cell_type": "code",
   "execution_count": 55,
   "id": "5f21e5b3-b892-4b6f-b07e-6f3d8e56bdcd",
   "metadata": {},
   "outputs": [
    {
     "data": {
      "text/plain": [
       "(10000, 128)"
      ]
     },
     "execution_count": 55,
     "metadata": {},
     "output_type": "execute_result"
    }
   ],
   "source": [
    "embed_weights.shape"
   ]
  },
  {
   "cell_type": "code",
   "execution_count": 56,
   "id": "2d531003-e965-4b0b-87db-1bc658fde739",
   "metadata": {},
   "outputs": [],
   "source": [
    "import io\n",
    "\n",
    "# Create output writers\n",
    "out_v = io.open(\"embedding_vectors.tsv\", \"w\", encoding=\"utf-8\")\n",
    "out_m = io.open(\"embedding_metadata.tsv\", \"w\", encoding=\"utf-8\")\n",
    "\n",
    "# Write embedding vectors and words to file\n",
    "for num, word in enumerate(words_in_vocab):\n",
    "  if num == 0: \n",
    "     continue # skip padding token\n",
    "  vec = embed_weights[num]\n",
    "  out_m.write(word + \"\\n\") # write words to file\n",
    "  out_v.write(\"\\t\".join([str(x) for x in vec]) + \"\\n\") # write corresponding word vector to file\n",
    "out_v.close()\n",
    "out_m.close()"
   ]
  },
  {
   "cell_type": "markdown",
   "id": "b0b4cd43-38a5-4b2e-a748-34ee69b948a5",
   "metadata": {},
   "source": [
    "### Model 2: LSTM model\n",
    "\n",
    "```\n",
    "Input (text) -> Tokenize -> Embedding -> Layers (RNN/dense) -> Output (probability)\n",
    "```"
   ]
  },
  {
   "cell_type": "code",
   "execution_count": 57,
   "id": "358a9624-1770-4d8e-bfa1-aa5d52adb683",
   "metadata": {},
   "outputs": [],
   "source": [
    "from tensorflow.keras import layers\n",
    "inputs = layers.Input(shape=(1,), dtype='string')\n",
    "x = text_vectorizer(inputs)\n",
    "x = embedding(x)\n",
    "x = layers.LSTM(64, return_sequences=True)(x)\n",
    "x = layers.LSTM(64)(x)\n",
    "x = layers.Dense(64, activation='relu')(x)\n",
    "outputs = layers.Dense(1, activation='sigmoid')(x)\n",
    "model_2 = tf.keras.Model(inputs, outputs, name='model_2_LSTM')"
   ]
  },
  {
   "cell_type": "code",
   "execution_count": 58,
   "id": "d44ccd34-5e6e-4a45-b1f7-33ca2cb66f52",
   "metadata": {},
   "outputs": [
    {
     "name": "stdout",
     "output_type": "stream",
     "text": [
      "Model: \"model_2_LSTM\"\n",
      "_________________________________________________________________\n",
      " Layer (type)                Output Shape              Param #   \n",
      "=================================================================\n",
      " input_2 (InputLayer)        [(None, 1)]               0         \n",
      "                                                                 \n",
      " text_vectorization_1 (TextV  (None, 15)               0         \n",
      " ectorization)                                                   \n",
      "                                                                 \n",
      " embedding (Embedding)       (None, 15, 128)           1280000   \n",
      "                                                                 \n",
      " lstm (LSTM)                 (None, 15, 64)            49408     \n",
      "                                                                 \n",
      " lstm_1 (LSTM)               (None, 64)                33024     \n",
      "                                                                 \n",
      " dense_1 (Dense)             (None, 64)                4160      \n",
      "                                                                 \n",
      " dense_2 (Dense)             (None, 1)                 65        \n",
      "                                                                 \n",
      "=================================================================\n",
      "Total params: 1,366,657\n",
      "Trainable params: 1,366,657\n",
      "Non-trainable params: 0\n",
      "_________________________________________________________________\n"
     ]
    }
   ],
   "source": [
    "model_2.summary()"
   ]
  },
  {
   "cell_type": "code",
   "execution_count": 59,
   "id": "f4533d57-de04-4b1e-ba3d-544f4a6d76f5",
   "metadata": {},
   "outputs": [],
   "source": [
    "# compile the code\n",
    "model_2.compile(loss=tf.keras.losses.BinaryCrossentropy(),\n",
    "                optimizer=tf.keras.optimizers.Adam(),\n",
    "                metrics=tf.keras.metrics.Accuracy())"
   ]
  },
  {
   "cell_type": "code",
   "execution_count": 60,
   "id": "43dabd9b-4a40-4a6a-9e01-c037386738ac",
   "metadata": {},
   "outputs": [
    {
     "name": "stdout",
     "output_type": "stream",
     "text": [
      "Saving TensorBoard log files to: model_logs/model_2_LSTM/20241009-114347\n",
      "Epoch 1/100\n",
      "215/215 [==============================] - 10s 29ms/step - loss: 0.0901 - accuracy: 0.0000e+00 - val_loss: 1.2667 - val_accuracy: 0.0000e+00\n",
      "Epoch 2/100\n",
      "215/215 [==============================] - 5s 24ms/step - loss: 0.0356 - accuracy: 0.0000e+00 - val_loss: 1.6999 - val_accuracy: 0.0000e+00\n",
      "Epoch 3/100\n",
      "215/215 [==============================] - 6s 30ms/step - loss: 0.0345 - accuracy: 0.0000e+00 - val_loss: 1.5516 - val_accuracy: 0.0000e+00\n",
      "Epoch 4/100\n",
      "215/215 [==============================] - 7s 32ms/step - loss: 0.0397 - accuracy: 0.0000e+00 - val_loss: 1.6601 - val_accuracy: 0.0000e+00\n",
      "Epoch 5/100\n",
      "215/215 [==============================] - 7s 33ms/step - loss: 0.0328 - accuracy: 0.0000e+00 - val_loss: 1.8811 - val_accuracy: 0.0000e+00\n",
      "Epoch 6/100\n",
      "215/215 [==============================] - 7s 33ms/step - loss: 0.0300 - accuracy: 0.0000e+00 - val_loss: 2.1315 - val_accuracy: 0.0000e+00\n",
      "Epoch 7/100\n",
      "215/215 [==============================] - 9s 40ms/step - loss: 0.0365 - accuracy: 0.0000e+00 - val_loss: 1.8127 - val_accuracy: 0.0000e+00\n",
      "Epoch 8/100\n",
      "215/215 [==============================] - 9s 42ms/step - loss: 0.0296 - accuracy: 0.0000e+00 - val_loss: 2.1134 - val_accuracy: 0.0000e+00\n",
      "Epoch 9/100\n",
      "215/215 [==============================] - 8s 36ms/step - loss: 0.0304 - accuracy: 0.0000e+00 - val_loss: 1.9263 - val_accuracy: 0.0000e+00\n",
      "Epoch 10/100\n",
      "215/215 [==============================] - 7s 33ms/step - loss: 0.0293 - accuracy: 0.0000e+00 - val_loss: 1.9553 - val_accuracy: 0.0000e+00\n",
      "Epoch 11/100\n",
      "215/215 [==============================] - 7s 32ms/step - loss: 0.0297 - accuracy: 0.0000e+00 - val_loss: 1.9038 - val_accuracy: 0.0000e+00\n",
      "Epoch 12/100\n",
      "215/215 [==============================] - 8s 35ms/step - loss: 0.0304 - accuracy: 0.0000e+00 - val_loss: 1.6192 - val_accuracy: 0.0000e+00\n",
      "Epoch 13/100\n",
      "215/215 [==============================] - 7s 32ms/step - loss: 0.0338 - accuracy: 0.0000e+00 - val_loss: 1.8489 - val_accuracy: 0.0000e+00\n",
      "Epoch 14/100\n",
      "215/215 [==============================] - 7s 33ms/step - loss: 0.0299 - accuracy: 0.0000e+00 - val_loss: 2.1445 - val_accuracy: 0.0000e+00\n",
      "Epoch 15/100\n",
      "215/215 [==============================] - 7s 32ms/step - loss: 0.0286 - accuracy: 0.0000e+00 - val_loss: 1.8817 - val_accuracy: 0.0000e+00\n",
      "Epoch 16/100\n",
      "215/215 [==============================] - 7s 32ms/step - loss: 0.0283 - accuracy: 0.0000e+00 - val_loss: 2.0879 - val_accuracy: 0.0000e+00\n",
      "Epoch 17/100\n",
      "215/215 [==============================] - 7s 32ms/step - loss: 0.0286 - accuracy: 0.0000e+00 - val_loss: 1.7795 - val_accuracy: 0.0000e+00\n",
      "Epoch 18/100\n",
      "215/215 [==============================] - 7s 32ms/step - loss: 0.0311 - accuracy: 0.0000e+00 - val_loss: 1.9610 - val_accuracy: 0.0000e+00\n",
      "Epoch 19/100\n",
      "215/215 [==============================] - 7s 32ms/step - loss: 0.0367 - accuracy: 0.0000e+00 - val_loss: 2.0148 - val_accuracy: 0.0000e+00\n",
      "Epoch 20/100\n",
      "215/215 [==============================] - 7s 33ms/step - loss: 0.0378 - accuracy: 0.0000e+00 - val_loss: 1.6647 - val_accuracy: 0.0000e+00\n",
      "Epoch 21/100\n",
      "215/215 [==============================] - 7s 33ms/step - loss: 0.0273 - accuracy: 0.0000e+00 - val_loss: 1.9225 - val_accuracy: 0.0000e+00\n",
      "Epoch 22/100\n",
      "215/215 [==============================] - 7s 32ms/step - loss: 0.0315 - accuracy: 0.0000e+00 - val_loss: 1.9555 - val_accuracy: 0.0000e+00\n",
      "Epoch 23/100\n",
      "215/215 [==============================] - 7s 32ms/step - loss: 0.0282 - accuracy: 0.0000e+00 - val_loss: 1.9192 - val_accuracy: 0.0000e+00\n",
      "Epoch 24/100\n",
      "215/215 [==============================] - 7s 32ms/step - loss: 0.0270 - accuracy: 0.0000e+00 - val_loss: 1.9478 - val_accuracy: 0.0000e+00\n",
      "Epoch 25/100\n",
      "215/215 [==============================] - 10s 45ms/step - loss: 0.0272 - accuracy: 0.0000e+00 - val_loss: 2.0141 - val_accuracy: 0.0000e+00\n",
      "Epoch 26/100\n",
      "215/215 [==============================] - 8s 36ms/step - loss: 0.0264 - accuracy: 0.0000e+00 - val_loss: 2.2090 - val_accuracy: 0.0000e+00\n",
      "Epoch 27/100\n",
      "215/215 [==============================] - 7s 34ms/step - loss: 0.0277 - accuracy: 0.0000e+00 - val_loss: 2.1368 - val_accuracy: 0.0000e+00\n",
      "Epoch 28/100\n",
      "215/215 [==============================] - 7s 32ms/step - loss: 0.0265 - accuracy: 0.0000e+00 - val_loss: 2.4227 - val_accuracy: 0.0000e+00\n",
      "Epoch 29/100\n",
      "215/215 [==============================] - 7s 33ms/step - loss: 0.0273 - accuracy: 0.0000e+00 - val_loss: 2.1629 - val_accuracy: 0.0000e+00\n",
      "Epoch 30/100\n",
      "215/215 [==============================] - 8s 36ms/step - loss: 0.0255 - accuracy: 0.0000e+00 - val_loss: 2.1744 - val_accuracy: 0.0000e+00\n",
      "Epoch 31/100\n",
      "215/215 [==============================] - 9s 42ms/step - loss: 0.0322 - accuracy: 0.0000e+00 - val_loss: 1.6286 - val_accuracy: 0.0000e+00\n",
      "Epoch 32/100\n",
      "215/215 [==============================] - 7s 34ms/step - loss: 0.0268 - accuracy: 0.0000e+00 - val_loss: 2.0455 - val_accuracy: 0.0000e+00\n",
      "Epoch 33/100\n",
      "215/215 [==============================] - 7s 33ms/step - loss: 0.0268 - accuracy: 0.0000e+00 - val_loss: 1.8100 - val_accuracy: 0.0000e+00\n",
      "Epoch 34/100\n",
      "215/215 [==============================] - 8s 38ms/step - loss: 0.0274 - accuracy: 0.0000e+00 - val_loss: 2.2476 - val_accuracy: 0.0000e+00\n",
      "Epoch 35/100\n",
      "215/215 [==============================] - 9s 42ms/step - loss: 0.0274 - accuracy: 0.0000e+00 - val_loss: 2.2503 - val_accuracy: 0.0000e+00\n",
      "Epoch 36/100\n",
      "215/215 [==============================] - 9s 41ms/step - loss: 0.0257 - accuracy: 0.0000e+00 - val_loss: 1.9197 - val_accuracy: 0.0000e+00\n",
      "Epoch 37/100\n",
      "215/215 [==============================] - 8s 37ms/step - loss: 0.0261 - accuracy: 0.0000e+00 - val_loss: 1.8298 - val_accuracy: 0.0000e+00\n",
      "Epoch 38/100\n",
      "215/215 [==============================] - 7s 34ms/step - loss: 0.0286 - accuracy: 0.0000e+00 - val_loss: 1.7625 - val_accuracy: 0.0000e+00\n",
      "Epoch 39/100\n",
      "215/215 [==============================] - 8s 36ms/step - loss: 0.0274 - accuracy: 0.0000e+00 - val_loss: 2.1716 - val_accuracy: 0.0000e+00\n",
      "Epoch 40/100\n",
      "215/215 [==============================] - 8s 38ms/step - loss: 0.0271 - accuracy: 0.0000e+00 - val_loss: 2.1930 - val_accuracy: 0.0000e+00\n",
      "Epoch 41/100\n",
      "215/215 [==============================] - 8s 37ms/step - loss: 0.0248 - accuracy: 0.0000e+00 - val_loss: 2.3414 - val_accuracy: 0.0000e+00\n",
      "Epoch 42/100\n",
      "215/215 [==============================] - 8s 36ms/step - loss: 0.0250 - accuracy: 0.0000e+00 - val_loss: 2.3918 - val_accuracy: 0.0000e+00\n",
      "Epoch 43/100\n",
      "215/215 [==============================] - 8s 36ms/step - loss: 0.0249 - accuracy: 0.0000e+00 - val_loss: 2.4450 - val_accuracy: 0.0000e+00\n",
      "Epoch 44/100\n",
      "215/215 [==============================] - 8s 36ms/step - loss: 0.0246 - accuracy: 0.0000e+00 - val_loss: 2.4917 - val_accuracy: 0.0000e+00\n",
      "Epoch 45/100\n",
      "215/215 [==============================] - 8s 37ms/step - loss: 0.0247 - accuracy: 0.0000e+00 - val_loss: 2.4180 - val_accuracy: 0.0000e+00\n",
      "Epoch 46/100\n",
      "215/215 [==============================] - 9s 42ms/step - loss: 0.0325 - accuracy: 0.0000e+00 - val_loss: 1.3538 - val_accuracy: 0.0000e+00\n",
      "Epoch 47/100\n",
      "215/215 [==============================] - 8s 36ms/step - loss: 0.0290 - accuracy: 0.0000e+00 - val_loss: 1.9949 - val_accuracy: 0.0000e+00\n",
      "Epoch 48/100\n",
      "215/215 [==============================] - 8s 35ms/step - loss: 0.0282 - accuracy: 0.0000e+00 - val_loss: 2.1019 - val_accuracy: 0.0000e+00\n",
      "Epoch 49/100\n",
      "215/215 [==============================] - 8s 36ms/step - loss: 0.0270 - accuracy: 0.0000e+00 - val_loss: 2.2024 - val_accuracy: 0.0000e+00\n",
      "Epoch 50/100\n",
      "215/215 [==============================] - 8s 37ms/step - loss: 0.0255 - accuracy: 0.0000e+00 - val_loss: 2.2370 - val_accuracy: 0.0000e+00\n",
      "Epoch 51/100\n",
      "215/215 [==============================] - 8s 35ms/step - loss: 0.0248 - accuracy: 0.0000e+00 - val_loss: 2.2838 - val_accuracy: 0.0000e+00\n",
      "Epoch 52/100\n",
      "215/215 [==============================] - 8s 35ms/step - loss: 0.0245 - accuracy: 0.0000e+00 - val_loss: 2.4376 - val_accuracy: 0.0000e+00\n",
      "Epoch 53/100\n",
      "215/215 [==============================] - 9s 40ms/step - loss: 0.0242 - accuracy: 0.0000e+00 - val_loss: 2.4491 - val_accuracy: 0.0000e+00\n",
      "Epoch 54/100\n",
      "215/215 [==============================] - 8s 39ms/step - loss: 0.0240 - accuracy: 0.0000e+00 - val_loss: 2.4951 - val_accuracy: 0.0000e+00\n",
      "Epoch 55/100\n",
      "215/215 [==============================] - 8s 39ms/step - loss: 0.0248 - accuracy: 0.0000e+00 - val_loss: 2.3940 - val_accuracy: 0.0000e+00\n",
      "Epoch 56/100\n",
      "215/215 [==============================] - 9s 40ms/step - loss: 0.0246 - accuracy: 0.0000e+00 - val_loss: 2.6222 - val_accuracy: 0.0000e+00\n",
      "Epoch 57/100\n",
      "215/215 [==============================] - 8s 38ms/step - loss: 0.0244 - accuracy: 0.0000e+00 - val_loss: 2.5412 - val_accuracy: 0.0000e+00\n",
      "Epoch 58/100\n",
      "215/215 [==============================] - 7s 33ms/step - loss: 0.0311 - accuracy: 0.0000e+00 - val_loss: 1.6733 - val_accuracy: 0.0000e+00\n",
      "Epoch 59/100\n",
      "215/215 [==============================] - 7s 34ms/step - loss: 0.0272 - accuracy: 0.0000e+00 - val_loss: 2.0063 - val_accuracy: 0.0000e+00\n",
      "Epoch 60/100\n",
      "215/215 [==============================] - 9s 40ms/step - loss: 0.0272 - accuracy: 0.0000e+00 - val_loss: 2.0315 - val_accuracy: 0.0000e+00\n",
      "Epoch 61/100\n",
      "215/215 [==============================] - 7s 34ms/step - loss: 0.0246 - accuracy: 0.0000e+00 - val_loss: 2.2694 - val_accuracy: 0.0000e+00\n",
      "Epoch 62/100\n",
      "215/215 [==============================] - 7s 33ms/step - loss: 0.0250 - accuracy: 0.0000e+00 - val_loss: 2.2605 - val_accuracy: 0.0000e+00\n",
      "Epoch 63/100\n",
      "215/215 [==============================] - 9s 42ms/step - loss: 0.0245 - accuracy: 0.0000e+00 - val_loss: 2.2755 - val_accuracy: 0.0000e+00\n",
      "Epoch 64/100\n",
      "215/215 [==============================] - 7s 32ms/step - loss: 0.0238 - accuracy: 0.0000e+00 - val_loss: 2.4948 - val_accuracy: 0.0000e+00\n",
      "Epoch 65/100\n",
      "215/215 [==============================] - 7s 33ms/step - loss: 0.0241 - accuracy: 0.0000e+00 - val_loss: 2.5513 - val_accuracy: 0.0000e+00\n",
      "Epoch 66/100\n",
      "215/215 [==============================] - 7s 32ms/step - loss: 0.0249 - accuracy: 0.0000e+00 - val_loss: 2.2512 - val_accuracy: 0.0000e+00\n",
      "Epoch 67/100\n",
      "215/215 [==============================] - 7s 32ms/step - loss: 0.0260 - accuracy: 0.0000e+00 - val_loss: 2.3325 - val_accuracy: 0.0000e+00\n",
      "Epoch 68/100\n",
      "215/215 [==============================] - 7s 32ms/step - loss: 0.0241 - accuracy: 0.0000e+00 - val_loss: 2.4499 - val_accuracy: 0.0000e+00\n",
      "Epoch 69/100\n",
      "215/215 [==============================] - 9s 40ms/step - loss: 0.0273 - accuracy: 0.0000e+00 - val_loss: 2.2864 - val_accuracy: 0.0000e+00\n",
      "Epoch 70/100\n",
      "215/215 [==============================] - 12s 54ms/step - loss: 0.0248 - accuracy: 0.0000e+00 - val_loss: 2.4915 - val_accuracy: 0.0000e+00\n",
      "Epoch 71/100\n",
      "215/215 [==============================] - 9s 43ms/step - loss: 0.0256 - accuracy: 0.0000e+00 - val_loss: 2.0765 - val_accuracy: 0.0000e+00\n",
      "Epoch 72/100\n",
      "215/215 [==============================] - 7s 33ms/step - loss: 0.0243 - accuracy: 0.0000e+00 - val_loss: 2.0366 - val_accuracy: 0.0000e+00\n",
      "Epoch 73/100\n",
      "215/215 [==============================] - 8s 37ms/step - loss: 0.0240 - accuracy: 0.0000e+00 - val_loss: 2.4427 - val_accuracy: 0.0000e+00\n",
      "Epoch 74/100\n",
      "215/215 [==============================] - 7s 35ms/step - loss: 0.0234 - accuracy: 0.0000e+00 - val_loss: 2.6452 - val_accuracy: 0.0000e+00\n",
      "Epoch 75/100\n",
      "215/215 [==============================] - 7s 34ms/step - loss: 0.0237 - accuracy: 0.0000e+00 - val_loss: 2.5926 - val_accuracy: 0.0000e+00\n",
      "Epoch 76/100\n",
      "215/215 [==============================] - 7s 34ms/step - loss: 0.0332 - accuracy: 0.0000e+00 - val_loss: 2.0529 - val_accuracy: 0.0000e+00\n",
      "Epoch 77/100\n",
      "215/215 [==============================] - 7s 34ms/step - loss: 0.0265 - accuracy: 0.0000e+00 - val_loss: 1.6760 - val_accuracy: 0.0000e+00\n",
      "Epoch 78/100\n",
      "215/215 [==============================] - 7s 33ms/step - loss: 0.0244 - accuracy: 0.0000e+00 - val_loss: 2.3506 - val_accuracy: 0.0000e+00\n",
      "Epoch 79/100\n",
      "215/215 [==============================] - 7s 34ms/step - loss: 0.0236 - accuracy: 0.0000e+00 - val_loss: 2.5235 - val_accuracy: 0.0000e+00\n",
      "Epoch 80/100\n",
      "215/215 [==============================] - 7s 33ms/step - loss: 0.0235 - accuracy: 0.0000e+00 - val_loss: 2.4595 - val_accuracy: 0.0000e+00\n",
      "Epoch 81/100\n",
      "215/215 [==============================] - 8s 35ms/step - loss: 0.0236 - accuracy: 0.0000e+00 - val_loss: 2.5991 - val_accuracy: 0.0000e+00\n",
      "Epoch 82/100\n",
      "215/215 [==============================] - 9s 43ms/step - loss: 0.0244 - accuracy: 0.0000e+00 - val_loss: 2.5151 - val_accuracy: 0.0000e+00\n",
      "Epoch 83/100\n",
      "215/215 [==============================] - 9s 40ms/step - loss: 0.0245 - accuracy: 0.0000e+00 - val_loss: 2.1998 - val_accuracy: 0.0000e+00\n",
      "Epoch 84/100\n",
      "215/215 [==============================] - 8s 38ms/step - loss: 0.0232 - accuracy: 0.0000e+00 - val_loss: 2.5005 - val_accuracy: 0.0000e+00\n",
      "Epoch 85/100\n",
      "215/215 [==============================] - 8s 35ms/step - loss: 0.0236 - accuracy: 0.0000e+00 - val_loss: 2.5809 - val_accuracy: 0.0000e+00\n",
      "Epoch 86/100\n",
      "215/215 [==============================] - 7s 34ms/step - loss: 0.0240 - accuracy: 0.0000e+00 - val_loss: 2.3555 - val_accuracy: 0.0000e+00\n",
      "Epoch 87/100\n",
      "215/215 [==============================] - 8s 35ms/step - loss: 0.0232 - accuracy: 0.0000e+00 - val_loss: 2.5367 - val_accuracy: 0.0000e+00\n",
      "Epoch 88/100\n",
      "215/215 [==============================] - 8s 36ms/step - loss: 0.0246 - accuracy: 0.0000e+00 - val_loss: 2.4643 - val_accuracy: 0.0000e+00\n",
      "Epoch 89/100\n",
      "215/215 [==============================] - 7s 33ms/step - loss: 0.0234 - accuracy: 0.0000e+00 - val_loss: 2.6019 - val_accuracy: 0.0000e+00\n",
      "Epoch 90/100\n",
      "215/215 [==============================] - 7s 34ms/step - loss: 0.0241 - accuracy: 0.0000e+00 - val_loss: 2.4442 - val_accuracy: 0.0000e+00\n",
      "Epoch 91/100\n",
      "215/215 [==============================] - 8s 37ms/step - loss: 0.0231 - accuracy: 0.0000e+00 - val_loss: 2.2821 - val_accuracy: 0.0000e+00\n",
      "Epoch 92/100\n",
      "215/215 [==============================] - 7s 35ms/step - loss: 0.0260 - accuracy: 0.0000e+00 - val_loss: 1.9376 - val_accuracy: 0.0000e+00\n",
      "Epoch 93/100\n",
      "215/215 [==============================] - 7s 33ms/step - loss: 0.0252 - accuracy: 0.0000e+00 - val_loss: 1.8206 - val_accuracy: 0.0000e+00\n",
      "Epoch 94/100\n",
      "215/215 [==============================] - 7s 33ms/step - loss: 0.0229 - accuracy: 0.0000e+00 - val_loss: 2.3579 - val_accuracy: 0.0000e+00\n",
      "Epoch 95/100\n",
      "215/215 [==============================] - 7s 34ms/step - loss: 0.0270 - accuracy: 0.0000e+00 - val_loss: 1.8957 - val_accuracy: 0.0000e+00\n",
      "Epoch 96/100\n",
      "215/215 [==============================] - 7s 33ms/step - loss: 0.0237 - accuracy: 0.0000e+00 - val_loss: 2.3238 - val_accuracy: 0.0000e+00\n",
      "Epoch 97/100\n",
      "215/215 [==============================] - 7s 34ms/step - loss: 0.0229 - accuracy: 0.0000e+00 - val_loss: 2.4615 - val_accuracy: 0.0000e+00\n",
      "Epoch 98/100\n",
      "215/215 [==============================] - 7s 33ms/step - loss: 0.0245 - accuracy: 0.0000e+00 - val_loss: 1.9758 - val_accuracy: 0.0000e+00\n",
      "Epoch 99/100\n",
      "215/215 [==============================] - 7s 34ms/step - loss: 0.0238 - accuracy: 0.0000e+00 - val_loss: 2.1126 - val_accuracy: 0.0000e+00\n",
      "Epoch 100/100\n",
      "215/215 [==============================] - 7s 33ms/step - loss: 0.0244 - accuracy: 0.0000e+00 - val_loss: 2.0402 - val_accuracy: 0.0000e+00\n"
     ]
    }
   ],
   "source": [
    "# fit the model\n",
    "model_2_history = model_2.fit(train_sentences, train_labels,\n",
    "                              epochs=100,\n",
    "                              validation_data=(val_sentences, val_labels),\n",
    "                              callbacks=[create_tensorboard_callback(SAVE_DIR,\n",
    "                                                                      \"model_2_LSTM\")])"
   ]
  },
  {
   "cell_type": "code",
   "execution_count": 61,
   "id": "c770447c-cc45-40df-82a8-0cff27bd8ecd",
   "metadata": {},
   "outputs": [
    {
     "name": "stdout",
     "output_type": "stream",
     "text": [
      "24/24 [==============================] - 3s 12ms/step\n"
     ]
    },
    {
     "data": {
      "text/plain": [
       "array([[4.3578777e-03],\n",
       "       [9.9890196e-01],\n",
       "       [9.9987888e-01],\n",
       "       [9.8799026e-01],\n",
       "       [4.9758523e-06],\n",
       "       [9.9993747e-01],\n",
       "       [9.4419080e-01],\n",
       "       [9.9997997e-01],\n",
       "       [9.9999410e-01],\n",
       "       [9.9972647e-01]], dtype=float32)"
      ]
     },
     "execution_count": 61,
     "metadata": {},
     "output_type": "execute_result"
    }
   ],
   "source": [
    "model_2_pred_probs = model_2.predict(val_sentences)\n",
    "model_2_pred_probs[:10]"
   ]
  },
  {
   "cell_type": "code",
   "execution_count": 62,
   "id": "acfa944f-1b7d-4457-bc6a-4be30aad736b",
   "metadata": {},
   "outputs": [
    {
     "data": {
      "text/plain": [
       "<tf.Tensor: shape=(762,), dtype=float32, numpy=\n",
       "array([0., 1., 1., 1., 0., 1., 1., 1., 1., 1., 0., 1., 0., 0., 0., 0., 0.,\n",
       "       0., 0., 1., 1., 0., 1., 0., 1., 1., 0., 0., 0., 1., 1., 0., 0., 0.,\n",
       "       0., 1., 1., 0., 0., 1., 1., 0., 0., 0., 1., 1., 1., 1., 0., 1., 0.,\n",
       "       0., 0., 1., 0., 0., 1., 1., 0., 0., 0., 1., 1., 0., 1., 1., 1., 0.,\n",
       "       0., 1., 0., 0., 1., 0., 1., 1., 0., 1., 0., 0., 0., 0., 1., 0., 0.,\n",
       "       0., 0., 0., 0., 1., 1., 0., 0., 0., 1., 1., 1., 1., 1., 1., 1., 0.,\n",
       "       0., 1., 1., 0., 1., 1., 0., 1., 1., 0., 1., 0., 0., 0., 1., 1., 0.,\n",
       "       0., 1., 0., 0., 0., 0., 0., 1., 0., 0., 1., 0., 1., 1., 1., 1., 0.,\n",
       "       1., 1., 0., 0., 1., 1., 0., 1., 0., 0., 0., 0., 0., 1., 0., 0., 1.,\n",
       "       0., 0., 1., 1., 1., 1., 0., 1., 1., 0., 0., 0., 0., 1., 0., 1., 1.,\n",
       "       1., 1., 1., 0., 1., 0., 0., 0., 0., 1., 0., 1., 1., 1., 1., 0., 0.,\n",
       "       1., 0., 0., 0., 0., 0., 0., 0., 0., 0., 0., 1., 0., 1., 1., 1., 0.,\n",
       "       0., 1., 1., 1., 1., 1., 0., 1., 0., 0., 0., 0., 1., 1., 1., 1., 0.,\n",
       "       0., 0., 0., 1., 1., 0., 1., 1., 1., 0., 0., 1., 0., 0., 0., 1., 0.,\n",
       "       0., 0., 1., 0., 1., 1., 0., 0., 1., 0., 0., 1., 0., 1., 0., 0., 1.,\n",
       "       0., 1., 1., 0., 0., 0., 0., 0., 1., 1., 0., 1., 0., 0., 0., 0., 0.,\n",
       "       1., 0., 0., 1., 0., 0., 1., 0., 0., 0., 1., 1., 1., 1., 1., 0., 1.,\n",
       "       0., 1., 1., 1., 1., 0., 1., 1., 0., 0., 1., 0., 0., 1., 1., 0., 0.,\n",
       "       0., 1., 0., 0., 0., 1., 0., 1., 1., 0., 0., 1., 0., 0., 0., 0., 1.,\n",
       "       0., 1., 0., 0., 1., 0., 1., 0., 0., 1., 0., 0., 1., 0., 0., 1., 1.,\n",
       "       0., 0., 1., 1., 1., 0., 1., 1., 0., 0., 0., 0., 0., 1., 0., 0., 1.,\n",
       "       1., 1., 0., 0., 0., 0., 1., 0., 0., 0., 0., 1., 0., 0., 0., 0., 0.,\n",
       "       1., 0., 0., 0., 0., 1., 1., 1., 0., 0., 1., 1., 1., 0., 1., 0., 1.,\n",
       "       0., 0., 0., 0., 1., 0., 0., 0., 0., 1., 0., 0., 1., 0., 1., 0., 0.,\n",
       "       0., 1., 1., 0., 0., 0., 1., 1., 0., 0., 1., 0., 1., 1., 1., 1., 0.,\n",
       "       1., 0., 1., 1., 1., 0., 0., 0., 0., 0., 0., 1., 0., 1., 1., 0., 1.,\n",
       "       0., 0., 1., 1., 1., 0., 0., 0., 0., 1., 1., 1., 0., 1., 0., 0., 1.,\n",
       "       1., 1., 0., 0., 0., 1., 1., 0., 0., 1., 0., 0., 1., 0., 0., 1., 0.,\n",
       "       1., 1., 0., 0., 0., 0., 0., 1., 0., 1., 1., 0., 0., 0., 0., 1., 1.,\n",
       "       0., 0., 0., 0., 1., 0., 1., 1., 1., 1., 1., 0., 0., 0., 1., 0., 1.,\n",
       "       0., 0., 0., 0., 0., 1., 1., 1., 1., 1., 0., 0., 1., 0., 0., 0., 1.,\n",
       "       0., 1., 1., 1., 1., 1., 0., 1., 0., 1., 1., 1., 1., 0., 0., 1., 0.,\n",
       "       0., 0., 0., 1., 1., 0., 1., 1., 0., 1., 0., 1., 1., 0., 0., 0., 0.,\n",
       "       0., 0., 0., 1., 0., 1., 1., 0., 0., 1., 0., 1., 0., 0., 1., 0., 0.,\n",
       "       1., 0., 0., 0., 1., 0., 0., 1., 0., 0., 0., 0., 0., 0., 0., 0., 0.,\n",
       "       0., 0., 1., 1., 0., 0., 0., 1., 1., 1., 0., 1., 0., 1., 1., 0., 1.,\n",
       "       0., 1., 1., 0., 0., 1., 0., 0., 1., 0., 1., 1., 1., 1., 0., 0., 0.,\n",
       "       0., 0., 1., 1., 1., 1., 1., 1., 0., 1., 1., 1., 0., 1., 1., 0., 0.,\n",
       "       1., 0., 1., 0., 1., 0., 0., 0., 1., 0., 0., 1., 0., 0., 0., 0., 1.,\n",
       "       0., 1., 0., 0., 0., 1., 1., 0., 0., 1., 0., 1., 0., 1., 1., 0., 0.,\n",
       "       0., 0., 1., 1., 1., 1., 0., 0., 0., 0., 0., 1., 0., 0., 1., 1., 1.,\n",
       "       1., 1., 0., 0., 0., 1., 0., 0., 0., 0., 0., 0., 0., 0., 0., 0., 0.,\n",
       "       0., 0., 0., 0., 1., 0., 0., 0., 1., 1., 0., 0., 0., 0., 1., 0., 0.,\n",
       "       1., 1., 1., 1., 1., 0., 0., 0., 1., 1., 1., 0., 1., 1., 0., 0., 0.,\n",
       "       0., 0., 0., 1., 1., 0., 1., 1., 0., 0., 0., 1., 0., 0.],\n",
       "      dtype=float32)>"
      ]
     },
     "execution_count": 62,
     "metadata": {},
     "output_type": "execute_result"
    }
   ],
   "source": [
    "model_2_preds = tf.squeeze(tf.round(model_2_pred_probs))\n",
    "model_2_preds"
   ]
  },
  {
   "cell_type": "code",
   "execution_count": 270,
   "id": "bab11df0-340e-40aa-8339-6c4b6be63a24",
   "metadata": {},
   "outputs": [
    {
     "data": {
      "text/plain": [
       "{'accuracy': 0.7454068241469817,\n",
       " 'precision': 0.7449037620297463,\n",
       " 'recall': 0.7454068241469817,\n",
       " 'f1': 0.744735706756294}"
      ]
     },
     "execution_count": 270,
     "metadata": {},
     "output_type": "execute_result"
    }
   ],
   "source": [
    "# calculate the result\n",
    "model_2_results = calculate_results(y_true=val_labels, y_preds=model_2_preds)\n",
    "model_2_results"
   ]
  },
  {
   "cell_type": "code",
   "execution_count": 271,
   "id": "6a8253a9-da36-440f-8371-49c8b2e0153a",
   "metadata": {},
   "outputs": [
    {
     "data": {
      "text/plain": [
       "{'accuracy': 0.7926509186351706,\n",
       " 'precision': 0.8111390004213173,\n",
       " 'recall': 0.7926509186351706,\n",
       " 'f1': 0.7862189758049549}"
      ]
     },
     "execution_count": 271,
     "metadata": {},
     "output_type": "execute_result"
    }
   ],
   "source": [
    "baseline_results"
   ]
  },
  {
   "cell_type": "code",
   "execution_count": 65,
   "id": "c4de5377-8241-41b5-bb58-84afab6f1c26",
   "metadata": {},
   "outputs": [
    {
     "data": {
      "image/png": "[encoded data removed]",
      "text/plain": [
       "<Figure size 640x480 with 1 Axes>"
      ]
     },
     "metadata": {},
     "output_type": "display_data"
    },
    {
     "data": {
      "image/png": "[encoded data removed]",
      "text/plain": [
       "<Figure size 640x480 with 1 Axes>"
      ]
     },
     "metadata": {},
     "output_type": "display_data"
    }
   ],
   "source": [
    "plot_loss_curves(model_2_history)"
   ]
  },
  {
   "cell_type": "markdown",
   "id": "7b7a90bd-465e-4706-9cb9-ca46b7991852",
   "metadata": {},
   "source": [
    "## Model 3: GRU model"
   ]
  },
  {
   "cell_type": "code",
   "execution_count": 66,
   "id": "2c7829e9-24c3-426c-8e49-a677176f5516",
   "metadata": {},
   "outputs": [],
   "source": [
    "# build the network\n",
    "from tensorflow.keras import layers\n",
    "inputs = layers.Input(shape=(1,), dtype=tf.string)\n",
    "x = text_vectorizer(inputs)\n",
    "x = embedding(x)\n",
    "x = layers.GRU(64, return_sequences=True)(x)\n",
    "x = layers.LSTM(64, return_sequences=True)(x)\n",
    "x = layers.GRU(64)(x)\n",
    "x = layers.Dense(64, activation='relu')(x)\n",
    "# x = layers.GlobalAveragePooling1D(name=\"global_avg_pool_layer\")(x)\n",
    "outputs = layers.Dense(1, activation='sigmoid')(x)\n",
    "model_3 =  tf.keras.Model(inputs, outputs, name='model_3_GRU')"
   ]
  },
  {
   "cell_type": "code",
   "execution_count": 67,
   "id": "7ec1dc41-51e5-430a-b1fb-1910a9e29328",
   "metadata": {},
   "outputs": [
    {
     "name": "stdout",
     "output_type": "stream",
     "text": [
      "Model: \"model_3_GRU\"\n",
      "_________________________________________________________________\n",
      " Layer (type)                Output Shape              Param #   \n",
      "=================================================================\n",
      " input_3 (InputLayer)        [(None, 1)]               0         \n",
      "                                                                 \n",
      " text_vectorization_1 (TextV  (None, 15)               0         \n",
      " ectorization)                                                   \n",
      "                                                                 \n",
      " embedding (Embedding)       (None, 15, 128)           1280000   \n",
      "                                                                 \n",
      " gru (GRU)                   (None, 15, 64)            37248     \n",
      "                                                                 \n",
      " lstm_2 (LSTM)               (None, 15, 64)            33024     \n",
      "                                                                 \n",
      " gru_1 (GRU)                 (None, 64)                24960     \n",
      "                                                                 \n",
      " dense_3 (Dense)             (None, 64)                4160      \n",
      "                                                                 \n",
      " dense_4 (Dense)             (None, 1)                 65        \n",
      "                                                                 \n",
      "=================================================================\n",
      "Total params: 1,379,457\n",
      "Trainable params: 1,379,457\n",
      "Non-trainable params: 0\n",
      "_________________________________________________________________\n"
     ]
    }
   ],
   "source": [
    "model_3.summary()"
   ]
  },
  {
   "cell_type": "code",
   "execution_count": 68,
   "id": "944fba6c-1fd6-45d0-9eb0-e9fd0c317431",
   "metadata": {},
   "outputs": [],
   "source": [
    "# compile the model\n",
    "model_3.compile(loss=tf.keras.losses.BinaryCrossentropy(),\n",
    "                optimizer=tf.keras.optimizers.Adam(),\n",
    "                metrics=tf.keras.metrics.Accuracy())"
   ]
  },
  {
   "cell_type": "code",
   "execution_count": 69,
   "id": "8f1a11c1-7e8f-4bf6-940f-685aae49dc82",
   "metadata": {},
   "outputs": [
    {
     "name": "stdout",
     "output_type": "stream",
     "text": [
      "Saving TensorBoard log files to: model_logs/model_3_GRU/20241009-115636\n",
      "Epoch 1/100\n",
      "215/215 [==============================] - 23s 64ms/step - loss: 0.0864 - accuracy: 0.0000e+00 - val_loss: 1.5015 - val_accuracy: 0.0000e+00\n",
      "Epoch 2/100\n",
      "215/215 [==============================] - 11s 50ms/step - loss: 0.0382 - accuracy: 0.0000e+00 - val_loss: 1.6228 - val_accuracy: 0.0000e+00\n",
      "Epoch 3/100\n",
      "215/215 [==============================] - 12s 55ms/step - loss: 0.0326 - accuracy: 0.0000e+00 - val_loss: 1.7115 - val_accuracy: 0.0000e+00\n",
      "Epoch 4/100\n",
      "215/215 [==============================] - 14s 66ms/step - loss: 0.0323 - accuracy: 0.0000e+00 - val_loss: 1.9370 - val_accuracy: 0.0000e+00\n",
      "Epoch 5/100\n",
      "215/215 [==============================] - 12s 58ms/step - loss: 0.0309 - accuracy: 0.0000e+00 - val_loss: 1.6003 - val_accuracy: 0.0000e+00\n",
      "Epoch 6/100\n",
      "215/215 [==============================] - 10s 45ms/step - loss: 0.0342 - accuracy: 0.0000e+00 - val_loss: 1.3348 - val_accuracy: 0.0000e+00\n",
      "Epoch 7/100\n",
      "215/215 [==============================] - 10s 46ms/step - loss: 0.0304 - accuracy: 0.0000e+00 - val_loss: 1.7520 - val_accuracy: 0.0000e+00\n",
      "Epoch 8/100\n",
      "215/215 [==============================] - 10s 46ms/step - loss: 0.0301 - accuracy: 0.0000e+00 - val_loss: 1.6102 - val_accuracy: 0.0000e+00\n",
      "Epoch 9/100\n",
      "215/215 [==============================] - 10s 46ms/step - loss: 0.0267 - accuracy: 0.0000e+00 - val_loss: 1.8771 - val_accuracy: 0.0000e+00\n",
      "Epoch 10/100\n",
      "215/215 [==============================] - 10s 46ms/step - loss: 0.0303 - accuracy: 0.0000e+00 - val_loss: 1.6826 - val_accuracy: 0.0000e+00\n",
      "Epoch 11/100\n",
      "215/215 [==============================] - 10s 46ms/step - loss: 0.0267 - accuracy: 0.0000e+00 - val_loss: 2.2053 - val_accuracy: 0.0000e+00\n",
      "Epoch 12/100\n",
      "215/215 [==============================] - 10s 45ms/step - loss: 0.0320 - accuracy: 0.0000e+00 - val_loss: 2.1165 - val_accuracy: 0.0000e+00\n",
      "Epoch 13/100\n",
      "215/215 [==============================] - 10s 46ms/step - loss: 0.0272 - accuracy: 0.0000e+00 - val_loss: 2.1483 - val_accuracy: 0.0000e+00\n",
      "Epoch 14/100\n",
      "215/215 [==============================] - 10s 46ms/step - loss: 0.0257 - accuracy: 0.0000e+00 - val_loss: 2.3517 - val_accuracy: 0.0000e+00\n",
      "Epoch 15/100\n",
      "215/215 [==============================] - 10s 45ms/step - loss: 0.0258 - accuracy: 0.0000e+00 - val_loss: 2.3537 - val_accuracy: 0.0000e+00\n",
      "Epoch 16/100\n",
      "215/215 [==============================] - 10s 46ms/step - loss: 0.0251 - accuracy: 0.0000e+00 - val_loss: 2.3842 - val_accuracy: 0.0000e+00\n",
      "Epoch 17/100\n",
      "215/215 [==============================] - 10s 46ms/step - loss: 0.0426 - accuracy: 0.0000e+00 - val_loss: 1.8077 - val_accuracy: 0.0000e+00\n",
      "Epoch 18/100\n",
      "215/215 [==============================] - 10s 45ms/step - loss: 0.0256 - accuracy: 0.0000e+00 - val_loss: 2.0625 - val_accuracy: 0.0000e+00\n",
      "Epoch 19/100\n",
      "215/215 [==============================] - 10s 46ms/step - loss: 0.0256 - accuracy: 0.0000e+00 - val_loss: 2.1405 - val_accuracy: 0.0000e+00\n",
      "Epoch 20/100\n",
      "215/215 [==============================] - 10s 45ms/step - loss: 0.0250 - accuracy: 0.0000e+00 - val_loss: 2.3084 - val_accuracy: 0.0000e+00\n",
      "Epoch 21/100\n",
      "215/215 [==============================] - 10s 46ms/step - loss: 0.0262 - accuracy: 0.0000e+00 - val_loss: 2.1019 - val_accuracy: 0.0000e+00\n",
      "Epoch 22/100\n",
      "215/215 [==============================] - 10s 46ms/step - loss: 0.0406 - accuracy: 0.0000e+00 - val_loss: 1.9596 - val_accuracy: 0.0000e+00\n",
      "Epoch 23/100\n",
      "215/215 [==============================] - 10s 47ms/step - loss: 0.0274 - accuracy: 0.0000e+00 - val_loss: 1.8484 - val_accuracy: 0.0000e+00\n",
      "Epoch 24/100\n",
      "215/215 [==============================] - 12s 57ms/step - loss: 0.0252 - accuracy: 0.0000e+00 - val_loss: 2.1691 - val_accuracy: 0.0000e+00\n",
      "Epoch 25/100\n",
      "215/215 [==============================] - 13s 62ms/step - loss: 0.0252 - accuracy: 0.0000e+00 - val_loss: 2.2222 - val_accuracy: 0.0000e+00\n",
      "Epoch 26/100\n",
      "215/215 [==============================] - 15s 68ms/step - loss: 0.0378 - accuracy: 0.0000e+00 - val_loss: 1.7586 - val_accuracy: 0.0000e+00\n",
      "Epoch 27/100\n",
      "215/215 [==============================] - 14s 67ms/step - loss: 0.0281 - accuracy: 0.0000e+00 - val_loss: 1.8321 - val_accuracy: 0.0000e+00\n",
      "Epoch 28/100\n",
      "215/215 [==============================] - 18s 84ms/step - loss: 0.0245 - accuracy: 0.0000e+00 - val_loss: 2.1639 - val_accuracy: 0.0000e+00\n",
      "Epoch 29/100\n",
      "215/215 [==============================] - 15s 68ms/step - loss: 0.0258 - accuracy: 0.0000e+00 - val_loss: 2.0565 - val_accuracy: 0.0000e+00\n",
      "Epoch 30/100\n",
      "215/215 [==============================] - 12s 54ms/step - loss: 0.0255 - accuracy: 0.0000e+00 - val_loss: 2.0991 - val_accuracy: 0.0000e+00\n",
      "Epoch 31/100\n",
      "215/215 [==============================] - 11s 52ms/step - loss: 0.0274 - accuracy: 0.0000e+00 - val_loss: 1.8857 - val_accuracy: 0.0000e+00\n",
      "Epoch 32/100\n",
      "215/215 [==============================] - 10s 48ms/step - loss: 0.0248 - accuracy: 0.0000e+00 - val_loss: 2.0419 - val_accuracy: 0.0000e+00\n",
      "Epoch 33/100\n",
      "215/215 [==============================] - 10s 48ms/step - loss: 0.0243 - accuracy: 0.0000e+00 - val_loss: 2.1540 - val_accuracy: 0.0000e+00\n",
      "Epoch 34/100\n",
      "215/215 [==============================] - 10s 47ms/step - loss: 0.0247 - accuracy: 0.0000e+00 - val_loss: 2.2601 - val_accuracy: 0.0000e+00\n",
      "Epoch 35/100\n",
      "215/215 [==============================] - 10s 49ms/step - loss: 0.0268 - accuracy: 0.0000e+00 - val_loss: 1.9278 - val_accuracy: 0.0000e+00\n",
      "Epoch 36/100\n",
      "215/215 [==============================] - 13s 63ms/step - loss: 0.0267 - accuracy: 0.0000e+00 - val_loss: 1.9160 - val_accuracy: 0.0000e+00\n",
      "Epoch 37/100\n",
      "215/215 [==============================] - 11s 50ms/step - loss: 0.0314 - accuracy: 0.0000e+00 - val_loss: 1.8458 - val_accuracy: 0.0000e+00\n",
      "Epoch 38/100\n",
      "215/215 [==============================] - 10s 48ms/step - loss: 0.0256 - accuracy: 0.0000e+00 - val_loss: 2.0825 - val_accuracy: 0.0000e+00\n",
      "Epoch 39/100\n",
      "215/215 [==============================] - 10s 49ms/step - loss: 0.0235 - accuracy: 0.0000e+00 - val_loss: 2.2008 - val_accuracy: 0.0000e+00\n",
      "Epoch 40/100\n",
      "215/215 [==============================] - 10s 48ms/step - loss: 0.0239 - accuracy: 0.0000e+00 - val_loss: 2.3274 - val_accuracy: 0.0000e+00\n",
      "Epoch 41/100\n",
      "215/215 [==============================] - 10s 47ms/step - loss: 0.0313 - accuracy: 0.0000e+00 - val_loss: 1.9654 - val_accuracy: 0.0000e+00\n",
      "Epoch 42/100\n",
      "215/215 [==============================] - 10s 47ms/step - loss: 0.0300 - accuracy: 0.0000e+00 - val_loss: 2.0082 - val_accuracy: 0.0000e+00\n",
      "Epoch 43/100\n",
      "215/215 [==============================] - 10s 49ms/step - loss: 0.0250 - accuracy: 0.0000e+00 - val_loss: 1.9982 - val_accuracy: 0.0000e+00\n",
      "Epoch 44/100\n",
      "215/215 [==============================] - 10s 48ms/step - loss: 0.0239 - accuracy: 0.0000e+00 - val_loss: 2.3096 - val_accuracy: 0.0000e+00\n",
      "Epoch 45/100\n",
      "215/215 [==============================] - 10s 49ms/step - loss: 0.0241 - accuracy: 0.0000e+00 - val_loss: 2.2888 - val_accuracy: 0.0000e+00\n",
      "Epoch 46/100\n",
      "215/215 [==============================] - 10s 48ms/step - loss: 0.0238 - accuracy: 0.0000e+00 - val_loss: 2.3792 - val_accuracy: 0.0000e+00\n",
      "Epoch 47/100\n",
      "215/215 [==============================] - 10s 48ms/step - loss: 0.0237 - accuracy: 0.0000e+00 - val_loss: 2.4299 - val_accuracy: 0.0000e+00\n",
      "Epoch 48/100\n",
      "215/215 [==============================] - 11s 52ms/step - loss: 0.0263 - accuracy: 0.0000e+00 - val_loss: 2.0867 - val_accuracy: 0.0000e+00\n",
      "Epoch 49/100\n",
      "215/215 [==============================] - 11s 52ms/step - loss: 0.0285 - accuracy: 0.0000e+00 - val_loss: 2.2387 - val_accuracy: 0.0000e+00\n",
      "Epoch 50/100\n",
      "215/215 [==============================] - 13s 60ms/step - loss: 0.0295 - accuracy: 0.0000e+00 - val_loss: 1.9360 - val_accuracy: 0.0000e+00\n",
      "Epoch 51/100\n",
      "215/215 [==============================] - 11s 52ms/step - loss: 0.0251 - accuracy: 0.0000e+00 - val_loss: 2.3584 - val_accuracy: 0.0000e+00\n",
      "Epoch 52/100\n",
      "215/215 [==============================] - 10s 49ms/step - loss: 0.0267 - accuracy: 0.0000e+00 - val_loss: 1.6835 - val_accuracy: 0.0000e+00\n",
      "Epoch 53/100\n",
      "215/215 [==============================] - 11s 49ms/step - loss: 0.0250 - accuracy: 0.0000e+00 - val_loss: 2.0032 - val_accuracy: 0.0000e+00\n",
      "Epoch 54/100\n",
      "215/215 [==============================] - 10s 48ms/step - loss: 0.0249 - accuracy: 0.0000e+00 - val_loss: 2.1944 - val_accuracy: 0.0000e+00\n",
      "Epoch 55/100\n",
      "215/215 [==============================] - 13s 59ms/step - loss: 0.0235 - accuracy: 0.0000e+00 - val_loss: 2.3207 - val_accuracy: 0.0000e+00\n",
      "Epoch 56/100\n",
      "215/215 [==============================] - 10s 48ms/step - loss: 0.0243 - accuracy: 0.0000e+00 - val_loss: 2.1413 - val_accuracy: 0.0000e+00\n",
      "Epoch 57/100\n",
      "215/215 [==============================] - 10s 47ms/step - loss: 0.0314 - accuracy: 0.0000e+00 - val_loss: 1.8638 - val_accuracy: 0.0000e+00\n",
      "Epoch 58/100\n",
      "215/215 [==============================] - 10s 47ms/step - loss: 0.0269 - accuracy: 0.0000e+00 - val_loss: 1.8672 - val_accuracy: 0.0000e+00\n",
      "Epoch 59/100\n",
      "215/215 [==============================] - 10s 49ms/step - loss: 0.0241 - accuracy: 0.0000e+00 - val_loss: 2.1896 - val_accuracy: 0.0000e+00\n",
      "Epoch 60/100\n",
      "215/215 [==============================] - 10s 45ms/step - loss: 0.0235 - accuracy: 0.0000e+00 - val_loss: 2.4363 - val_accuracy: 0.0000e+00\n",
      "Epoch 61/100\n",
      "215/215 [==============================] - 11s 52ms/step - loss: 0.0234 - accuracy: 0.0000e+00 - val_loss: 2.3244 - val_accuracy: 0.0000e+00\n",
      "Epoch 62/100\n",
      "215/215 [==============================] - 10s 48ms/step - loss: 0.0232 - accuracy: 0.0000e+00 - val_loss: 2.6232 - val_accuracy: 0.0000e+00\n",
      "Epoch 63/100\n",
      "215/215 [==============================] - 10s 48ms/step - loss: 0.0229 - accuracy: 0.0000e+00 - val_loss: 2.7719 - val_accuracy: 0.0000e+00\n",
      "Epoch 64/100\n",
      "215/215 [==============================] - 10s 49ms/step - loss: 0.0330 - accuracy: 0.0000e+00 - val_loss: 1.8584 - val_accuracy: 0.0000e+00\n",
      "Epoch 65/100\n",
      "215/215 [==============================] - 10s 49ms/step - loss: 0.0250 - accuracy: 0.0000e+00 - val_loss: 2.1512 - val_accuracy: 0.0000e+00\n",
      "Epoch 66/100\n",
      "215/215 [==============================] - 10s 47ms/step - loss: 0.0241 - accuracy: 0.0000e+00 - val_loss: 2.0576 - val_accuracy: 0.0000e+00\n",
      "Epoch 67/100\n",
      "215/215 [==============================] - 10s 48ms/step - loss: 0.0236 - accuracy: 0.0000e+00 - val_loss: 2.3523 - val_accuracy: 0.0000e+00\n",
      "Epoch 68/100\n",
      "215/215 [==============================] - 10s 48ms/step - loss: 0.0234 - accuracy: 0.0000e+00 - val_loss: 2.4220 - val_accuracy: 0.0000e+00\n",
      "Epoch 69/100\n",
      "215/215 [==============================] - 10s 48ms/step - loss: 0.0230 - accuracy: 0.0000e+00 - val_loss: 2.5883 - val_accuracy: 0.0000e+00\n",
      "Epoch 70/100\n",
      "215/215 [==============================] - 10s 47ms/step - loss: 0.0243 - accuracy: 0.0000e+00 - val_loss: 2.1409 - val_accuracy: 0.0000e+00\n",
      "Epoch 71/100\n",
      "215/215 [==============================] - 10s 49ms/step - loss: 0.0231 - accuracy: 0.0000e+00 - val_loss: 2.5532 - val_accuracy: 0.0000e+00\n",
      "Epoch 72/100\n",
      "215/215 [==============================] - 10s 48ms/step - loss: 0.0228 - accuracy: 0.0000e+00 - val_loss: 2.6712 - val_accuracy: 0.0000e+00\n",
      "Epoch 73/100\n",
      "215/215 [==============================] - 11s 51ms/step - loss: 0.0234 - accuracy: 0.0000e+00 - val_loss: 2.6902 - val_accuracy: 0.0000e+00\n",
      "Epoch 74/100\n",
      "215/215 [==============================] - 10s 47ms/step - loss: 0.0271 - accuracy: 0.0000e+00 - val_loss: 2.0335 - val_accuracy: 0.0000e+00\n",
      "Epoch 75/100\n",
      "215/215 [==============================] - 10s 47ms/step - loss: 0.0254 - accuracy: 0.0000e+00 - val_loss: 2.1734 - val_accuracy: 0.0000e+00\n",
      "Epoch 76/100\n",
      "215/215 [==============================] - 10s 47ms/step - loss: 0.0309 - accuracy: 0.0000e+00 - val_loss: 1.5615 - val_accuracy: 0.0000e+00\n",
      "Epoch 77/100\n",
      "215/215 [==============================] - 11s 49ms/step - loss: 0.0280 - accuracy: 0.0000e+00 - val_loss: 2.1430 - val_accuracy: 0.0000e+00\n",
      "Epoch 78/100\n",
      "215/215 [==============================] - 10s 47ms/step - loss: 0.0236 - accuracy: 0.0000e+00 - val_loss: 2.2080 - val_accuracy: 0.0000e+00\n",
      "Epoch 79/100\n",
      "215/215 [==============================] - 11s 53ms/step - loss: 0.0241 - accuracy: 0.0000e+00 - val_loss: 2.1461 - val_accuracy: 0.0000e+00\n",
      "Epoch 80/100\n",
      "215/215 [==============================] - 11s 52ms/step - loss: 0.0230 - accuracy: 0.0000e+00 - val_loss: 2.4297 - val_accuracy: 0.0000e+00\n",
      "Epoch 81/100\n",
      "215/215 [==============================] - 11s 52ms/step - loss: 0.0233 - accuracy: 0.0000e+00 - val_loss: 2.3890 - val_accuracy: 0.0000e+00\n",
      "Epoch 82/100\n",
      "215/215 [==============================] - 15s 71ms/step - loss: 0.0228 - accuracy: 0.0000e+00 - val_loss: 2.5084 - val_accuracy: 0.0000e+00\n",
      "Epoch 83/100\n",
      "215/215 [==============================] - 14s 64ms/step - loss: 0.0239 - accuracy: 0.0000e+00 - val_loss: 2.5293 - val_accuracy: 0.0000e+00\n",
      "Epoch 84/100\n",
      "215/215 [==============================] - 12s 58ms/step - loss: 0.0228 - accuracy: 0.0000e+00 - val_loss: 2.5958 - val_accuracy: 0.0000e+00\n",
      "Epoch 85/100\n",
      "215/215 [==============================] - 10s 48ms/step - loss: 0.0226 - accuracy: 0.0000e+00 - val_loss: 2.6610 - val_accuracy: 0.0000e+00\n",
      "Epoch 86/100\n",
      "215/215 [==============================] - 10s 48ms/step - loss: 0.0226 - accuracy: 0.0000e+00 - val_loss: 2.6922 - val_accuracy: 0.0000e+00\n",
      "Epoch 87/100\n",
      "215/215 [==============================] - 11s 50ms/step - loss: 0.0234 - accuracy: 0.0000e+00 - val_loss: 2.5028 - val_accuracy: 0.0000e+00\n",
      "Epoch 88/100\n",
      "215/215 [==============================] - 10s 47ms/step - loss: 0.0234 - accuracy: 0.0000e+00 - val_loss: 2.5267 - val_accuracy: 0.0000e+00\n",
      "Epoch 89/100\n",
      "215/215 [==============================] - 10s 48ms/step - loss: 0.0228 - accuracy: 0.0000e+00 - val_loss: 2.7484 - val_accuracy: 0.0000e+00\n",
      "Epoch 90/100\n",
      "215/215 [==============================] - 10s 48ms/step - loss: 0.0227 - accuracy: 0.0000e+00 - val_loss: 2.7336 - val_accuracy: 0.0000e+00\n",
      "Epoch 91/100\n",
      "215/215 [==============================] - 10s 48ms/step - loss: 0.0226 - accuracy: 0.0000e+00 - val_loss: 2.8358 - val_accuracy: 0.0000e+00\n",
      "Epoch 92/100\n",
      "215/215 [==============================] - 10s 48ms/step - loss: 0.0229 - accuracy: 0.0000e+00 - val_loss: 2.8968 - val_accuracy: 0.0000e+00\n",
      "Epoch 93/100\n",
      "215/215 [==============================] - 10s 48ms/step - loss: 0.0228 - accuracy: 2.9193e-04 - val_loss: 2.9744 - val_accuracy: 0.0000e+00\n",
      "Epoch 94/100\n",
      "215/215 [==============================] - 10s 47ms/step - loss: 0.0241 - accuracy: 5.8386e-04 - val_loss: 2.2570 - val_accuracy: 0.0013\n",
      "Epoch 95/100\n",
      "215/215 [==============================] - 10s 48ms/step - loss: 0.0228 - accuracy: 0.0072 - val_loss: 2.5165 - val_accuracy: 0.0000e+00\n",
      "Epoch 96/100\n",
      "215/215 [==============================] - 10s 47ms/step - loss: 0.0237 - accuracy: 5.8386e-04 - val_loss: 2.3492 - val_accuracy: 0.0000e+00\n",
      "Epoch 97/100\n",
      "215/215 [==============================] - 11s 53ms/step - loss: 0.0423 - accuracy: 0.0057 - val_loss: 1.5054 - val_accuracy: 0.0000e+00\n",
      "Epoch 98/100\n",
      "215/215 [==============================] - 12s 58ms/step - loss: 0.0271 - accuracy: 0.0000e+00 - val_loss: 1.8455 - val_accuracy: 0.0000e+00\n",
      "Epoch 99/100\n",
      "215/215 [==============================] - 9s 44ms/step - loss: 0.0242 - accuracy: 0.0000e+00 - val_loss: 1.8814 - val_accuracy: 0.0000e+00\n",
      "Epoch 100/100\n",
      "215/215 [==============================] - 9s 44ms/step - loss: 0.0228 - accuracy: 0.0000e+00 - val_loss: 2.2047 - val_accuracy: 0.0000e+00\n"
     ]
    }
   ],
   "source": [
    "model_3_history = model_3.fit(train_sentences,\n",
    "                              train_labels,\n",
    "                              epochs=100,\n",
    "                              validation_data=(val_sentences, val_labels),\n",
    "                              callbacks=[create_tensorboard_callback(SAVE_DIR, 'model_3_GRU')])"
   ]
  },
  {
   "cell_type": "code",
   "execution_count": 70,
   "id": "95621b6c-f8e3-4a68-a4c7-3c27270cb0cd",
   "metadata": {},
   "outputs": [
    {
     "name": "stdout",
     "output_type": "stream",
     "text": [
      "Model: \"model_3_GRU\"\n",
      "_________________________________________________________________\n",
      " Layer (type)                Output Shape              Param #   \n",
      "=================================================================\n",
      " input_3 (InputLayer)        [(None, 1)]               0         \n",
      "                                                                 \n",
      " text_vectorization_1 (TextV  (None, 15)               0         \n",
      " ectorization)                                                   \n",
      "                                                                 \n",
      " embedding (Embedding)       (None, 15, 128)           1280000   \n",
      "                                                                 \n",
      " gru (GRU)                   (None, 15, 64)            37248     \n",
      "                                                                 \n",
      " lstm_2 (LSTM)               (None, 15, 64)            33024     \n",
      "                                                                 \n",
      " gru_1 (GRU)                 (None, 64)                24960     \n",
      "                                                                 \n",
      " dense_3 (Dense)             (None, 64)                4160      \n",
      "                                                                 \n",
      " dense_4 (Dense)             (None, 1)                 65        \n",
      "                                                                 \n",
      "=================================================================\n",
      "Total params: 1,379,457\n",
      "Trainable params: 1,379,457\n",
      "Non-trainable params: 0\n",
      "_________________________________________________________________\n"
     ]
    }
   ],
   "source": [
    "model_3.summary()"
   ]
  },
  {
   "cell_type": "code",
   "execution_count": 71,
   "id": "151d739a-0b6f-4da4-b4f1-9f6268a9a76a",
   "metadata": {},
   "outputs": [
    {
     "name": "stdout",
     "output_type": "stream",
     "text": [
      "24/24 [==============================] - 2s 11ms/step\n"
     ]
    },
    {
     "data": {
      "text/plain": [
       "array([[8.4921239e-06],\n",
       "       [9.9806678e-01],\n",
       "       [9.9997681e-01],\n",
       "       [4.2239720e-01],\n",
       "       [2.9068328e-06],\n",
       "       [9.9996954e-01],\n",
       "       [9.9316669e-01],\n",
       "       [9.9998099e-01],\n",
       "       [9.9998564e-01],\n",
       "       [9.9994528e-01]], dtype=float32)"
      ]
     },
     "execution_count": 71,
     "metadata": {},
     "output_type": "execute_result"
    }
   ],
   "source": [
    "model_3_pred_probs = model_3.predict(val_sentences)\n",
    "model_3_pred_probs[:10]"
   ]
  },
  {
   "cell_type": "code",
   "execution_count": 72,
   "id": "78dd2a1c-62b6-482f-93c7-88a265e6a550",
   "metadata": {},
   "outputs": [
    {
     "data": {
      "text/plain": [
       "<tf.Tensor: shape=(10,), dtype=float32, numpy=array([0., 1., 1., 0., 0., 1., 1., 1., 1., 1.], dtype=float32)>"
      ]
     },
     "execution_count": 72,
     "metadata": {},
     "output_type": "execute_result"
    }
   ],
   "source": [
    "model_3_preds = tf.squeeze(tf.round(model_3_pred_probs))\n",
    "model_3_preds[:10]"
   ]
  },
  {
   "cell_type": "code",
   "execution_count": 272,
   "id": "bc1ac901-6a86-4738-bbb9-803c8a6ac71b",
   "metadata": {},
   "outputs": [
    {
     "data": {
      "text/plain": [
       "{'accuracy': 0.7493438320209974,\n",
       " 'precision': 0.7489845053528059,\n",
       " 'recall': 0.7493438320209974,\n",
       " 'f1': 0.7483475363447356}"
      ]
     },
     "execution_count": 272,
     "metadata": {},
     "output_type": "execute_result"
    }
   ],
   "source": [
    "# calculate the result\n",
    "model_3_results = calculate_results(y_true=val_labels, y_preds=model_3_preds)\n",
    "model_3_results"
   ]
  },
  {
   "cell_type": "code",
   "execution_count": 273,
   "id": "6265e0f0-309c-48e9-a666-f0bad5cb4915",
   "metadata": {},
   "outputs": [
    {
     "data": {
      "text/plain": [
       "{'accuracy': 0.7454068241469817,\n",
       " 'precision': 0.7449037620297463,\n",
       " 'recall': 0.7454068241469817,\n",
       " 'f1': 0.744735706756294}"
      ]
     },
     "execution_count": 273,
     "metadata": {},
     "output_type": "execute_result"
    }
   ],
   "source": [
    "model_2_results"
   ]
  },
  {
   "cell_type": "code",
   "execution_count": 274,
   "id": "fdd95326-6a9e-45d0-a66f-a36aef6def01",
   "metadata": {},
   "outputs": [
    {
     "data": {
      "text/plain": [
       "{'accuracy': 0.7926509186351706,\n",
       " 'precision': 0.8111390004213173,\n",
       " 'recall': 0.7926509186351706,\n",
       " 'f1': 0.7862189758049549}"
      ]
     },
     "execution_count": 274,
     "metadata": {},
     "output_type": "execute_result"
    }
   ],
   "source": [
    "baseline_results"
   ]
  },
  {
   "cell_type": "code",
   "execution_count": 76,
   "id": "dd7ffd7b-f347-4968-932e-b02478182597",
   "metadata": {},
   "outputs": [
    {
     "data": {
      "image/png": "[encoded data removed]",
      "text/plain": [
       "<Figure size 640x480 with 1 Axes>"
      ]
     },
     "metadata": {},
     "output_type": "display_data"
    },
    {
     "data": {
      "image/png": "[encoded data removed]",
      "text/plain": [
       "<Figure size 640x480 with 1 Axes>"
      ]
     },
     "metadata": {},
     "output_type": "display_data"
    }
   ],
   "source": [
    "plot_loss_curves(model_3_history)"
   ]
  },
  {
   "cell_type": "markdown",
   "id": "6cce6628-bd18-42c4-ba18-9f521ce9ea54",
   "metadata": {},
   "source": [
    "## Model 4: Bidirectional-LSTM model"
   ]
  },
  {
   "cell_type": "code",
   "execution_count": 77,
   "id": "153f05e5-d0fa-43b5-a5ba-fff673bdb1fb",
   "metadata": {},
   "outputs": [],
   "source": [
    "# build the network\n",
    "from tensorflow.keras import layers\n",
    "inputs = layers.Input(shape=(1,), dtype=tf.string)\n",
    "x = text_vectorizer(inputs)\n",
    "x = embedding(x)\n",
    "x = layers.Bidirectional(layers.LSTM(64, return_sequences=True))(x)\n",
    "x = layers.Bidirectional(layers.GRU(64))(x)\n",
    "outputs = layers.Dense(1, activation='sigmoid')(x)\n",
    "model_4 =  tf.keras.Model(inputs, outputs, name='model_4_Bidirectional')"
   ]
  },
  {
   "cell_type": "code",
   "execution_count": 78,
   "id": "f2af2f96-34a2-41b1-8565-848fccfffab8",
   "metadata": {},
   "outputs": [
    {
     "name": "stdout",
     "output_type": "stream",
     "text": [
      "Model: \"model_4_Bidirectional\"\n",
      "_________________________________________________________________\n",
      " Layer (type)                Output Shape              Param #   \n",
      "=================================================================\n",
      " input_4 (InputLayer)        [(None, 1)]               0         \n",
      "                                                                 \n",
      " text_vectorization_1 (TextV  (None, 15)               0         \n",
      " ectorization)                                                   \n",
      "                                                                 \n",
      " embedding (Embedding)       (None, 15, 128)           1280000   \n",
      "                                                                 \n",
      " bidirectional (Bidirectiona  (None, 15, 128)          98816     \n",
      " l)                                                              \n",
      "                                                                 \n",
      " bidirectional_1 (Bidirectio  (None, 128)              74496     \n",
      " nal)                                                            \n",
      "                                                                 \n",
      " dense_5 (Dense)             (None, 1)                 129       \n",
      "                                                                 \n",
      "=================================================================\n",
      "Total params: 1,453,441\n",
      "Trainable params: 1,453,441\n",
      "Non-trainable params: 0\n",
      "_________________________________________________________________\n"
     ]
    }
   ],
   "source": [
    "model_4.summary()"
   ]
  },
  {
   "cell_type": "code",
   "execution_count": 79,
   "id": "2f1561bc-1f86-491b-b6f6-da8d0a28d974",
   "metadata": {},
   "outputs": [],
   "source": [
    "# compile the model\n",
    "model_4.compile(loss=tf.keras.losses.BinaryCrossentropy(),\n",
    "                optimizer=tf.keras.optimizers.Adam(),\n",
    "                metrics=tf.keras.metrics.Accuracy())"
   ]
  },
  {
   "cell_type": "code",
   "execution_count": 80,
   "id": "b78a0fd3-53cc-43ea-9050-97e78e2dcfa2",
   "metadata": {},
   "outputs": [
    {
     "name": "stdout",
     "output_type": "stream",
     "text": [
      "Saving TensorBoard log files to: model_logs/model_4_bidirectional/20241009-121457\n",
      "Epoch 1/100\n",
      "215/215 [==============================] - 21s 64ms/step - loss: 0.0607 - accuracy: 0.0000e+00 - val_loss: 1.2620 - val_accuracy: 0.0000e+00\n",
      "Epoch 2/100\n",
      "215/215 [==============================] - 14s 65ms/step - loss: 0.0330 - accuracy: 0.0000e+00 - val_loss: 1.4556 - val_accuracy: 0.0000e+00\n",
      "Epoch 3/100\n",
      "215/215 [==============================] - 14s 66ms/step - loss: 0.0314 - accuracy: 0.0000e+00 - val_loss: 1.6521 - val_accuracy: 0.0000e+00\n",
      "Epoch 4/100\n",
      "215/215 [==============================] - 12s 56ms/step - loss: 0.0282 - accuracy: 0.0000e+00 - val_loss: 1.7639 - val_accuracy: 0.0000e+00\n",
      "Epoch 5/100\n",
      "215/215 [==============================] - 12s 54ms/step - loss: 0.0264 - accuracy: 0.0000e+00 - val_loss: 1.9098 - val_accuracy: 0.0000e+00\n",
      "Epoch 6/100\n",
      "215/215 [==============================] - 12s 58ms/step - loss: 0.0285 - accuracy: 0.0000e+00 - val_loss: 1.6310 - val_accuracy: 0.0000e+00\n",
      "Epoch 7/100\n",
      "215/215 [==============================] - 12s 55ms/step - loss: 0.0305 - accuracy: 0.0000e+00 - val_loss: 1.6481 - val_accuracy: 0.0000e+00\n",
      "Epoch 8/100\n",
      "215/215 [==============================] - 12s 54ms/step - loss: 0.0279 - accuracy: 0.0000e+00 - val_loss: 1.7638 - val_accuracy: 0.0000e+00\n",
      "Epoch 9/100\n",
      "215/215 [==============================] - 16s 66ms/step - loss: 0.0257 - accuracy: 0.0000e+00 - val_loss: 1.9551 - val_accuracy: 0.0000e+00\n",
      "Epoch 10/100\n",
      "215/215 [==============================] - 12s 54ms/step - loss: 0.0246 - accuracy: 0.0000e+00 - val_loss: 1.9314 - val_accuracy: 0.0000e+00\n",
      "Epoch 11/100\n",
      "215/215 [==============================] - 12s 55ms/step - loss: 0.0249 - accuracy: 0.0000e+00 - val_loss: 1.9013 - val_accuracy: 0.0000e+00\n",
      "Epoch 12/100\n",
      "215/215 [==============================] - 13s 60ms/step - loss: 0.0248 - accuracy: 0.0000e+00 - val_loss: 1.8423 - val_accuracy: 0.0000e+00\n",
      "Epoch 13/100\n",
      "215/215 [==============================] - 11s 49ms/step - loss: 0.0244 - accuracy: 0.0000e+00 - val_loss: 2.0377 - val_accuracy: 0.0000e+00\n",
      "Epoch 14/100\n",
      "215/215 [==============================] - 11s 49ms/step - loss: 0.0270 - accuracy: 0.0000e+00 - val_loss: 1.9184 - val_accuracy: 0.0000e+00\n",
      "Epoch 15/100\n",
      "215/215 [==============================] - 11s 49ms/step - loss: 0.0258 - accuracy: 0.0000e+00 - val_loss: 1.8834 - val_accuracy: 0.0000e+00\n",
      "Epoch 16/100\n",
      "215/215 [==============================] - 11s 50ms/step - loss: 0.0251 - accuracy: 0.0000e+00 - val_loss: 2.2351 - val_accuracy: 0.0000e+00\n",
      "Epoch 17/100\n",
      "215/215 [==============================] - 11s 49ms/step - loss: 0.0287 - accuracy: 0.0000e+00 - val_loss: 2.0698 - val_accuracy: 0.0000e+00\n",
      "Epoch 18/100\n",
      "215/215 [==============================] - 11s 49ms/step - loss: 0.0317 - accuracy: 0.0000e+00 - val_loss: 1.6563 - val_accuracy: 0.0000e+00\n",
      "Epoch 19/100\n",
      "215/215 [==============================] - 11s 49ms/step - loss: 0.0250 - accuracy: 0.0000e+00 - val_loss: 1.8605 - val_accuracy: 0.0000e+00\n",
      "Epoch 20/100\n",
      "215/215 [==============================] - 11s 49ms/step - loss: 0.0245 - accuracy: 0.0000e+00 - val_loss: 1.9221 - val_accuracy: 0.0000e+00\n",
      "Epoch 21/100\n",
      "215/215 [==============================] - 10s 49ms/step - loss: 0.0285 - accuracy: 0.0000e+00 - val_loss: 1.6898 - val_accuracy: 0.0000e+00\n",
      "Epoch 22/100\n",
      "215/215 [==============================] - 11s 49ms/step - loss: 0.0258 - accuracy: 0.0000e+00 - val_loss: 1.9010 - val_accuracy: 0.0000e+00\n",
      "Epoch 23/100\n",
      "215/215 [==============================] - 11s 49ms/step - loss: 0.0248 - accuracy: 0.0000e+00 - val_loss: 1.9873 - val_accuracy: 0.0000e+00\n",
      "Epoch 24/100\n",
      "215/215 [==============================] - 11s 49ms/step - loss: 0.0266 - accuracy: 0.0000e+00 - val_loss: 1.9147 - val_accuracy: 0.0000e+00\n",
      "Epoch 25/100\n",
      "215/215 [==============================] - 11s 53ms/step - loss: 0.0241 - accuracy: 0.0000e+00 - val_loss: 1.9979 - val_accuracy: 0.0000e+00\n",
      "Epoch 26/100\n",
      "215/215 [==============================] - 12s 55ms/step - loss: 0.0237 - accuracy: 0.0000e+00 - val_loss: 2.0172 - val_accuracy: 0.0000e+00\n",
      "Epoch 27/100\n",
      "215/215 [==============================] - 12s 55ms/step - loss: 0.0237 - accuracy: 0.0000e+00 - val_loss: 2.0795 - val_accuracy: 0.0000e+00\n",
      "Epoch 28/100\n",
      "215/215 [==============================] - 12s 54ms/step - loss: 0.0236 - accuracy: 0.0000e+00 - val_loss: 2.0987 - val_accuracy: 0.0000e+00\n",
      "Epoch 29/100\n",
      "215/215 [==============================] - 12s 55ms/step - loss: 0.0235 - accuracy: 0.0000e+00 - val_loss: 2.0324 - val_accuracy: 0.0000e+00\n",
      "Epoch 30/100\n",
      "215/215 [==============================] - 12s 55ms/step - loss: 0.0248 - accuracy: 0.0000e+00 - val_loss: 2.0748 - val_accuracy: 0.0000e+00\n",
      "Epoch 31/100\n",
      "215/215 [==============================] - 12s 56ms/step - loss: 0.0256 - accuracy: 0.0000e+00 - val_loss: 2.2844 - val_accuracy: 0.0000e+00\n",
      "Epoch 32/100\n",
      "215/215 [==============================] - 12s 56ms/step - loss: 0.0239 - accuracy: 0.0000e+00 - val_loss: 2.1696 - val_accuracy: 0.0000e+00\n",
      "Epoch 33/100\n",
      "215/215 [==============================] - 13s 60ms/step - loss: 0.0234 - accuracy: 0.0000e+00 - val_loss: 2.2325 - val_accuracy: 0.0000e+00\n",
      "Epoch 34/100\n",
      "215/215 [==============================] - 18s 84ms/step - loss: 0.0233 - accuracy: 0.0000e+00 - val_loss: 2.1987 - val_accuracy: 0.0000e+00\n",
      "Epoch 35/100\n",
      "215/215 [==============================] - 13s 60ms/step - loss: 0.0230 - accuracy: 0.0000e+00 - val_loss: 2.3108 - val_accuracy: 0.0000e+00\n",
      "Epoch 36/100\n",
      "215/215 [==============================] - 13s 60ms/step - loss: 0.0234 - accuracy: 0.0000e+00 - val_loss: 2.3148 - val_accuracy: 0.0000e+00\n",
      "Epoch 37/100\n",
      "215/215 [==============================] - 14s 67ms/step - loss: 0.0233 - accuracy: 0.0000e+00 - val_loss: 2.3184 - val_accuracy: 0.0000e+00\n",
      "Epoch 38/100\n",
      "215/215 [==============================] - 13s 60ms/step - loss: 0.0255 - accuracy: 0.0000e+00 - val_loss: 2.0362 - val_accuracy: 0.0000e+00\n",
      "Epoch 39/100\n",
      "215/215 [==============================] - 13s 59ms/step - loss: 0.0292 - accuracy: 0.0000e+00 - val_loss: 1.7915 - val_accuracy: 0.0000e+00\n",
      "Epoch 40/100\n",
      "215/215 [==============================] - 13s 59ms/step - loss: 0.0238 - accuracy: 0.0000e+00 - val_loss: 2.1434 - val_accuracy: 0.0000e+00\n",
      "Epoch 41/100\n",
      "215/215 [==============================] - 12s 58ms/step - loss: 0.0233 - accuracy: 0.0000e+00 - val_loss: 2.0554 - val_accuracy: 0.0000e+00\n",
      "Epoch 42/100\n",
      "215/215 [==============================] - 13s 59ms/step - loss: 0.0228 - accuracy: 0.0000e+00 - val_loss: 2.1656 - val_accuracy: 0.0000e+00\n",
      "Epoch 43/100\n",
      "215/215 [==============================] - 14s 66ms/step - loss: 0.0232 - accuracy: 0.0000e+00 - val_loss: 2.1388 - val_accuracy: 0.0000e+00\n",
      "Epoch 44/100\n",
      "215/215 [==============================] - 13s 62ms/step - loss: 0.0228 - accuracy: 0.0000e+00 - val_loss: 2.1839 - val_accuracy: 0.0000e+00\n",
      "Epoch 45/100\n",
      "215/215 [==============================] - 14s 65ms/step - loss: 0.0230 - accuracy: 0.0000e+00 - val_loss: 2.2301 - val_accuracy: 0.0000e+00\n",
      "Epoch 46/100\n",
      "215/215 [==============================] - 12s 58ms/step - loss: 0.0230 - accuracy: 0.0000e+00 - val_loss: 2.3265 - val_accuracy: 0.0000e+00\n",
      "Epoch 47/100\n",
      "215/215 [==============================] - 13s 59ms/step - loss: 0.0279 - accuracy: 0.0000e+00 - val_loss: 2.0201 - val_accuracy: 0.0000e+00\n",
      "Epoch 48/100\n",
      "215/215 [==============================] - 13s 58ms/step - loss: 0.0233 - accuracy: 0.0000e+00 - val_loss: 2.2863 - val_accuracy: 0.0000e+00\n",
      "Epoch 49/100\n",
      "215/215 [==============================] - 12s 58ms/step - loss: 0.0233 - accuracy: 0.0000e+00 - val_loss: 2.2680 - val_accuracy: 0.0000e+00\n",
      "Epoch 50/100\n",
      "215/215 [==============================] - 14s 63ms/step - loss: 0.0228 - accuracy: 0.0000e+00 - val_loss: 2.2902 - val_accuracy: 0.0000e+00\n",
      "Epoch 51/100\n",
      "215/215 [==============================] - 13s 59ms/step - loss: 0.0229 - accuracy: 0.0000e+00 - val_loss: 2.1848 - val_accuracy: 0.0000e+00\n",
      "Epoch 52/100\n",
      "215/215 [==============================] - 13s 59ms/step - loss: 0.0227 - accuracy: 0.0000e+00 - val_loss: 2.3056 - val_accuracy: 0.0000e+00\n",
      "Epoch 53/100\n",
      "215/215 [==============================] - 13s 59ms/step - loss: 0.0227 - accuracy: 0.0000e+00 - val_loss: 2.2666 - val_accuracy: 0.0000e+00\n",
      "Epoch 54/100\n",
      "215/215 [==============================] - 13s 59ms/step - loss: 0.0228 - accuracy: 0.0000e+00 - val_loss: 2.2246 - val_accuracy: 0.0000e+00\n",
      "Epoch 55/100\n",
      "215/215 [==============================] - 13s 59ms/step - loss: 0.0242 - accuracy: 0.0000e+00 - val_loss: 2.0155 - val_accuracy: 0.0000e+00\n",
      "Epoch 56/100\n",
      "215/215 [==============================] - 13s 59ms/step - loss: 0.0227 - accuracy: 0.0000e+00 - val_loss: 2.0807 - val_accuracy: 0.0000e+00\n",
      "Epoch 57/100\n",
      "215/215 [==============================] - 15s 70ms/step - loss: 0.0227 - accuracy: 0.0000e+00 - val_loss: 2.0939 - val_accuracy: 0.0000e+00\n",
      "Epoch 58/100\n",
      "215/215 [==============================] - 13s 59ms/step - loss: 0.0226 - accuracy: 0.0000e+00 - val_loss: 2.1871 - val_accuracy: 0.0000e+00\n",
      "Epoch 59/100\n",
      "215/215 [==============================] - 13s 61ms/step - loss: 0.0229 - accuracy: 0.0000e+00 - val_loss: 2.2446 - val_accuracy: 0.0000e+00\n",
      "Epoch 60/100\n",
      "215/215 [==============================] - 13s 60ms/step - loss: 0.0228 - accuracy: 0.0000e+00 - val_loss: 2.2171 - val_accuracy: 0.0000e+00\n",
      "Epoch 61/100\n",
      "215/215 [==============================] - 13s 58ms/step - loss: 0.0243 - accuracy: 0.0000e+00 - val_loss: 2.0627 - val_accuracy: 0.0000e+00\n",
      "Epoch 62/100\n",
      "215/215 [==============================] - 13s 58ms/step - loss: 0.0229 - accuracy: 0.0000e+00 - val_loss: 2.1551 - val_accuracy: 0.0000e+00\n",
      "Epoch 63/100\n",
      "215/215 [==============================] - 15s 71ms/step - loss: 0.0228 - accuracy: 0.0000e+00 - val_loss: 2.0860 - val_accuracy: 0.0000e+00\n",
      "Epoch 64/100\n",
      "215/215 [==============================] - 13s 58ms/step - loss: 0.0230 - accuracy: 0.0000e+00 - val_loss: 2.2075 - val_accuracy: 0.0000e+00\n",
      "Epoch 65/100\n",
      "215/215 [==============================] - 10s 48ms/step - loss: 0.0227 - accuracy: 0.0000e+00 - val_loss: 2.2428 - val_accuracy: 0.0000e+00\n",
      "Epoch 66/100\n",
      "215/215 [==============================] - 10s 48ms/step - loss: 0.0226 - accuracy: 0.0000e+00 - val_loss: 2.1752 - val_accuracy: 0.0000e+00\n",
      "Epoch 67/100\n",
      "215/215 [==============================] - 15s 72ms/step - loss: 0.0231 - accuracy: 0.0000e+00 - val_loss: 2.2408 - val_accuracy: 0.0000e+00\n",
      "Epoch 68/100\n",
      "215/215 [==============================] - 15s 68ms/step - loss: 0.0263 - accuracy: 0.0000e+00 - val_loss: 1.5542 - val_accuracy: 0.0000e+00\n",
      "Epoch 69/100\n",
      "215/215 [==============================] - 16s 75ms/step - loss: 0.0275 - accuracy: 0.0000e+00 - val_loss: 2.0522 - val_accuracy: 0.0000e+00\n",
      "Epoch 70/100\n",
      "215/215 [==============================] - 15s 68ms/step - loss: 0.0241 - accuracy: 0.0000e+00 - val_loss: 2.1766 - val_accuracy: 0.0000e+00\n",
      "Epoch 71/100\n",
      "215/215 [==============================] - 14s 66ms/step - loss: 0.0239 - accuracy: 0.0000e+00 - val_loss: 2.0974 - val_accuracy: 0.0000e+00\n",
      "Epoch 72/100\n",
      "215/215 [==============================] - 15s 70ms/step - loss: 0.0232 - accuracy: 0.0000e+00 - val_loss: 2.2042 - val_accuracy: 0.0000e+00\n",
      "Epoch 73/100\n",
      "215/215 [==============================] - 13s 61ms/step - loss: 0.0232 - accuracy: 0.0000e+00 - val_loss: 2.1898 - val_accuracy: 0.0000e+00\n",
      "Epoch 74/100\n",
      "215/215 [==============================] - 13s 60ms/step - loss: 0.0233 - accuracy: 0.0000e+00 - val_loss: 2.1517 - val_accuracy: 0.0000e+00\n",
      "Epoch 75/100\n",
      "215/215 [==============================] - 16s 73ms/step - loss: 0.0228 - accuracy: 0.0000e+00 - val_loss: 2.2490 - val_accuracy: 0.0000e+00\n",
      "Epoch 76/100\n",
      "215/215 [==============================] - 13s 58ms/step - loss: 0.0228 - accuracy: 0.0000e+00 - val_loss: 2.2422 - val_accuracy: 0.0000e+00\n",
      "Epoch 77/100\n",
      "215/215 [==============================] - 13s 58ms/step - loss: 0.0229 - accuracy: 0.0000e+00 - val_loss: 2.1926 - val_accuracy: 0.0000e+00\n",
      "Epoch 78/100\n",
      "215/215 [==============================] - 14s 63ms/step - loss: 0.0228 - accuracy: 0.0000e+00 - val_loss: 2.3025 - val_accuracy: 0.0000e+00\n",
      "Epoch 79/100\n",
      "215/215 [==============================] - 13s 59ms/step - loss: 0.0227 - accuracy: 0.0000e+00 - val_loss: 2.2576 - val_accuracy: 0.0000e+00\n",
      "Epoch 80/100\n",
      "215/215 [==============================] - 15s 70ms/step - loss: 0.0226 - accuracy: 0.0000e+00 - val_loss: 2.3239 - val_accuracy: 0.0000e+00\n",
      "Epoch 81/100\n",
      "215/215 [==============================] - 13s 58ms/step - loss: 0.0226 - accuracy: 0.0000e+00 - val_loss: 2.2397 - val_accuracy: 0.0000e+00\n",
      "Epoch 82/100\n",
      "215/215 [==============================] - 13s 59ms/step - loss: 0.0226 - accuracy: 0.0000e+00 - val_loss: 2.3663 - val_accuracy: 0.0000e+00\n",
      "Epoch 83/100\n",
      "215/215 [==============================] - 13s 60ms/step - loss: 0.0259 - accuracy: 0.0000e+00 - val_loss: 2.0285 - val_accuracy: 0.0000e+00\n",
      "Epoch 84/100\n",
      "215/215 [==============================] - 13s 59ms/step - loss: 0.0272 - accuracy: 0.0000e+00 - val_loss: 1.8704 - val_accuracy: 0.0000e+00\n",
      "Epoch 85/100\n",
      "215/215 [==============================] - 13s 60ms/step - loss: 0.0228 - accuracy: 0.0000e+00 - val_loss: 1.9975 - val_accuracy: 0.0000e+00\n",
      "Epoch 86/100\n",
      "215/215 [==============================] - 14s 63ms/step - loss: 0.0225 - accuracy: 0.0000e+00 - val_loss: 2.1177 - val_accuracy: 0.0000e+00\n",
      "Epoch 87/100\n",
      "215/215 [==============================] - 14s 65ms/step - loss: 0.0225 - accuracy: 0.0000e+00 - val_loss: 2.0688 - val_accuracy: 0.0000e+00\n",
      "Epoch 88/100\n",
      "215/215 [==============================] - 15s 70ms/step - loss: 0.0226 - accuracy: 0.0000e+00 - val_loss: 2.2162 - val_accuracy: 0.0000e+00\n",
      "Epoch 89/100\n",
      "215/215 [==============================] - 14s 64ms/step - loss: 0.0224 - accuracy: 0.0000e+00 - val_loss: 2.2656 - val_accuracy: 0.0000e+00\n",
      "Epoch 90/100\n",
      "215/215 [==============================] - 13s 59ms/step - loss: 0.0223 - accuracy: 0.0000e+00 - val_loss: 2.3083 - val_accuracy: 0.0000e+00\n",
      "Epoch 91/100\n",
      "215/215 [==============================] - 12s 57ms/step - loss: 0.0222 - accuracy: 0.0000e+00 - val_loss: 2.3025 - val_accuracy: 0.0000e+00\n",
      "Epoch 92/100\n",
      "215/215 [==============================] - 15s 69ms/step - loss: 0.0221 - accuracy: 0.0000e+00 - val_loss: 2.3062 - val_accuracy: 0.0000e+00\n",
      "Epoch 93/100\n",
      "215/215 [==============================] - 14s 63ms/step - loss: 0.0222 - accuracy: 0.0000e+00 - val_loss: 2.2651 - val_accuracy: 0.0000e+00\n",
      "Epoch 94/100\n",
      "215/215 [==============================] - 15s 69ms/step - loss: 0.0221 - accuracy: 0.0000e+00 - val_loss: 2.3667 - val_accuracy: 0.0000e+00\n",
      "Epoch 95/100\n",
      "215/215 [==============================] - 13s 60ms/step - loss: 0.0221 - accuracy: 0.0000e+00 - val_loss: 2.3753 - val_accuracy: 0.0000e+00\n",
      "Epoch 96/100\n",
      "215/215 [==============================] - 13s 62ms/step - loss: 0.0220 - accuracy: 0.0000e+00 - val_loss: 2.4671 - val_accuracy: 0.0000e+00\n",
      "Epoch 97/100\n",
      "215/215 [==============================] - 13s 59ms/step - loss: 0.0287 - accuracy: 0.0000e+00 - val_loss: 1.9080 - val_accuracy: 0.0000e+00\n",
      "Epoch 98/100\n",
      "215/215 [==============================] - 13s 61ms/step - loss: 0.0248 - accuracy: 0.0000e+00 - val_loss: 1.8179 - val_accuracy: 0.0000e+00\n",
      "Epoch 99/100\n",
      "215/215 [==============================] - 14s 67ms/step - loss: 0.0230 - accuracy: 0.0000e+00 - val_loss: 2.0193 - val_accuracy: 0.0000e+00\n",
      "Epoch 100/100\n",
      "215/215 [==============================] - 14s 63ms/step - loss: 0.0221 - accuracy: 0.0000e+00 - val_loss: 2.0963 - val_accuracy: 0.0000e+00\n"
     ]
    }
   ],
   "source": [
    "model_4_history = model_4.fit(train_sentences, train_labels,\n",
    "                              epochs=100,\n",
    "                              validation_data=(val_sentences, val_labels),\n",
    "                              callbacks=[create_tensorboard_callback(SAVE_DIR,\n",
    "                                                                     \"model_4_bidirectional\")])"
   ]
  },
  {
   "cell_type": "code",
   "execution_count": 81,
   "id": "f893df5d-6fcd-4a4c-aa59-f1708fb52b15",
   "metadata": {},
   "outputs": [
    {
     "name": "stdout",
     "output_type": "stream",
     "text": [
      "24/24 [==============================] - 3s 10ms/step\n"
     ]
    },
    {
     "data": {
      "text/plain": [
       "array([[1.6874429e-04],\n",
       "       [9.9905574e-01],\n",
       "       [9.9998134e-01],\n",
       "       [2.5131175e-01],\n",
       "       [1.5177270e-05],\n",
       "       [9.9999255e-01],\n",
       "       [9.9994075e-01],\n",
       "       [9.9999541e-01],\n",
       "       [9.9999553e-01],\n",
       "       [9.9995095e-01]], dtype=float32)"
      ]
     },
     "execution_count": 81,
     "metadata": {},
     "output_type": "execute_result"
    }
   ],
   "source": [
    "model_4_pred_probs = model_4.predict(val_sentences)\n",
    "model_4_pred_probs[:10]"
   ]
  },
  {
   "cell_type": "code",
   "execution_count": 247,
   "id": "bfd3e9e0-661c-4fe4-9d1b-878276353159",
   "metadata": {},
   "outputs": [
    {
     "data": {
      "text/plain": [
       "<tf.Tensor: shape=(10,), dtype=float32, numpy=array([0., 1., 1., 0., 0., 1., 1., 1., 1., 1.], dtype=float32)>"
      ]
     },
     "execution_count": 247,
     "metadata": {},
     "output_type": "execute_result"
    }
   ],
   "source": [
    "model_4_preds = tf.squeeze(tf.round(model_4_pred_probs))\n",
    "model_4_preds[:10]"
   ]
  },
  {
   "cell_type": "code",
   "execution_count": 275,
   "id": "675d6191-8500-4601-8fe2-00cb6f8ef7eb",
   "metadata": {},
   "outputs": [
    {
     "data": {
      "text/plain": [
       "{'accuracy': 0.7401574803149606,\n",
       " 'precision': 0.7398663706047454,\n",
       " 'recall': 0.7401574803149606,\n",
       " 'f1': 0.7388478727061404}"
      ]
     },
     "execution_count": 275,
     "metadata": {},
     "output_type": "execute_result"
    }
   ],
   "source": [
    "# calculate the result\n",
    "model_4_results = calculate_results(y_true=val_labels, y_preds=model_4_preds)\n",
    "model_4_results"
   ]
  },
  {
   "cell_type": "code",
   "execution_count": 276,
   "id": "596058ea-2016-467f-863a-fec619d3d507",
   "metadata": {},
   "outputs": [
    {
     "data": {
      "text/plain": [
       "{'accuracy': 0.7493438320209974,\n",
       " 'precision': 0.7489845053528059,\n",
       " 'recall': 0.7493438320209974,\n",
       " 'f1': 0.7483475363447356}"
      ]
     },
     "execution_count": 276,
     "metadata": {},
     "output_type": "execute_result"
    }
   ],
   "source": [
    "model_3_results"
   ]
  },
  {
   "cell_type": "code",
   "execution_count": 277,
   "id": "ba7d137b-e2f8-4cd3-b4a4-fd1175955810",
   "metadata": {},
   "outputs": [
    {
     "data": {
      "text/plain": [
       "{'accuracy': 0.7926509186351706,\n",
       " 'precision': 0.8111390004213173,\n",
       " 'recall': 0.7926509186351706,\n",
       " 'f1': 0.7862189758049549}"
      ]
     },
     "execution_count": 277,
     "metadata": {},
     "output_type": "execute_result"
    }
   ],
   "source": [
    "baseline_results"
   ]
  },
  {
   "cell_type": "code",
   "execution_count": 86,
   "id": "54b947bc-f44c-4f6e-a499-66fb7f0f66f2",
   "metadata": {},
   "outputs": [
    {
     "data": {
      "image/png": "[encoded data removed]",
      "text/plain": [
       "<Figure size 640x480 with 1 Axes>"
      ]
     },
     "metadata": {},
     "output_type": "display_data"
    },
    {
     "data": {
      "image/png": "[encoded data removed]",
      "text/plain": [
       "<Figure size 640x480 with 1 Axes>"
      ]
     },
     "metadata": {},
     "output_type": "display_data"
    }
   ],
   "source": [
    "plot_loss_curves(model_4_history)"
   ]
  },
  {
   "cell_type": "markdown",
   "id": "0964fe88-463f-47f8-880f-d08b2d9e52e0",
   "metadata": {},
   "source": [
    "## Model 5: 1D Convolutional Neural Network\n",
    "\n",
    "```\n",
    "Inputs (text) -> Tokenization -> Embedding -> Layers (Conv1D + pooling) -> Output (class probabilities)\n",
    "```"
   ]
  },
  {
   "cell_type": "code",
   "execution_count": 87,
   "id": "1e8ca362-a595-41ac-9f32-aa2ec4bdcac0",
   "metadata": {},
   "outputs": [
    {
     "data": {
      "text/plain": [
       "(TensorShape([1, 15, 128]), TensorShape([1, 11, 64]), TensorShape([1, 64]))"
      ]
     },
     "execution_count": 87,
     "metadata": {},
     "output_type": "execute_result"
    }
   ],
   "source": [
    "from tensorflow.keras import layers\n",
    "embedding_test = embedding(text_vectorizer(['this is a test sentence']))\n",
    "conv_1d = layers.Conv1D(filters=64,\n",
    "                        kernel_size=5,\n",
    "                        activation='relu',\n",
    "                        padding='valid')\n",
    "conv_1d_output = conv_1d(embedding_test)\n",
    "max_pool = layers.GlobalMaxPool1D()\n",
    "max_pool_output = max_pool(conv_1d_output)\n",
    "\n",
    "embedding_test.shape, conv_1d_output.shape, max_pool_output.shape"
   ]
  },
  {
   "cell_type": "code",
   "execution_count": 88,
   "id": "92b578f6-8167-4dd1-a01d-2f8372ff06b8",
   "metadata": {},
   "outputs": [
    {
     "data": {
      "text/plain": [
       "<tf.Tensor: shape=(1, 15, 128), dtype=float32, numpy=\n",
       "array([[[-0.00104748,  0.11346111,  0.10116834, ..., -0.14462084,\n",
       "         -0.10534792,  0.51901484],\n",
       "        [ 0.15138882, -0.05944546,  0.09011593, ..., -0.14692728,\n",
       "         -0.04322229,  0.05599121],\n",
       "        [ 0.13418224,  0.07159518,  0.2558152 , ..., -0.25235805,\n",
       "         -0.04375201,  0.2562891 ],\n",
       "        ...,\n",
       "        [ 0.19578104,  0.07250728,  0.02985675, ...,  0.01860385,\n",
       "         -0.03494338,  0.05788944],\n",
       "        [ 0.19578104,  0.07250728,  0.02985675, ...,  0.01860385,\n",
       "         -0.03494338,  0.05788944],\n",
       "        [ 0.19578104,  0.07250728,  0.02985675, ...,  0.01860385,\n",
       "         -0.03494338,  0.05788944]]], dtype=float32)>"
      ]
     },
     "execution_count": 88,
     "metadata": {},
     "output_type": "execute_result"
    }
   ],
   "source": [
    "embedding_test"
   ]
  },
  {
   "cell_type": "code",
   "execution_count": 89,
   "id": "8e3e14b9-8467-4033-890a-98d2d73d4bc2",
   "metadata": {},
   "outputs": [
    {
     "data": {
      "text/plain": [
       "<tf.Tensor: shape=(1, 11, 64), dtype=float32, numpy=\n",
       "array([[[0.        , 0.21623911, 0.23643033, 0.08157445, 0.        ,\n",
       "         0.04396806, 0.00878996, 0.210986  , 0.        , 0.        ,\n",
       "         0.08989092, 0.        , 0.        , 0.01532041, 0.        ,\n",
       "         0.        , 0.13907279, 0.        , 0.        , 0.        ,\n",
       "         0.2243724 , 0.37370715, 0.01831409, 0.        , 0.07706487,\n",
       "         0.02711323, 0.01392895, 0.        , 0.08453678, 0.5252863 ,\n",
       "         0.30926412, 0.10337538, 0.        , 0.        , 0.12766227,\n",
       "         0.15904868, 0.        , 0.        , 0.17610577, 0.        ,\n",
       "         0.18523934, 0.04310884, 0.        , 0.        , 0.        ,\n",
       "         0.        , 0.06973126, 0.        , 0.10607337, 0.137635  ,\n",
       "         0.        , 0.        , 0.        , 0.        , 0.23597486,\n",
       "         0.31082287, 0.        , 0.04350088, 0.16116449, 0.        ,\n",
       "         0.17739177, 0.08901282, 0.        , 0.        ],\n",
       "        [0.04053767, 0.05747914, 0.        , 0.17984688, 0.        ,\n",
       "         0.        , 0.09787811, 0.11967028, 0.        , 0.4828346 ,\n",
       "         0.        , 0.09538799, 0.        , 0.05446876, 0.        ,\n",
       "         0.11369485, 0.19939338, 0.        , 0.        , 0.        ,\n",
       "         0.1460753 , 0.12543416, 0.1432425 , 0.        , 0.18651249,\n",
       "         0.        , 0.05043773, 0.00380775, 0.        , 0.        ,\n",
       "         0.1586169 , 0.04908101, 0.        , 0.        , 0.        ,\n",
       "         0.        , 0.        , 0.0674009 , 0.2921074 , 0.        ,\n",
       "         0.07140777, 0.46580607, 0.00294847, 0.        , 0.16505502,\n",
       "         0.        , 0.02250761, 0.        , 0.        , 0.        ,\n",
       "         0.        , 0.0461456 , 0.        , 0.00517445, 0.2324093 ,\n",
       "         0.11648955, 0.        , 0.        , 0.06828716, 0.        ,\n",
       "         0.334255  , 0.        , 0.        , 0.06334102],\n",
       "        [0.2503209 , 0.00773019, 0.16552806, 0.09309262, 0.        ,\n",
       "         0.        , 0.11787444, 0.        , 0.        , 0.1959487 ,\n",
       "         0.2527713 , 0.13184467, 0.14874734, 0.27870288, 0.        ,\n",
       "         0.09900381, 0.        , 0.        , 0.31597757, 0.34526834,\n",
       "         0.26461592, 0.        , 0.00394952, 0.        , 0.03439315,\n",
       "         0.1534383 , 0.        , 0.06689344, 0.08886445, 0.        ,\n",
       "         0.        , 0.        , 0.00882356, 0.        , 0.        ,\n",
       "         0.        , 0.        , 0.        , 0.        , 0.19398192,\n",
       "         0.00215263, 0.04855682, 0.06118224, 0.        , 0.        ,\n",
       "         0.10399508, 0.        , 0.13376601, 0.07825208, 0.31576973,\n",
       "         0.01406702, 0.00925935, 0.0726281 , 0.        , 0.12725121,\n",
       "         0.14355978, 0.06324222, 0.        , 0.1433514 , 0.        ,\n",
       "         0.        , 0.        , 0.        , 0.12086025],\n",
       "        [0.        , 0.        , 0.        , 0.        , 0.04813311,\n",
       "         0.        , 0.        , 0.        , 0.04049399, 0.        ,\n",
       "         0.1651336 , 0.15588686, 0.        , 0.04398025, 0.04477904,\n",
       "         0.        , 0.        , 0.        , 0.1033977 , 0.        ,\n",
       "         0.06386416, 0.        , 0.00287541, 0.02307663, 0.05022375,\n",
       "         0.        , 0.        , 0.12632158, 0.        , 0.        ,\n",
       "         0.        , 0.        , 0.14941603, 0.00836047, 0.04299632,\n",
       "         0.        , 0.16536717, 0.        , 0.        , 0.153375  ,\n",
       "         0.06469326, 0.02172263, 0.0246157 , 0.33957094, 0.12484406,\n",
       "         0.22994626, 0.        , 0.23789074, 0.1924044 , 0.13839477,\n",
       "         0.02253311, 0.        , 0.        , 0.        , 0.        ,\n",
       "         0.2111424 , 0.19668882, 0.2267496 , 0.        , 0.        ,\n",
       "         0.05542628, 0.17030215, 0.37208804, 0.19220583],\n",
       "        [0.        , 0.        , 0.        , 0.04107033, 0.        ,\n",
       "         0.        , 0.        , 0.        , 0.        , 0.        ,\n",
       "         0.1041311 , 0.        , 0.06041278, 0.        , 0.        ,\n",
       "         0.        , 0.        , 0.        , 0.        , 0.12829863,\n",
       "         0.        , 0.05706803, 0.25769928, 0.        , 0.07649886,\n",
       "         0.12922625, 0.0750471 , 0.18624316, 0.        , 0.        ,\n",
       "         0.        , 0.08951338, 0.1006723 , 0.        , 0.04042596,\n",
       "         0.        , 0.        , 0.22270915, 0.        , 0.        ,\n",
       "         0.10040013, 0.02618476, 0.05481917, 0.19993578, 0.094336  ,\n",
       "         0.        , 0.        , 0.        , 0.1909754 , 0.07478019,\n",
       "         0.        , 0.        , 0.01135392, 0.        , 0.        ,\n",
       "         0.        , 0.05356984, 0.        , 0.        , 0.02940256,\n",
       "         0.14800465, 0.1782227 , 0.37499294, 0.03113046],\n",
       "        [0.09254713, 0.        , 0.00104448, 0.        , 0.        ,\n",
       "         0.        , 0.        , 0.        , 0.        , 0.12544252,\n",
       "         0.04187304, 0.02312311, 0.06691906, 0.06796236, 0.        ,\n",
       "         0.        , 0.        , 0.        , 0.00504251, 0.24724396,\n",
       "         0.        , 0.        , 0.10831273, 0.02612075, 0.        ,\n",
       "         0.05399691, 0.05576937, 0.        , 0.        , 0.        ,\n",
       "         0.        , 0.10492153, 0.1742887 , 0.        , 0.        ,\n",
       "         0.        , 0.01476659, 0.21031956, 0.        , 0.        ,\n",
       "         0.34389114, 0.16484682, 0.08009094, 0.09212682, 0.        ,\n",
       "         0.        , 0.        , 0.        , 0.05839001, 0.        ,\n",
       "         0.08246194, 0.        , 0.12779054, 0.        , 0.        ,\n",
       "         0.        , 0.03875689, 0.        , 0.        , 0.07341044,\n",
       "         0.10025302, 0.16839072, 0.09759866, 0.4023998 ],\n",
       "        [0.09254713, 0.        , 0.00104448, 0.        , 0.        ,\n",
       "         0.        , 0.        , 0.        , 0.        , 0.12544252,\n",
       "         0.04187304, 0.02312311, 0.06691906, 0.06796236, 0.        ,\n",
       "         0.        , 0.        , 0.        , 0.00504251, 0.24724396,\n",
       "         0.        , 0.        , 0.10831273, 0.02612075, 0.        ,\n",
       "         0.05399691, 0.05576937, 0.        , 0.        , 0.        ,\n",
       "         0.        , 0.10492153, 0.1742887 , 0.        , 0.        ,\n",
       "         0.        , 0.01476659, 0.21031956, 0.        , 0.        ,\n",
       "         0.34389114, 0.16484682, 0.08009094, 0.09212682, 0.        ,\n",
       "         0.        , 0.        , 0.        , 0.05839001, 0.        ,\n",
       "         0.08246194, 0.        , 0.12779054, 0.        , 0.        ,\n",
       "         0.        , 0.03875689, 0.        , 0.        , 0.07341044,\n",
       "         0.10025302, 0.16839072, 0.09759866, 0.4023998 ],\n",
       "        [0.09254713, 0.        , 0.00104448, 0.        , 0.        ,\n",
       "         0.        , 0.        , 0.        , 0.        , 0.12544252,\n",
       "         0.04187304, 0.02312311, 0.06691906, 0.06796236, 0.        ,\n",
       "         0.        , 0.        , 0.        , 0.00504251, 0.24724396,\n",
       "         0.        , 0.        , 0.10831273, 0.02612075, 0.        ,\n",
       "         0.05399691, 0.05576937, 0.        , 0.        , 0.        ,\n",
       "         0.        , 0.10492153, 0.1742887 , 0.        , 0.        ,\n",
       "         0.        , 0.01476659, 0.21031956, 0.        , 0.        ,\n",
       "         0.34389114, 0.16484682, 0.08009094, 0.09212682, 0.        ,\n",
       "         0.        , 0.        , 0.        , 0.05839001, 0.        ,\n",
       "         0.08246194, 0.        , 0.12779054, 0.        , 0.        ,\n",
       "         0.        , 0.03875689, 0.        , 0.        , 0.07341044,\n",
       "         0.10025302, 0.16839072, 0.09759866, 0.4023998 ],\n",
       "        [0.09254713, 0.        , 0.00104448, 0.        , 0.        ,\n",
       "         0.        , 0.        , 0.        , 0.        , 0.12544252,\n",
       "         0.04187304, 0.02312311, 0.06691906, 0.06796236, 0.        ,\n",
       "         0.        , 0.        , 0.        , 0.00504251, 0.24724396,\n",
       "         0.        , 0.        , 0.10831273, 0.02612075, 0.        ,\n",
       "         0.05399691, 0.05576937, 0.        , 0.        , 0.        ,\n",
       "         0.        , 0.10492153, 0.1742887 , 0.        , 0.        ,\n",
       "         0.        , 0.01476659, 0.21031956, 0.        , 0.        ,\n",
       "         0.34389114, 0.16484682, 0.08009094, 0.09212682, 0.        ,\n",
       "         0.        , 0.        , 0.        , 0.05839001, 0.        ,\n",
       "         0.08246194, 0.        , 0.12779054, 0.        , 0.        ,\n",
       "         0.        , 0.03875689, 0.        , 0.        , 0.07341044,\n",
       "         0.10025302, 0.16839072, 0.09759866, 0.4023998 ],\n",
       "        [0.09254713, 0.        , 0.00104448, 0.        , 0.        ,\n",
       "         0.        , 0.        , 0.        , 0.        , 0.12544252,\n",
       "         0.04187304, 0.02312311, 0.06691906, 0.06796236, 0.        ,\n",
       "         0.        , 0.        , 0.        , 0.00504251, 0.24724396,\n",
       "         0.        , 0.        , 0.10831273, 0.02612075, 0.        ,\n",
       "         0.05399691, 0.05576937, 0.        , 0.        , 0.        ,\n",
       "         0.        , 0.10492153, 0.1742887 , 0.        , 0.        ,\n",
       "         0.        , 0.01476659, 0.21031956, 0.        , 0.        ,\n",
       "         0.34389114, 0.16484682, 0.08009094, 0.09212682, 0.        ,\n",
       "         0.        , 0.        , 0.        , 0.05839001, 0.        ,\n",
       "         0.08246194, 0.        , 0.12779054, 0.        , 0.        ,\n",
       "         0.        , 0.03875689, 0.        , 0.        , 0.07341044,\n",
       "         0.10025302, 0.16839072, 0.09759866, 0.4023998 ],\n",
       "        [0.09254713, 0.        , 0.00104448, 0.        , 0.        ,\n",
       "         0.        , 0.        , 0.        , 0.        , 0.12544252,\n",
       "         0.04187304, 0.02312311, 0.06691906, 0.06796236, 0.        ,\n",
       "         0.        , 0.        , 0.        , 0.00504251, 0.24724396,\n",
       "         0.        , 0.        , 0.10831273, 0.02612075, 0.        ,\n",
       "         0.05399691, 0.05576937, 0.        , 0.        , 0.        ,\n",
       "         0.        , 0.10492153, 0.1742887 , 0.        , 0.        ,\n",
       "         0.        , 0.01476659, 0.21031956, 0.        , 0.        ,\n",
       "         0.34389114, 0.16484682, 0.08009094, 0.09212682, 0.        ,\n",
       "         0.        , 0.        , 0.        , 0.05839001, 0.        ,\n",
       "         0.08246194, 0.        , 0.12779054, 0.        , 0.        ,\n",
       "         0.        , 0.03875689, 0.        , 0.        , 0.07341044,\n",
       "         0.10025302, 0.16839072, 0.09759866, 0.4023998 ]]], dtype=float32)>"
      ]
     },
     "execution_count": 89,
     "metadata": {},
     "output_type": "execute_result"
    }
   ],
   "source": [
    "conv_1d_output"
   ]
  },
  {
   "cell_type": "code",
   "execution_count": 90,
   "id": "34ace63a-e9d2-466a-b464-766bad196d51",
   "metadata": {},
   "outputs": [
    {
     "data": {
      "text/plain": [
       "<tf.Tensor: shape=(1, 64), dtype=float32, numpy=\n",
       "array([[0.2503209 , 0.21623911, 0.23643033, 0.17984688, 0.04813311,\n",
       "        0.04396806, 0.11787444, 0.210986  , 0.04049399, 0.4828346 ,\n",
       "        0.2527713 , 0.15588686, 0.14874734, 0.27870288, 0.04477904,\n",
       "        0.11369485, 0.19939338, 0.        , 0.31597757, 0.34526834,\n",
       "        0.26461592, 0.37370715, 0.25769928, 0.02612075, 0.18651249,\n",
       "        0.1534383 , 0.0750471 , 0.18624316, 0.08886445, 0.5252863 ,\n",
       "        0.30926412, 0.10492153, 0.1742887 , 0.00836047, 0.12766227,\n",
       "        0.15904868, 0.16536717, 0.22270915, 0.2921074 , 0.19398192,\n",
       "        0.34389114, 0.46580607, 0.08009094, 0.33957094, 0.16505502,\n",
       "        0.22994626, 0.06973126, 0.23789074, 0.1924044 , 0.31576973,\n",
       "        0.08246194, 0.0461456 , 0.12779054, 0.00517445, 0.23597486,\n",
       "        0.31082287, 0.19668882, 0.2267496 , 0.16116449, 0.07341044,\n",
       "        0.334255  , 0.1782227 , 0.37499294, 0.4023998 ]], dtype=float32)>"
      ]
     },
     "execution_count": 90,
     "metadata": {},
     "output_type": "execute_result"
    }
   ],
   "source": [
    "max_pool_output"
   ]
  },
  {
   "cell_type": "code",
   "execution_count": 125,
   "id": "9f3f5543-2190-4619-9a9b-115719476929",
   "metadata": {},
   "outputs": [],
   "source": [
    "from tensorflow.keras import layers\n",
    "inputs = layers.Input(shape=(1,), dtype=tf.string)\n",
    "x = text_vectorizer(inputs)\n",
    "x = embedding(x)\n",
    "x = layers.Conv1D(filters=64, kernel_size=5, strides=1, activation='relu', padding='valid')(x)\n",
    "x = layers.GlobalMaxPool1D()(x)\n",
    "x = layers.Dense(64, activation='relu')(x)\n",
    "outputs = layers.Dense(1, activation='sigmoid')(x)\n",
    "model_5 = tf.keras.Model(inputs, outputs, name='model_5_conv1d')"
   ]
  },
  {
   "cell_type": "code",
   "execution_count": 126,
   "id": "700d8926-a457-4768-90b9-f2116b9f4b65",
   "metadata": {},
   "outputs": [
    {
     "name": "stdout",
     "output_type": "stream",
     "text": [
      "Model: \"model_5_conv1d\"\n",
      "_________________________________________________________________\n",
      " Layer (type)                Output Shape              Param #   \n",
      "=================================================================\n",
      " input_6 (InputLayer)        [(None, 1)]               0         \n",
      "                                                                 \n",
      " text_vectorization_1 (TextV  (None, 15)               0         \n",
      " ectorization)                                                   \n",
      "                                                                 \n",
      " embedding (Embedding)       (None, 15, 128)           1280000   \n",
      "                                                                 \n",
      " conv1d_2 (Conv1D)           (None, 11, 64)            41024     \n",
      "                                                                 \n",
      " global_max_pooling1d_2 (Glo  (None, 64)               0         \n",
      " balMaxPooling1D)                                                \n",
      "                                                                 \n",
      " dense_14 (Dense)            (None, 64)                4160      \n",
      "                                                                 \n",
      " dense_15 (Dense)            (None, 1)                 65        \n",
      "                                                                 \n",
      "=================================================================\n",
      "Total params: 1,325,249\n",
      "Trainable params: 1,325,249\n",
      "Non-trainable params: 0\n",
      "_________________________________________________________________\n"
     ]
    }
   ],
   "source": [
    "model_5.summary()"
   ]
  },
  {
   "cell_type": "code",
   "execution_count": 127,
   "id": "d3632bfc-d6a2-4680-80a3-ed61ea435da5",
   "metadata": {},
   "outputs": [],
   "source": [
    "model_5.compile(loss=tf.keras.losses.BinaryCrossentropy(),\n",
    "                optimizer=tf.keras.optimizers.Adam(),\n",
    "                metrics=tf.keras.metrics.Accuracy())"
   ]
  },
  {
   "cell_type": "code",
   "execution_count": 128,
   "id": "b7d98510-6e7d-4121-8acd-4cfb72182409",
   "metadata": {},
   "outputs": [
    {
     "name": "stdout",
     "output_type": "stream",
     "text": [
      "Saving TensorBoard log files to: model_logs/model_5_conv1d/20241009-142735\n",
      "Epoch 1/100\n",
      "215/215 [==============================] - 4s 14ms/step - loss: 0.0574 - accuracy: 0.0600 - val_loss: 1.5115 - val_accuracy: 0.0551\n",
      "Epoch 2/100\n",
      "215/215 [==============================] - 3s 12ms/step - loss: 0.0328 - accuracy: 0.0941 - val_loss: 1.7538 - val_accuracy: 0.0932\n",
      "Epoch 3/100\n",
      "215/215 [==============================] - 3s 13ms/step - loss: 0.0282 - accuracy: 0.1384 - val_loss: 1.9632 - val_accuracy: 0.1234\n",
      "Epoch 4/100\n",
      "215/215 [==============================] - 3s 16ms/step - loss: 0.0256 - accuracy: 0.1763 - val_loss: 2.2052 - val_accuracy: 0.1483\n",
      "Epoch 5/100\n",
      "215/215 [==============================] - 3s 13ms/step - loss: 0.0245 - accuracy: 0.1892 - val_loss: 2.5719 - val_accuracy: 0.1706\n",
      "Epoch 6/100\n",
      "215/215 [==============================] - 3s 12ms/step - loss: 0.0258 - accuracy: 0.2162 - val_loss: 2.1800 - val_accuracy: 0.1247\n",
      "Epoch 7/100\n",
      "215/215 [==============================] - 3s 12ms/step - loss: 0.0246 - accuracy: 0.2203 - val_loss: 2.4795 - val_accuracy: 0.1732\n",
      "Epoch 8/100\n",
      "215/215 [==============================] - 3s 12ms/step - loss: 0.0238 - accuracy: 0.2524 - val_loss: 2.8819 - val_accuracy: 0.1864\n",
      "Epoch 9/100\n",
      "215/215 [==============================] - 3s 12ms/step - loss: 0.0236 - accuracy: 0.2706 - val_loss: 2.9125 - val_accuracy: 0.1877\n",
      "Epoch 10/100\n",
      "215/215 [==============================] - 3s 13ms/step - loss: 0.0234 - accuracy: 0.2757 - val_loss: 3.0991 - val_accuracy: 0.1903\n",
      "Epoch 11/100\n",
      "215/215 [==============================] - 3s 13ms/step - loss: 0.0230 - accuracy: 0.2943 - val_loss: 3.2878 - val_accuracy: 0.1955\n",
      "Epoch 12/100\n",
      "215/215 [==============================] - 3s 13ms/step - loss: 0.0231 - accuracy: 0.3045 - val_loss: 3.0936 - val_accuracy: 0.1955\n",
      "Epoch 13/100\n",
      "215/215 [==============================] - 2s 11ms/step - loss: 0.0226 - accuracy: 0.3036 - val_loss: 3.0768 - val_accuracy: 0.2021\n",
      "Epoch 14/100\n",
      "215/215 [==============================] - 2s 11ms/step - loss: 0.0232 - accuracy: 0.3118 - val_loss: 3.3776 - val_accuracy: 0.2087\n",
      "Epoch 15/100\n",
      "215/215 [==============================] - 2s 11ms/step - loss: 0.0238 - accuracy: 0.2889 - val_loss: 3.0886 - val_accuracy: 0.1850\n",
      "Epoch 16/100\n",
      "215/215 [==============================] - 2s 11ms/step - loss: 0.0227 - accuracy: 0.3073 - val_loss: 3.5808 - val_accuracy: 0.1903\n",
      "Epoch 17/100\n",
      "215/215 [==============================] - 2s 11ms/step - loss: 0.0279 - accuracy: 0.3108 - val_loss: 3.2826 - val_accuracy: 0.1706\n",
      "Epoch 18/100\n",
      "215/215 [==============================] - 2s 11ms/step - loss: 0.0238 - accuracy: 0.3089 - val_loss: 3.9901 - val_accuracy: 0.2270\n",
      "Epoch 19/100\n",
      "215/215 [==============================] - 2s 11ms/step - loss: 0.0228 - accuracy: 0.3348 - val_loss: 4.2837 - val_accuracy: 0.2073\n",
      "Epoch 20/100\n",
      "215/215 [==============================] - 2s 11ms/step - loss: 0.0230 - accuracy: 0.3381 - val_loss: 3.8013 - val_accuracy: 0.2087\n",
      "Epoch 21/100\n",
      "215/215 [==============================] - 2s 11ms/step - loss: 0.0225 - accuracy: 0.3424 - val_loss: 4.0543 - val_accuracy: 0.2087\n",
      "Epoch 22/100\n",
      "215/215 [==============================] - 2s 11ms/step - loss: 0.0224 - accuracy: 0.3404 - val_loss: 4.1666 - val_accuracy: 0.2073\n",
      "Epoch 23/100\n",
      "215/215 [==============================] - 2s 11ms/step - loss: 0.0226 - accuracy: 0.3385 - val_loss: 4.2000 - val_accuracy: 0.2244\n",
      "Epoch 24/100\n",
      "215/215 [==============================] - 2s 11ms/step - loss: 0.0237 - accuracy: 0.3211 - val_loss: 3.9885 - val_accuracy: 0.2060\n",
      "Epoch 25/100\n",
      "215/215 [==============================] - 2s 11ms/step - loss: 0.0222 - accuracy: 0.3388 - val_loss: 3.9830 - val_accuracy: 0.2073\n",
      "Epoch 26/100\n",
      "215/215 [==============================] - 2s 11ms/step - loss: 0.0223 - accuracy: 0.3354 - val_loss: 4.2874 - val_accuracy: 0.2218\n",
      "Epoch 27/100\n",
      "215/215 [==============================] - 2s 11ms/step - loss: 0.0221 - accuracy: 0.3433 - val_loss: 4.5653 - val_accuracy: 0.2139\n",
      "Epoch 28/100\n",
      "215/215 [==============================] - 3s 13ms/step - loss: 0.0219 - accuracy: 0.3435 - val_loss: 4.5136 - val_accuracy: 0.2218\n",
      "Epoch 29/100\n",
      "215/215 [==============================] - 3s 15ms/step - loss: 0.0220 - accuracy: 0.3490 - val_loss: 4.6503 - val_accuracy: 0.2178\n",
      "Epoch 30/100\n",
      "215/215 [==============================] - 3s 13ms/step - loss: 0.0222 - accuracy: 0.3537 - val_loss: 4.5287 - val_accuracy: 0.2257\n",
      "Epoch 31/100\n",
      "215/215 [==============================] - 3s 13ms/step - loss: 0.0221 - accuracy: 0.3541 - val_loss: 4.7505 - val_accuracy: 0.2218\n",
      "Epoch 32/100\n",
      "215/215 [==============================] - 3s 13ms/step - loss: 0.0221 - accuracy: 0.3578 - val_loss: 4.6589 - val_accuracy: 0.2336\n",
      "Epoch 33/100\n",
      "215/215 [==============================] - 3s 12ms/step - loss: 0.0219 - accuracy: 0.3662 - val_loss: 5.1334 - val_accuracy: 0.2231\n",
      "Epoch 34/100\n",
      "215/215 [==============================] - 3s 12ms/step - loss: 0.0303 - accuracy: 0.3576 - val_loss: 5.6131 - val_accuracy: 0.2139\n",
      "Epoch 35/100\n",
      "215/215 [==============================] - 3s 12ms/step - loss: 0.0257 - accuracy: 0.3668 - val_loss: 4.2022 - val_accuracy: 0.2178\n",
      "Epoch 36/100\n",
      "215/215 [==============================] - 3s 14ms/step - loss: 0.0224 - accuracy: 0.3493 - val_loss: 4.7808 - val_accuracy: 0.2244\n",
      "Epoch 37/100\n",
      "215/215 [==============================] - 4s 17ms/step - loss: 0.0219 - accuracy: 0.3651 - val_loss: 4.8909 - val_accuracy: 0.2283\n",
      "Epoch 38/100\n",
      "215/215 [==============================] - 3s 15ms/step - loss: 0.0219 - accuracy: 0.3696 - val_loss: 5.0736 - val_accuracy: 0.2270\n",
      "Epoch 39/100\n",
      "215/215 [==============================] - 3s 13ms/step - loss: 0.0219 - accuracy: 0.3703 - val_loss: 5.0765 - val_accuracy: 0.2297\n",
      "Epoch 40/100\n",
      "215/215 [==============================] - 3s 14ms/step - loss: 0.0216 - accuracy: 0.3789 - val_loss: 5.1742 - val_accuracy: 0.2283\n",
      "Epoch 41/100\n",
      "215/215 [==============================] - 3s 12ms/step - loss: 0.0217 - accuracy: 0.3808 - val_loss: 5.3326 - val_accuracy: 0.2310\n",
      "Epoch 42/100\n",
      "215/215 [==============================] - 3s 12ms/step - loss: 0.0218 - accuracy: 0.3836 - val_loss: 5.4076 - val_accuracy: 0.2310\n",
      "Epoch 43/100\n",
      "215/215 [==============================] - 2s 11ms/step - loss: 0.0217 - accuracy: 0.3855 - val_loss: 5.5579 - val_accuracy: 0.2336\n",
      "Epoch 44/100\n",
      "215/215 [==============================] - 2s 11ms/step - loss: 0.0216 - accuracy: 0.3864 - val_loss: 5.5243 - val_accuracy: 0.2323\n",
      "Epoch 45/100\n",
      "215/215 [==============================] - 2s 11ms/step - loss: 0.0216 - accuracy: 0.3859 - val_loss: 5.6563 - val_accuracy: 0.2323\n",
      "Epoch 46/100\n",
      "215/215 [==============================] - 2s 12ms/step - loss: 0.0216 - accuracy: 0.3877 - val_loss: 5.6020 - val_accuracy: 0.2362\n",
      "Epoch 47/100\n",
      "215/215 [==============================] - 3s 13ms/step - loss: 0.0217 - accuracy: 0.3893 - val_loss: 5.7480 - val_accuracy: 0.2336\n",
      "Epoch 48/100\n",
      "215/215 [==============================] - 2s 11ms/step - loss: 0.0215 - accuracy: 0.3888 - val_loss: 5.7622 - val_accuracy: 0.2336\n",
      "Epoch 49/100\n",
      "215/215 [==============================] - 3s 12ms/step - loss: 0.0216 - accuracy: 0.3891 - val_loss: 5.8789 - val_accuracy: 0.2349\n",
      "Epoch 50/100\n",
      "215/215 [==============================] - 3s 14ms/step - loss: 0.0216 - accuracy: 0.3902 - val_loss: 5.9115 - val_accuracy: 0.2375\n",
      "Epoch 51/100\n",
      "215/215 [==============================] - 2s 11ms/step - loss: 0.0221 - accuracy: 0.3902 - val_loss: 5.6866 - val_accuracy: 0.2428\n",
      "Epoch 52/100\n",
      "215/215 [==============================] - 2s 11ms/step - loss: 0.0220 - accuracy: 0.3862 - val_loss: 5.2444 - val_accuracy: 0.2126\n",
      "Epoch 53/100\n",
      "215/215 [==============================] - 2s 11ms/step - loss: 0.0267 - accuracy: 0.3475 - val_loss: 4.9302 - val_accuracy: 0.2257\n",
      "Epoch 54/100\n",
      "215/215 [==============================] - 3s 12ms/step - loss: 0.0238 - accuracy: 0.3715 - val_loss: 4.0843 - val_accuracy: 0.2231\n",
      "Epoch 55/100\n",
      "215/215 [==============================] - 3s 12ms/step - loss: 0.0221 - accuracy: 0.3617 - val_loss: 4.7490 - val_accuracy: 0.2270\n",
      "Epoch 56/100\n",
      "215/215 [==============================] - 3s 13ms/step - loss: 0.0221 - accuracy: 0.3798 - val_loss: 4.6287 - val_accuracy: 0.2349\n",
      "Epoch 57/100\n",
      "215/215 [==============================] - 3s 13ms/step - loss: 0.0218 - accuracy: 0.3846 - val_loss: 4.8088 - val_accuracy: 0.2336\n",
      "Epoch 58/100\n",
      "215/215 [==============================] - 3s 14ms/step - loss: 0.0217 - accuracy: 0.3846 - val_loss: 4.9430 - val_accuracy: 0.2349\n",
      "Epoch 59/100\n",
      "215/215 [==============================] - 3s 14ms/step - loss: 0.0215 - accuracy: 0.3868 - val_loss: 5.0988 - val_accuracy: 0.2310\n",
      "Epoch 60/100\n",
      "215/215 [==============================] - 3s 13ms/step - loss: 0.0216 - accuracy: 0.3861 - val_loss: 5.1410 - val_accuracy: 0.2375\n",
      "Epoch 61/100\n",
      "215/215 [==============================] - 3s 13ms/step - loss: 0.0216 - accuracy: 0.3861 - val_loss: 5.3906 - val_accuracy: 0.2362\n",
      "Epoch 62/100\n",
      "215/215 [==============================] - 3s 12ms/step - loss: 0.0217 - accuracy: 0.3887 - val_loss: 5.1776 - val_accuracy: 0.2349\n",
      "Epoch 63/100\n",
      "215/215 [==============================] - 3s 12ms/step - loss: 0.0216 - accuracy: 0.3891 - val_loss: 5.3460 - val_accuracy: 0.2349\n",
      "Epoch 64/100\n",
      "215/215 [==============================] - 3s 12ms/step - loss: 0.0217 - accuracy: 0.3877 - val_loss: 5.4177 - val_accuracy: 0.2375\n",
      "Epoch 65/100\n",
      "215/215 [==============================] - 3s 12ms/step - loss: 0.0215 - accuracy: 0.3886 - val_loss: 5.4946 - val_accuracy: 0.2402\n",
      "Epoch 66/100\n",
      "215/215 [==============================] - 3s 12ms/step - loss: 0.0215 - accuracy: 0.3907 - val_loss: 5.5871 - val_accuracy: 0.2388\n",
      "Epoch 67/100\n",
      "215/215 [==============================] - 3s 12ms/step - loss: 0.0214 - accuracy: 0.3893 - val_loss: 5.4823 - val_accuracy: 0.2257\n",
      "Epoch 68/100\n",
      "215/215 [==============================] - 3s 13ms/step - loss: 0.0215 - accuracy: 0.3797 - val_loss: 5.5325 - val_accuracy: 0.2362\n",
      "Epoch 69/100\n",
      "215/215 [==============================] - 3s 13ms/step - loss: 0.0215 - accuracy: 0.3865 - val_loss: 5.6619 - val_accuracy: 0.2349\n",
      "Epoch 70/100\n",
      "215/215 [==============================] - 2s 12ms/step - loss: 0.0216 - accuracy: 0.3798 - val_loss: 5.4731 - val_accuracy: 0.2323\n",
      "Epoch 71/100\n",
      "215/215 [==============================] - 3s 12ms/step - loss: 0.0214 - accuracy: 0.3829 - val_loss: 5.4097 - val_accuracy: 0.2336\n",
      "Epoch 72/100\n",
      "215/215 [==============================] - 2s 11ms/step - loss: 0.0215 - accuracy: 0.3846 - val_loss: 5.5928 - val_accuracy: 0.2336\n",
      "Epoch 73/100\n",
      "215/215 [==============================] - 2s 11ms/step - loss: 0.0228 - accuracy: 0.3839 - val_loss: 4.6965 - val_accuracy: 0.2323\n",
      "Epoch 74/100\n",
      "215/215 [==============================] - 2s 11ms/step - loss: 0.0339 - accuracy: 0.3988 - val_loss: 5.7161 - val_accuracy: 0.2651\n",
      "Epoch 75/100\n",
      "215/215 [==============================] - 2s 11ms/step - loss: 0.0243 - accuracy: 0.3995 - val_loss: 5.9956 - val_accuracy: 0.2625\n",
      "Epoch 76/100\n",
      "215/215 [==============================] - 3s 12ms/step - loss: 0.0224 - accuracy: 0.3992 - val_loss: 6.7701 - val_accuracy: 0.2625\n",
      "Epoch 77/100\n",
      "215/215 [==============================] - 3s 13ms/step - loss: 0.0230 - accuracy: 0.4161 - val_loss: 7.5502 - val_accuracy: 0.2730\n",
      "Epoch 78/100\n",
      "215/215 [==============================] - 3s 13ms/step - loss: 0.0220 - accuracy: 0.4166 - val_loss: 6.5857 - val_accuracy: 0.2612\n",
      "Epoch 79/100\n",
      "215/215 [==============================] - 3s 13ms/step - loss: 0.0212 - accuracy: 0.4125 - val_loss: 6.7065 - val_accuracy: 0.2612\n",
      "Epoch 80/100\n",
      "215/215 [==============================] - 3s 13ms/step - loss: 0.0212 - accuracy: 0.4132 - val_loss: 6.8090 - val_accuracy: 0.2625\n",
      "Epoch 81/100\n",
      "215/215 [==============================] - 3s 13ms/step - loss: 0.0213 - accuracy: 0.4140 - val_loss: 6.8514 - val_accuracy: 0.2625\n",
      "Epoch 82/100\n",
      "215/215 [==============================] - 3s 14ms/step - loss: 0.0212 - accuracy: 0.4142 - val_loss: 6.9051 - val_accuracy: 0.2638\n",
      "Epoch 83/100\n",
      "215/215 [==============================] - 3s 15ms/step - loss: 0.0211 - accuracy: 0.4148 - val_loss: 6.7105 - val_accuracy: 0.2625\n",
      "Epoch 84/100\n",
      "215/215 [==============================] - 3s 15ms/step - loss: 0.0213 - accuracy: 0.4154 - val_loss: 6.9567 - val_accuracy: 0.2664\n",
      "Epoch 85/100\n",
      "215/215 [==============================] - 3s 16ms/step - loss: 0.0219 - accuracy: 0.4131 - val_loss: 6.0792 - val_accuracy: 0.2559\n",
      "Epoch 86/100\n",
      "215/215 [==============================] - 3s 13ms/step - loss: 0.0214 - accuracy: 0.4058 - val_loss: 6.5299 - val_accuracy: 0.2585\n",
      "Epoch 87/100\n",
      "215/215 [==============================] - 3s 13ms/step - loss: 0.0213 - accuracy: 0.4067 - val_loss: 6.3960 - val_accuracy: 0.2585\n",
      "Epoch 88/100\n",
      "215/215 [==============================] - 3s 14ms/step - loss: 0.0213 - accuracy: 0.4078 - val_loss: 6.5191 - val_accuracy: 0.2585\n",
      "Epoch 89/100\n",
      "215/215 [==============================] - 3s 15ms/step - loss: 0.0212 - accuracy: 0.4084 - val_loss: 6.6020 - val_accuracy: 0.2598\n",
      "Epoch 90/100\n",
      "215/215 [==============================] - 3s 14ms/step - loss: 0.0212 - accuracy: 0.4084 - val_loss: 6.6869 - val_accuracy: 0.2585\n",
      "Epoch 91/100\n",
      "215/215 [==============================] - 3s 13ms/step - loss: 0.0213 - accuracy: 0.4094 - val_loss: 6.7219 - val_accuracy: 0.2598\n",
      "Epoch 92/100\n",
      "215/215 [==============================] - 3s 15ms/step - loss: 0.0212 - accuracy: 0.4090 - val_loss: 6.7292 - val_accuracy: 0.2585\n",
      "Epoch 93/100\n",
      "215/215 [==============================] - 3s 15ms/step - loss: 0.0212 - accuracy: 0.4097 - val_loss: 6.7513 - val_accuracy: 0.2598\n",
      "Epoch 94/100\n",
      "215/215 [==============================] - 3s 13ms/step - loss: 0.0212 - accuracy: 0.4105 - val_loss: 6.8380 - val_accuracy: 0.2598\n",
      "Epoch 95/100\n",
      "215/215 [==============================] - 3s 12ms/step - loss: 0.0213 - accuracy: 0.4100 - val_loss: 6.7642 - val_accuracy: 0.2598\n",
      "Epoch 96/100\n",
      "215/215 [==============================] - 3s 13ms/step - loss: 0.0217 - accuracy: 0.4091 - val_loss: 6.7598 - val_accuracy: 0.2638\n",
      "Epoch 97/100\n",
      "215/215 [==============================] - 3s 12ms/step - loss: 0.0213 - accuracy: 0.4109 - val_loss: 6.9101 - val_accuracy: 0.2612\n",
      "Epoch 98/100\n",
      "215/215 [==============================] - 3s 16ms/step - loss: 0.0212 - accuracy: 0.4121 - val_loss: 7.0763 - val_accuracy: 0.2625\n",
      "Epoch 99/100\n",
      "215/215 [==============================] - 3s 12ms/step - loss: 0.0218 - accuracy: 0.4121 - val_loss: 6.4269 - val_accuracy: 0.2664\n",
      "Epoch 100/100\n",
      "215/215 [==============================] - 3s 12ms/step - loss: 0.0213 - accuracy: 0.4110 - val_loss: 6.8333 - val_accuracy: 0.2677\n"
     ]
    }
   ],
   "source": [
    "model_5_history = model_5.fit(train_sentences,\n",
    "                              train_labels,\n",
    "                              epochs=100,\n",
    "                              validation_data=(val_sentences, val_labels),\n",
    "                              callbacks=[create_tensorboard_callback(SAVE_DIR,\n",
    "                                                                     \"model_5_conv1d\")])"
   ]
  },
  {
   "cell_type": "code",
   "execution_count": 129,
   "id": "49ba2443-fdde-418e-b36e-326e5572ae29",
   "metadata": {},
   "outputs": [
    {
     "name": "stdout",
     "output_type": "stream",
     "text": [
      "24/24 [==============================] - 0s 3ms/step\n"
     ]
    },
    {
     "data": {
      "text/plain": [
       "array([[9.9912655e-01],\n",
       "       [9.9999976e-01],\n",
       "       [1.0000000e+00],\n",
       "       [1.0000000e+00],\n",
       "       [2.6735184e-21],\n",
       "       [1.0000000e+00],\n",
       "       [9.9999791e-01],\n",
       "       [1.0000000e+00],\n",
       "       [1.0000000e+00],\n",
       "       [1.0000000e+00]], dtype=float32)"
      ]
     },
     "execution_count": 129,
     "metadata": {},
     "output_type": "execute_result"
    }
   ],
   "source": [
    "model_5_pred_probs = model_5.predict(val_sentences)\n",
    "model_5_pred_probs[:10]"
   ]
  },
  {
   "cell_type": "code",
   "execution_count": 130,
   "id": "cef7267f-46c8-4cb4-9d23-6047306648bf",
   "metadata": {},
   "outputs": [
    {
     "data": {
      "text/plain": [
       "<tf.Tensor: shape=(10,), dtype=float32, numpy=array([1., 1., 1., 1., 0., 1., 1., 1., 1., 1.], dtype=float32)>"
      ]
     },
     "execution_count": 130,
     "metadata": {},
     "output_type": "execute_result"
    }
   ],
   "source": [
    "model_5_preds = tf.squeeze(tf.round(model_5_pred_probs))\n",
    "model_5_preds[:10]"
   ]
  },
  {
   "cell_type": "code",
   "execution_count": 278,
   "id": "4837e312-1f54-4266-b07a-169e9246a380",
   "metadata": {},
   "outputs": [
    {
     "data": {
      "text/plain": [
       "{'accuracy': 0.7375328083989501,\n",
       " 'precision': 0.7370456333803346,\n",
       " 'recall': 0.7375328083989501,\n",
       " 'f1': 0.7371052302672692}"
      ]
     },
     "execution_count": 278,
     "metadata": {},
     "output_type": "execute_result"
    }
   ],
   "source": [
    "# calculate the result\n",
    "model_5_results = calculate_results(y_true=val_labels, y_preds=model_5_preds)\n",
    "model_5_results"
   ]
  },
  {
   "cell_type": "code",
   "execution_count": 279,
   "id": "e371373d-5881-4509-ac5d-dfd14935785e",
   "metadata": {},
   "outputs": [
    {
     "data": {
      "text/plain": [
       "{'accuracy': 0.7926509186351706,\n",
       " 'precision': 0.8111390004213173,\n",
       " 'recall': 0.7926509186351706,\n",
       " 'f1': 0.7862189758049549}"
      ]
     },
     "execution_count": 279,
     "metadata": {},
     "output_type": "execute_result"
    }
   ],
   "source": [
    "baseline_results"
   ]
  },
  {
   "cell_type": "code",
   "execution_count": 280,
   "id": "2cd68002-43e4-4a1d-9b2e-9ddb27b59617",
   "metadata": {},
   "outputs": [
    {
     "data": {
      "text/plain": [
       "{'accuracy': 0.7493438320209974,\n",
       " 'precision': 0.7489845053528059,\n",
       " 'recall': 0.7493438320209974,\n",
       " 'f1': 0.7483475363447356}"
      ]
     },
     "execution_count": 280,
     "metadata": {},
     "output_type": "execute_result"
    }
   ],
   "source": [
    "model_3_results"
   ]
  },
  {
   "cell_type": "code",
   "execution_count": 134,
   "id": "672dd8a2-0a40-4a6f-96af-364cbe303a16",
   "metadata": {},
   "outputs": [
    {
     "data": {
      "image/png": "[encoded data removed]",
      "text/plain": [
       "<Figure size 640x480 with 1 Axes>"
      ]
     },
     "metadata": {},
     "output_type": "display_data"
    },
    {
     "data": {
      "image/png": "[encoded data removed]",
      "text/plain": [
       "<Figure size 640x480 with 1 Axes>"
      ]
     },
     "metadata": {},
     "output_type": "display_data"
    }
   ],
   "source": [
    "plot_loss_curves(model_5_history)"
   ]
  },
  {
   "cell_type": "markdown",
   "id": "0da16780-6965-47ee-9185-ba77ba993947",
   "metadata": {},
   "source": [
    "## Model 6: TensorFlow Hub Pretrained Feature Extractor\n",
    "\n",
    "The model used is from this paper : [Universal Sentence Encoder](https://arxiv.org/abs/1803.11175)"
   ]
  },
  {
   "cell_type": "code",
   "execution_count": 135,
   "id": "877f44be-d549-4829-bd95-3b123ca092a5",
   "metadata": {},
   "outputs": [],
   "source": [
    "import tensorflow_hub as hub"
   ]
  },
  {
   "cell_type": "code",
   "execution_count": 136,
   "id": "3b8bef8a-a453-4aa3-8165-d1ed9d8bbee4",
   "metadata": {},
   "outputs": [],
   "source": [
    "embed = hub.load(\"https://www.kaggle.com/models/google/universal-sentence-encoder/frameworks/TensorFlow2/variations/universal-sentence-encoder/versions/2\")\n",
    "embed_samples = embed(tf.constant([sample_sentence,\n",
    "                                   \"When you call the universal sentence encoder on a sentence, it turns it into numbers.\"]))"
   ]
  },
  {
   "cell_type": "code",
   "execution_count": 137,
   "id": "0a4c9f4f-dffb-4988-8027-88511aeded81",
   "metadata": {},
   "outputs": [
    {
     "data": {
      "text/plain": [
       "<tf.Tensor: shape=(50,), dtype=float32, numpy=\n",
       "array([-0.01157022,  0.02485909,  0.02878049, -0.01271502,  0.03971541,\n",
       "        0.0882776 ,  0.02680985,  0.05589838, -0.01068732, -0.00597293,\n",
       "        0.00639324, -0.01819521,  0.00030815,  0.0910589 ,  0.05874645,\n",
       "       -0.03180628,  0.01512474, -0.05162928,  0.00991369, -0.06865346,\n",
       "       -0.04209307,  0.0267898 ,  0.0301101 ,  0.00321071, -0.00337968,\n",
       "       -0.04787361,  0.02266718, -0.00985926, -0.04063615, -0.01292094,\n",
       "       -0.04666382,  0.05630298, -0.03949255,  0.00517684,  0.02495828,\n",
       "       -0.0701444 ,  0.02871509,  0.04947679, -0.00633974, -0.08960192,\n",
       "        0.02807122, -0.00808364, -0.01360597,  0.05998648, -0.10361788,\n",
       "       -0.05195372,  0.00232956, -0.02332528, -0.03758107,  0.03327729],\n",
       "      dtype=float32)>"
      ]
     },
     "execution_count": 137,
     "metadata": {},
     "output_type": "execute_result"
    }
   ],
   "source": [
    "embed_samples[0][:50]"
   ]
  },
  {
   "cell_type": "code",
   "execution_count": 138,
   "id": "48545c97-19ec-4ebd-af76-45d4f760209c",
   "metadata": {},
   "outputs": [
    {
     "data": {
      "text/plain": [
       "TensorShape([512])"
      ]
     },
     "execution_count": 138,
     "metadata": {},
     "output_type": "execute_result"
    }
   ],
   "source": [
    "embed_samples[0].shape"
   ]
  },
  {
   "cell_type": "code",
   "execution_count": 139,
   "id": "bacddba9-1f6a-4853-a464-875f9873e238",
   "metadata": {},
   "outputs": [],
   "source": [
    "sentence_encoder_layer = hub.KerasLayer(\"https://www.kaggle.com/models/google/universal-sentence-encoder/frameworks/TensorFlow2/variations/universal-sentence-encoder/versions/2\",\n",
    "                                         input_shape=[],\n",
    "                                         dtype=tf.string,\n",
    "                                         trainable=False,\n",
    "                                         name=\"USE\")"
   ]
  },
  {
   "cell_type": "code",
   "execution_count": 182,
   "id": "daddec42-f5a7-45e5-8afa-8f67ea4d080c",
   "metadata": {},
   "outputs": [],
   "source": [
    "# build the model (sequential)\n",
    "model_6 = tf.keras.Sequential([\n",
    "    sentence_encoder_layer,\n",
    "    layers.Dense(128, activation='relu'),\n",
    "    layers.Dense(64, activation='relu'),\n",
    "    layers.Dense(1, activation='sigmoid'),\n",
    "], name='model_6_USE')"
   ]
  },
  {
   "cell_type": "code",
   "execution_count": 183,
   "id": "930c1fc8-3286-45df-9c23-6416cf0a4ef7",
   "metadata": {},
   "outputs": [
    {
     "name": "stdout",
     "output_type": "stream",
     "text": [
      "Model: \"model_6_USE\"\n",
      "_________________________________________________________________\n",
      " Layer (type)                Output Shape              Param #   \n",
      "=================================================================\n",
      " USE (KerasLayer)            (None, 512)               256797824 \n",
      "                                                                 \n",
      " dense_30 (Dense)            (None, 128)               65664     \n",
      "                                                                 \n",
      " dense_31 (Dense)            (None, 64)                8256      \n",
      "                                                                 \n",
      " dense_32 (Dense)            (None, 1)                 65        \n",
      "                                                                 \n",
      "=================================================================\n",
      "Total params: 256,871,809\n",
      "Trainable params: 73,985\n",
      "Non-trainable params: 256,797,824\n",
      "_________________________________________________________________\n"
     ]
    }
   ],
   "source": [
    "model_6.summary()"
   ]
  },
  {
   "cell_type": "code",
   "execution_count": 184,
   "id": "563bce80-8ecc-4ff6-bc3b-acec67b9b097",
   "metadata": {},
   "outputs": [],
   "source": [
    "# compile the model\n",
    "model_6.compile(loss=tf.keras.losses.BinaryCrossentropy(),\n",
    "                optimizer=tf.keras.optimizers.Adam(),\n",
    "                metrics=tf.keras.metrics.Accuracy())"
   ]
  },
  {
   "cell_type": "code",
   "execution_count": 185,
   "id": "7af7d5ab-96b4-4fee-8d9e-23eea4182a14",
   "metadata": {},
   "outputs": [
    {
     "name": "stdout",
     "output_type": "stream",
     "text": [
      "Saving TensorBoard log files to: model_logs/tf_hub_sentence_encoder/20241009-154703\n",
      "Epoch 1/100\n",
      "215/215 [==============================] - 5s 16ms/step - loss: 0.4686 - accuracy: 0.0000e+00 - val_loss: 0.4315 - val_accuracy: 0.0000e+00\n",
      "Epoch 2/100\n",
      "215/215 [==============================] - 3s 13ms/step - loss: 0.3938 - accuracy: 0.0000e+00 - val_loss: 0.4235 - val_accuracy: 0.0000e+00\n",
      "Epoch 3/100\n",
      "215/215 [==============================] - 3s 13ms/step - loss: 0.3700 - accuracy: 0.0000e+00 - val_loss: 0.4229 - val_accuracy: 0.0000e+00\n",
      "Epoch 4/100\n",
      "215/215 [==============================] - 3s 13ms/step - loss: 0.3384 - accuracy: 0.0000e+00 - val_loss: 0.4254 - val_accuracy: 0.0000e+00\n",
      "Epoch 5/100\n",
      "215/215 [==============================] - 3s 13ms/step - loss: 0.2991 - accuracy: 0.0000e+00 - val_loss: 0.4453 - val_accuracy: 0.0000e+00\n",
      "Epoch 6/100\n",
      "215/215 [==============================] - 3s 13ms/step - loss: 0.2606 - accuracy: 0.0000e+00 - val_loss: 0.4544 - val_accuracy: 0.0000e+00\n",
      "Epoch 7/100\n",
      "215/215 [==============================] - 3s 13ms/step - loss: 0.2109 - accuracy: 0.0000e+00 - val_loss: 0.5003 - val_accuracy: 0.0000e+00\n",
      "Epoch 8/100\n",
      "215/215 [==============================] - 3s 13ms/step - loss: 0.1640 - accuracy: 0.0000e+00 - val_loss: 0.5439 - val_accuracy: 0.0000e+00\n",
      "Epoch 9/100\n",
      "215/215 [==============================] - 3s 13ms/step - loss: 0.1314 - accuracy: 8.7578e-04 - val_loss: 0.6076 - val_accuracy: 0.0000e+00\n",
      "Epoch 10/100\n",
      "215/215 [==============================] - 3s 13ms/step - loss: 0.1065 - accuracy: 0.0050 - val_loss: 0.6390 - val_accuracy: 0.0092\n",
      "Epoch 11/100\n",
      "215/215 [==============================] - 3s 13ms/step - loss: 0.0879 - accuracy: 0.0090 - val_loss: 0.6831 - val_accuracy: 0.0210\n",
      "Epoch 12/100\n",
      "215/215 [==============================] - 3s 13ms/step - loss: 0.0898 - accuracy: 0.0098 - val_loss: 0.7459 - val_accuracy: 0.0171\n",
      "Epoch 13/100\n",
      "215/215 [==============================] - 3s 13ms/step - loss: 0.0596 - accuracy: 0.0166 - val_loss: 0.7798 - val_accuracy: 0.0118\n",
      "Epoch 14/100\n",
      "215/215 [==============================] - 3s 13ms/step - loss: 0.0567 - accuracy: 0.0193 - val_loss: 0.8411 - val_accuracy: 0.0276\n",
      "Epoch 15/100\n",
      "215/215 [==============================] - 3s 13ms/step - loss: 0.0561 - accuracy: 0.0242 - val_loss: 0.9469 - val_accuracy: 0.0184\n",
      "Epoch 16/100\n",
      "215/215 [==============================] - 3s 13ms/step - loss: 0.0514 - accuracy: 0.0274 - val_loss: 0.9219 - val_accuracy: 0.0197\n",
      "Epoch 17/100\n",
      "215/215 [==============================] - 3s 13ms/step - loss: 0.0496 - accuracy: 0.0295 - val_loss: 0.9051 - val_accuracy: 0.0249\n",
      "Epoch 18/100\n",
      "215/215 [==============================] - 3s 13ms/step - loss: 0.0457 - accuracy: 0.0366 - val_loss: 0.9022 - val_accuracy: 0.0420\n",
      "Epoch 19/100\n",
      "215/215 [==============================] - 3s 13ms/step - loss: 0.0440 - accuracy: 0.0347 - val_loss: 0.9596 - val_accuracy: 0.0420\n",
      "Epoch 20/100\n",
      "215/215 [==============================] - 3s 13ms/step - loss: 0.0417 - accuracy: 0.0417 - val_loss: 1.0874 - val_accuracy: 0.0184\n",
      "Epoch 21/100\n",
      "215/215 [==============================] - 3s 13ms/step - loss: 0.0461 - accuracy: 0.0385 - val_loss: 0.9664 - val_accuracy: 0.0302\n",
      "Epoch 22/100\n",
      "215/215 [==============================] - 3s 13ms/step - loss: 0.0394 - accuracy: 0.0412 - val_loss: 0.9750 - val_accuracy: 0.0472\n",
      "Epoch 23/100\n",
      "215/215 [==============================] - 3s 13ms/step - loss: 0.0421 - accuracy: 0.0396 - val_loss: 0.9685 - val_accuracy: 0.0604\n",
      "Epoch 24/100\n",
      "215/215 [==============================] - 3s 13ms/step - loss: 0.0385 - accuracy: 0.0441 - val_loss: 0.9756 - val_accuracy: 0.0525\n",
      "Epoch 25/100\n",
      "215/215 [==============================] - 3s 13ms/step - loss: 0.0345 - accuracy: 0.0485 - val_loss: 1.0115 - val_accuracy: 0.0525\n",
      "Epoch 26/100\n",
      "215/215 [==============================] - 3s 13ms/step - loss: 0.0369 - accuracy: 0.0450 - val_loss: 1.0163 - val_accuracy: 0.0472\n",
      "Epoch 27/100\n",
      "215/215 [==============================] - 3s 13ms/step - loss: 0.0309 - accuracy: 0.0451 - val_loss: 1.0503 - val_accuracy: 0.0472\n",
      "Epoch 28/100\n",
      "215/215 [==============================] - 3s 13ms/step - loss: 0.0320 - accuracy: 0.0517 - val_loss: 1.0655 - val_accuracy: 0.0459\n",
      "Epoch 29/100\n",
      "215/215 [==============================] - 3s 13ms/step - loss: 0.0335 - accuracy: 0.0550 - val_loss: 1.0730 - val_accuracy: 0.0512\n",
      "Epoch 30/100\n",
      "215/215 [==============================] - 3s 13ms/step - loss: 0.0283 - accuracy: 0.0568 - val_loss: 1.0719 - val_accuracy: 0.0827\n",
      "Epoch 31/100\n",
      "215/215 [==============================] - 3s 13ms/step - loss: 0.0267 - accuracy: 0.0582 - val_loss: 1.1080 - val_accuracy: 0.0420\n",
      "Epoch 32/100\n",
      "215/215 [==============================] - 3s 13ms/step - loss: 0.0263 - accuracy: 0.0552 - val_loss: 1.1650 - val_accuracy: 0.0433\n",
      "Epoch 33/100\n",
      "215/215 [==============================] - 3s 13ms/step - loss: 0.0292 - accuracy: 0.0654 - val_loss: 1.0707 - val_accuracy: 0.0486\n",
      "Epoch 34/100\n",
      "215/215 [==============================] - 3s 13ms/step - loss: 0.0253 - accuracy: 0.0622 - val_loss: 1.2377 - val_accuracy: 0.0499\n",
      "Epoch 35/100\n",
      "215/215 [==============================] - 3s 13ms/step - loss: 0.0263 - accuracy: 0.0671 - val_loss: 1.1322 - val_accuracy: 0.0748\n",
      "Epoch 36/100\n",
      "215/215 [==============================] - 3s 13ms/step - loss: 0.0212 - accuracy: 0.0734 - val_loss: 1.1968 - val_accuracy: 0.0709\n",
      "Epoch 37/100\n",
      "215/215 [==============================] - 3s 13ms/step - loss: 0.0246 - accuracy: 0.0704 - val_loss: 1.1894 - val_accuracy: 0.0840\n",
      "Epoch 38/100\n",
      "215/215 [==============================] - 3s 13ms/step - loss: 0.0244 - accuracy: 0.0816 - val_loss: 1.1987 - val_accuracy: 0.0984\n",
      "Epoch 39/100\n",
      "215/215 [==============================] - 3s 13ms/step - loss: 0.0209 - accuracy: 0.0905 - val_loss: 1.2419 - val_accuracy: 0.0984\n",
      "Epoch 40/100\n",
      "215/215 [==============================] - 3s 13ms/step - loss: 0.0328 - accuracy: 0.0868 - val_loss: 1.2232 - val_accuracy: 0.1010\n",
      "Epoch 41/100\n",
      "215/215 [==============================] - 3s 13ms/step - loss: 0.0376 - accuracy: 0.0861 - val_loss: 1.1551 - val_accuracy: 0.0879\n",
      "Epoch 42/100\n",
      "215/215 [==============================] - 3s 13ms/step - loss: 0.0242 - accuracy: 0.0912 - val_loss: 1.2643 - val_accuracy: 0.0932\n",
      "Epoch 43/100\n",
      "215/215 [==============================] - 3s 13ms/step - loss: 0.0223 - accuracy: 0.1102 - val_loss: 1.2750 - val_accuracy: 0.0866\n",
      "Epoch 44/100\n",
      "215/215 [==============================] - 3s 13ms/step - loss: 0.0293 - accuracy: 0.0966 - val_loss: 1.2450 - val_accuracy: 0.1076\n",
      "Epoch 45/100\n",
      "215/215 [==============================] - 3s 13ms/step - loss: 0.0251 - accuracy: 0.1022 - val_loss: 1.3063 - val_accuracy: 0.1129\n",
      "Epoch 46/100\n",
      "215/215 [==============================] - 3s 13ms/step - loss: 0.0202 - accuracy: 0.1121 - val_loss: 1.3174 - val_accuracy: 0.1194\n",
      "Epoch 47/100\n",
      "215/215 [==============================] - 3s 13ms/step - loss: 0.0239 - accuracy: 0.1114 - val_loss: 1.2340 - val_accuracy: 0.1273\n",
      "Epoch 48/100\n",
      "215/215 [==============================] - 3s 13ms/step - loss: 0.0190 - accuracy: 0.1157 - val_loss: 1.3089 - val_accuracy: 0.1378\n",
      "Epoch 49/100\n",
      "215/215 [==============================] - 3s 13ms/step - loss: 0.0221 - accuracy: 0.1176 - val_loss: 1.3464 - val_accuracy: 0.1286\n",
      "Epoch 50/100\n",
      "215/215 [==============================] - 3s 13ms/step - loss: 0.0200 - accuracy: 0.1118 - val_loss: 1.3519 - val_accuracy: 0.1260\n",
      "Epoch 51/100\n",
      "215/215 [==============================] - 3s 13ms/step - loss: 0.0192 - accuracy: 0.1112 - val_loss: 1.4277 - val_accuracy: 0.1260\n",
      "Epoch 52/100\n",
      "215/215 [==============================] - 3s 13ms/step - loss: 0.0153 - accuracy: 0.1305 - val_loss: 1.5009 - val_accuracy: 0.1417\n",
      "Epoch 53/100\n",
      "215/215 [==============================] - 3s 13ms/step - loss: 0.0277 - accuracy: 0.1228 - val_loss: 1.4224 - val_accuracy: 0.1365\n",
      "Epoch 54/100\n",
      "215/215 [==============================] - 3s 13ms/step - loss: 0.0272 - accuracy: 0.1247 - val_loss: 1.4106 - val_accuracy: 0.1457\n",
      "Epoch 55/100\n",
      "215/215 [==============================] - 3s 13ms/step - loss: 0.0217 - accuracy: 0.1284 - val_loss: 1.4700 - val_accuracy: 0.1404\n",
      "Epoch 56/100\n",
      "215/215 [==============================] - 3s 13ms/step - loss: 0.0199 - accuracy: 0.1357 - val_loss: 1.3736 - val_accuracy: 0.1509\n",
      "Epoch 57/100\n",
      "215/215 [==============================] - 3s 13ms/step - loss: 0.0178 - accuracy: 0.1355 - val_loss: 1.3414 - val_accuracy: 0.1444\n",
      "Epoch 58/100\n",
      "215/215 [==============================] - 3s 13ms/step - loss: 0.0209 - accuracy: 0.1394 - val_loss: 1.2961 - val_accuracy: 0.1378\n",
      "Epoch 59/100\n",
      "215/215 [==============================] - 3s 13ms/step - loss: 0.0212 - accuracy: 0.1416 - val_loss: 1.4942 - val_accuracy: 0.1102\n",
      "Epoch 60/100\n",
      "215/215 [==============================] - 3s 13ms/step - loss: 0.0217 - accuracy: 0.1388 - val_loss: 1.3863 - val_accuracy: 0.1076\n",
      "Epoch 61/100\n",
      "215/215 [==============================] - 3s 13ms/step - loss: 0.0218 - accuracy: 0.1474 - val_loss: 1.4454 - val_accuracy: 0.1207\n",
      "Epoch 62/100\n",
      "215/215 [==============================] - 3s 13ms/step - loss: 0.0166 - accuracy: 0.1458 - val_loss: 1.4537 - val_accuracy: 0.1155\n",
      "Epoch 63/100\n",
      "215/215 [==============================] - 3s 14ms/step - loss: 0.0149 - accuracy: 0.1449 - val_loss: 1.5084 - val_accuracy: 0.1509\n",
      "Epoch 64/100\n",
      "215/215 [==============================] - 3s 13ms/step - loss: 0.0150 - accuracy: 0.1555 - val_loss: 1.4560 - val_accuracy: 0.1391\n",
      "Epoch 65/100\n",
      "215/215 [==============================] - 3s 13ms/step - loss: 0.0155 - accuracy: 0.1473 - val_loss: 1.4987 - val_accuracy: 0.1522\n",
      "Epoch 66/100\n",
      "215/215 [==============================] - 3s 13ms/step - loss: 0.0172 - accuracy: 0.1518 - val_loss: 1.4651 - val_accuracy: 0.1430\n",
      "Epoch 67/100\n",
      "215/215 [==============================] - 3s 13ms/step - loss: 0.0145 - accuracy: 0.1600 - val_loss: 1.4795 - val_accuracy: 0.1588\n",
      "Epoch 68/100\n",
      "215/215 [==============================] - 3s 13ms/step - loss: 0.0168 - accuracy: 0.1590 - val_loss: 1.5713 - val_accuracy: 0.1457\n",
      "Epoch 69/100\n",
      "215/215 [==============================] - 3s 13ms/step - loss: 0.0129 - accuracy: 0.1725 - val_loss: 1.5673 - val_accuracy: 0.1627\n",
      "Epoch 70/100\n",
      "215/215 [==============================] - 3s 13ms/step - loss: 0.0159 - accuracy: 0.1754 - val_loss: 1.5187 - val_accuracy: 0.1509\n",
      "Epoch 71/100\n",
      "215/215 [==============================] - 3s 13ms/step - loss: 0.0433 - accuracy: 0.1518 - val_loss: 1.3412 - val_accuracy: 0.1194\n",
      "Epoch 72/100\n",
      "215/215 [==============================] - 3s 13ms/step - loss: 0.0397 - accuracy: 0.1365 - val_loss: 1.4933 - val_accuracy: 0.1024\n",
      "Epoch 73/100\n",
      "215/215 [==============================] - 3s 13ms/step - loss: 0.0270 - accuracy: 0.1330 - val_loss: 1.5012 - val_accuracy: 0.1391\n",
      "Epoch 74/100\n",
      "215/215 [==============================] - 3s 13ms/step - loss: 0.0149 - accuracy: 0.1555 - val_loss: 1.6008 - val_accuracy: 0.1588\n",
      "Epoch 75/100\n",
      "215/215 [==============================] - 3s 13ms/step - loss: 0.0141 - accuracy: 0.1642 - val_loss: 1.6040 - val_accuracy: 0.1588\n",
      "Epoch 76/100\n",
      "215/215 [==============================] - 3s 13ms/step - loss: 0.0113 - accuracy: 0.1654 - val_loss: 1.6814 - val_accuracy: 0.1549\n",
      "Epoch 77/100\n",
      "215/215 [==============================] - 3s 13ms/step - loss: 0.0101 - accuracy: 0.1731 - val_loss: 1.7018 - val_accuracy: 0.1640\n",
      "Epoch 78/100\n",
      "215/215 [==============================] - 3s 13ms/step - loss: 0.0128 - accuracy: 0.1759 - val_loss: 1.7149 - val_accuracy: 0.1575\n",
      "Epoch 79/100\n",
      "215/215 [==============================] - 3s 13ms/step - loss: 0.0114 - accuracy: 0.1744 - val_loss: 1.7282 - val_accuracy: 0.1535\n",
      "Epoch 80/100\n",
      "215/215 [==============================] - 3s 13ms/step - loss: 0.0119 - accuracy: 0.1744 - val_loss: 1.7206 - val_accuracy: 0.1627\n",
      "Epoch 81/100\n",
      "215/215 [==============================] - 3s 13ms/step - loss: 0.0139 - accuracy: 0.1677 - val_loss: 1.7399 - val_accuracy: 0.1496\n",
      "Epoch 82/100\n",
      "215/215 [==============================] - 3s 13ms/step - loss: 0.0112 - accuracy: 0.1768 - val_loss: 1.7801 - val_accuracy: 0.1654\n",
      "Epoch 83/100\n",
      "215/215 [==============================] - 3s 13ms/step - loss: 0.0120 - accuracy: 0.1861 - val_loss: 1.8038 - val_accuracy: 0.1955\n",
      "Epoch 84/100\n",
      "215/215 [==============================] - 3s 13ms/step - loss: 0.0142 - accuracy: 0.1819 - val_loss: 1.7284 - val_accuracy: 0.1732\n",
      "Epoch 85/100\n",
      "215/215 [==============================] - 3s 13ms/step - loss: 0.0198 - accuracy: 0.1607 - val_loss: 1.7190 - val_accuracy: 0.1745\n",
      "Epoch 86/100\n",
      "215/215 [==============================] - 3s 13ms/step - loss: 0.0176 - accuracy: 0.1581 - val_loss: 1.6527 - val_accuracy: 0.1745\n",
      "Epoch 87/100\n",
      "215/215 [==============================] - 3s 13ms/step - loss: 0.0138 - accuracy: 0.1800 - val_loss: 1.7991 - val_accuracy: 0.1470\n",
      "Epoch 88/100\n",
      "215/215 [==============================] - 3s 15ms/step - loss: 0.0141 - accuracy: 0.1738 - val_loss: 1.8427 - val_accuracy: 0.1614\n",
      "Epoch 89/100\n",
      "215/215 [==============================] - 3s 15ms/step - loss: 0.0126 - accuracy: 0.1927 - val_loss: 1.9484 - val_accuracy: 0.1601\n",
      "Epoch 90/100\n",
      "215/215 [==============================] - 3s 15ms/step - loss: 0.0174 - accuracy: 0.1832 - val_loss: 1.7709 - val_accuracy: 0.1575\n",
      "Epoch 91/100\n",
      "215/215 [==============================] - 3s 13ms/step - loss: 0.0551 - accuracy: 0.1283 - val_loss: 1.4921 - val_accuracy: 0.1168\n",
      "Epoch 92/100\n",
      "215/215 [==============================] - 3s 14ms/step - loss: 0.0287 - accuracy: 0.1366 - val_loss: 1.6318 - val_accuracy: 0.1444\n",
      "Epoch 93/100\n",
      "215/215 [==============================] - 3s 13ms/step - loss: 0.0162 - accuracy: 0.1578 - val_loss: 1.6539 - val_accuracy: 0.1339\n",
      "Epoch 94/100\n",
      "215/215 [==============================] - 3s 13ms/step - loss: 0.0107 - accuracy: 0.1722 - val_loss: 1.7991 - val_accuracy: 0.1562\n",
      "Epoch 95/100\n",
      "215/215 [==============================] - 3s 13ms/step - loss: 0.0097 - accuracy: 0.1921 - val_loss: 1.8435 - val_accuracy: 0.1601\n",
      "Epoch 96/100\n",
      "215/215 [==============================] - 3s 13ms/step - loss: 0.0112 - accuracy: 0.1922 - val_loss: 1.8570 - val_accuracy: 0.1470\n",
      "Epoch 97/100\n",
      "215/215 [==============================] - 3s 13ms/step - loss: 0.0119 - accuracy: 0.1906 - val_loss: 1.8174 - val_accuracy: 0.1693\n",
      "Epoch 98/100\n",
      "215/215 [==============================] - 3s 13ms/step - loss: 0.0123 - accuracy: 0.1838 - val_loss: 1.8419 - val_accuracy: 0.1509\n",
      "Epoch 99/100\n",
      "215/215 [==============================] - 3s 13ms/step - loss: 0.0098 - accuracy: 0.1886 - val_loss: 1.9087 - val_accuracy: 0.1640\n",
      "Epoch 100/100\n",
      "215/215 [==============================] - 4s 16ms/step - loss: 0.0110 - accuracy: 0.1954 - val_loss: 1.9595 - val_accuracy: 0.1732\n"
     ]
    }
   ],
   "source": [
    "# fit the model\n",
    "model_6_history = model_6.fit(train_sentences,\n",
    "                              train_labels,\n",
    "                              epochs=100,\n",
    "                              validation_data=(val_sentences, val_labels),\n",
    "                              callbacks=[create_tensorboard_callback(SAVE_DIR,\n",
    "                                                                     \"tf_hub_sentence_encoder\")])"
   ]
  },
  {
   "cell_type": "code",
   "execution_count": 186,
   "id": "a14361bd-ce39-405a-bfd9-99499e74d062",
   "metadata": {},
   "outputs": [
    {
     "name": "stdout",
     "output_type": "stream",
     "text": [
      "24/24 [==============================] - 1s 11ms/step\n"
     ]
    },
    {
     "data": {
      "text/plain": [
       "array([[4.0270344e-04],\n",
       "       [9.9983054e-01],\n",
       "       [1.0000000e+00],\n",
       "       [2.5745208e-04],\n",
       "       [4.1178027e-03],\n",
       "       [1.0000000e+00],\n",
       "       [9.9999845e-01],\n",
       "       [9.9999893e-01],\n",
       "       [1.0000000e+00],\n",
       "       [8.3884963e-08]], dtype=float32)"
      ]
     },
     "execution_count": 186,
     "metadata": {},
     "output_type": "execute_result"
    }
   ],
   "source": [
    "model_6_pred_probs = model_6.predict(val_sentences)\n",
    "model_6_pred_probs[:10]"
   ]
  },
  {
   "cell_type": "code",
   "execution_count": 187,
   "id": "7122a32a-67c2-4257-bdec-a24c57837aa5",
   "metadata": {},
   "outputs": [
    {
     "data": {
      "text/plain": [
       "<tf.Tensor: shape=(10,), dtype=float32, numpy=array([0., 1., 1., 0., 0., 1., 1., 1., 1., 0.], dtype=float32)>"
      ]
     },
     "execution_count": 187,
     "metadata": {},
     "output_type": "execute_result"
    }
   ],
   "source": [
    "model_6_preds = tf.squeeze(tf.round(model_6_pred_probs))\n",
    "model_6_preds[:10]"
   ]
  },
  {
   "cell_type": "code",
   "execution_count": 281,
   "id": "f5586c4d-d13b-4ea9-9781-4765b4641239",
   "metadata": {},
   "outputs": [
    {
     "data": {
      "text/plain": [
       "{'accuracy': 0.7926509186351706,\n",
       " 'precision': 0.7930624875358199,\n",
       " 'recall': 0.7926509186351706,\n",
       " 'f1': 0.7916058782200516}"
      ]
     },
     "execution_count": 281,
     "metadata": {},
     "output_type": "execute_result"
    }
   ],
   "source": [
    "model_6_results = calculate_results(val_labels, model_6_preds)\n",
    "model_6_results"
   ]
  },
  {
   "cell_type": "code",
   "execution_count": 282,
   "id": "1d054ef2-1713-4f60-8c9a-13d473092097",
   "metadata": {},
   "outputs": [
    {
     "data": {
      "text/plain": [
       "{'accuracy': 0.7926509186351706,\n",
       " 'precision': 0.8111390004213173,\n",
       " 'recall': 0.7926509186351706,\n",
       " 'f1': 0.7862189758049549}"
      ]
     },
     "execution_count": 282,
     "metadata": {},
     "output_type": "execute_result"
    }
   ],
   "source": [
    "baseline_results"
   ]
  },
  {
   "cell_type": "code",
   "execution_count": 283,
   "id": "ecdeee9d-f4ae-492a-bf1a-4a7e28fc6d7d",
   "metadata": {},
   "outputs": [
    {
     "data": {
      "text/plain": [
       "{'accuracy': 0.7493438320209974,\n",
       " 'precision': 0.7489845053528059,\n",
       " 'recall': 0.7493438320209974,\n",
       " 'f1': 0.7483475363447356}"
      ]
     },
     "execution_count": 283,
     "metadata": {},
     "output_type": "execute_result"
    }
   ],
   "source": [
    "model_3_results"
   ]
  },
  {
   "cell_type": "code",
   "execution_count": 191,
   "id": "e358ad3f-5dd7-4908-976d-f5e9040ae186",
   "metadata": {},
   "outputs": [
    {
     "data": {
      "image/png": "[encoded data removed]",
      "text/plain": [
       "<Figure size 640x480 with 1 Axes>"
      ]
     },
     "metadata": {},
     "output_type": "display_data"
    },
    {
     "data": {
      "image/png": "[encoded data removed]",
      "text/plain": [
       "<Figure size 640x480 with 1 Axes>"
      ]
     },
     "metadata": {},
     "output_type": "display_data"
    }
   ],
   "source": [
    "plot_loss_curves(model_6_history)"
   ]
  },
  {
   "cell_type": "markdown",
   "id": "34a0fc0a-4506-42a9-9cec-81d55d08feb8",
   "metadata": {},
   "source": [
    "## Model 7: Same as model 6 with 10% of training data"
   ]
  },
  {
   "cell_type": "code",
   "execution_count": 194,
   "id": "01ee3138-a108-4765-b354-f36f2f2b46f3",
   "metadata": {},
   "outputs": [
    {
     "data": {
      "text/html": [
       "<div>\n",
       "<style scoped>\n",
       "    .dataframe tbody tr th:only-of-type {\n",
       "        vertical-align: middle;\n",
       "    }\n",
       "\n",
       "    .dataframe tbody tr th {\n",
       "        vertical-align: top;\n",
       "    }\n",
       "\n",
       "    .dataframe thead th {\n",
       "        text-align: right;\n",
       "    }\n",
       "</style>\n",
       "<table border=\"1\" class=\"dataframe\">\n",
       "  <thead>\n",
       "    <tr style=\"text-align: right;\">\n",
       "      <th></th>\n",
       "      <th>text</th>\n",
       "      <th>target</th>\n",
       "    </tr>\n",
       "  </thead>\n",
       "  <tbody>\n",
       "    <tr>\n",
       "      <th>4955</th>\n",
       "      <td>DFR EP016 Monthly Meltdown - On Dnbheaven 2015...</td>\n",
       "      <td>0</td>\n",
       "    </tr>\n",
       "    <tr>\n",
       "      <th>584</th>\n",
       "      <td>FedEx no longer to transport bioterror germs i...</td>\n",
       "      <td>0</td>\n",
       "    </tr>\n",
       "    <tr>\n",
       "      <th>7411</th>\n",
       "      <td>Gunmen kill four in El Salvador bus attack: Su...</td>\n",
       "      <td>1</td>\n",
       "    </tr>\n",
       "    <tr>\n",
       "      <th>5950</th>\n",
       "      <td>@camilacabello97 Internally and externally scr...</td>\n",
       "      <td>1</td>\n",
       "    </tr>\n",
       "    <tr>\n",
       "      <th>5541</th>\n",
       "      <td>Radiation emergency #preparedness starts with ...</td>\n",
       "      <td>1</td>\n",
       "    </tr>\n",
       "  </tbody>\n",
       "</table>\n",
       "</div>"
      ],
      "text/plain": [
       "                                                   text  target\n",
       "4955  DFR EP016 Monthly Meltdown - On Dnbheaven 2015...       0\n",
       "584   FedEx no longer to transport bioterror germs i...       0\n",
       "7411  Gunmen kill four in El Salvador bus attack: Su...       1\n",
       "5950  @camilacabello97 Internally and externally scr...       1\n",
       "5541  Radiation emergency #preparedness starts with ...       1"
      ]
     },
     "execution_count": 194,
     "metadata": {},
     "output_type": "execute_result"
    }
   ],
   "source": [
    "train_10_percent = train_df_shuffled[['text', 'target']].sample(frac=0.1, random_state=42)\n",
    "train_10_percent.head()"
   ]
  },
  {
   "cell_type": "code",
   "execution_count": 199,
   "id": "5d84b436-25fd-4add-b694-6b3e8a9f7b41",
   "metadata": {},
   "outputs": [
    {
     "data": {
      "text/plain": [
       "['DFR EP016 Monthly Meltdown - On Dnbheaven 2015.08.06 http://t.co/EjKRf8N8A8 #Drum and Bass #heavy #nasty http://t.co/SPHWE6wFI5',\n",
       " 'FedEx no longer to transport bioterror germs in wake of anthrax lab mishaps http://t.co/qZQc8WWwcN via @usatoday',\n",
       " 'Gunmen kill four in El Salvador bus attack: Suspected Salvadoran gang members killed four people and wounded s... http://t.co/CNtwB6ScZj',\n",
       " '@camilacabello97 Internally and externally screaming',\n",
       " 'Radiation emergency #preparedness starts with knowing to: get inside stay inside and stay tuned http://t.co/RFFPqBAz2F via @CDCgov',\n",
       " 'Investigators rule catastrophic structural failure resulted in 2014 Virg.. Related Articles: http://t.co/Cy1LFeNyV8',\n",
       " 'How the West was burned: Thousands of wildfires ablaze in #California alone http://t.co/iCSjGZ9tE1 #climate #energy http://t.co/9FxmN0l0Bd',\n",
       " \"Map: Typhoon Soudelor's predicted path as it approaches Taiwan; expected to make landfall over southern China by S\\x89Û_ http://t.co/JDVSGVhlIs\",\n",
       " '\\x89Ûª93 blasts accused Yeda Yakub dies in Karachi of heart attack http://t.co/mfKqyxd8XG #Mumbai',\n",
       " 'My ears are bleeding  https://t.co/k5KnNwugwT']"
      ]
     },
     "execution_count": 199,
     "metadata": {},
     "output_type": "execute_result"
    }
   ],
   "source": [
    "train_sentences_10_percent = train_10_percent['text'].to_list()\n",
    "train_sentences_10_percent[:10]"
   ]
  },
  {
   "cell_type": "code",
   "execution_count": 200,
   "id": "c0ad2165-3c3e-42d7-a8c1-8afd3c368ebb",
   "metadata": {},
   "outputs": [
    {
     "data": {
      "text/plain": [
       "[0, 0, 1, 1, 1, 1, 1, 1, 1, 0]"
      ]
     },
     "execution_count": 200,
     "metadata": {},
     "output_type": "execute_result"
    }
   ],
   "source": [
    "train_labels_10_percent = train_10_percent['target'].to_list()\n",
    "train_labels_10_percent[:10]"
   ]
  },
  {
   "cell_type": "code",
   "execution_count": 201,
   "id": "ae314cc1-fb4f-4d49-8c1b-04cf605e11a0",
   "metadata": {},
   "outputs": [],
   "source": [
    "# build the model (sequential)\n",
    "model_7 = tf.keras.Sequential([\n",
    "    sentence_encoder_layer,\n",
    "    layers.Dense(128, activation='relu'),\n",
    "    layers.Dense(64, activation='relu'),\n",
    "    layers.Dense(1, activation='sigmoid'),\n",
    "], name='model_7_USE')"
   ]
  },
  {
   "cell_type": "code",
   "execution_count": 203,
   "id": "c07689e0-9046-4f35-8b97-9afb6a44b048",
   "metadata": {},
   "outputs": [
    {
     "name": "stdout",
     "output_type": "stream",
     "text": [
      "Model: \"model_7_USE\"\n",
      "_________________________________________________________________\n",
      " Layer (type)                Output Shape              Param #   \n",
      "=================================================================\n",
      " USE (KerasLayer)            (None, 512)               256797824 \n",
      "                                                                 \n",
      " dense_33 (Dense)            (None, 128)               65664     \n",
      "                                                                 \n",
      " dense_34 (Dense)            (None, 64)                8256      \n",
      "                                                                 \n",
      " dense_35 (Dense)            (None, 1)                 65        \n",
      "                                                                 \n",
      "=================================================================\n",
      "Total params: 256,871,809\n",
      "Trainable params: 73,985\n",
      "Non-trainable params: 256,797,824\n",
      "_________________________________________________________________\n"
     ]
    }
   ],
   "source": [
    "model_7.summary()"
   ]
  },
  {
   "cell_type": "code",
   "execution_count": 205,
   "id": "86b7bb84-1516-4fd0-85fa-4d672383d41e",
   "metadata": {},
   "outputs": [],
   "source": [
    "# compile the model\n",
    "model_7.compile(loss=tf.keras.losses.BinaryCrossentropy(),\n",
    "                optimizer=tf.keras.optimizers.Adam(),\n",
    "                metrics=tf.keras.metrics.Accuracy())"
   ]
  },
  {
   "cell_type": "code",
   "execution_count": 206,
   "id": "41f2d5c8-df86-44e5-935f-1e6828e42286",
   "metadata": {},
   "outputs": [
    {
     "name": "stdout",
     "output_type": "stream",
     "text": [
      "Saving TensorBoard log files to: model_logs/tf_hub_sentence_encoder_10_percent/20241009-162129\n",
      "Epoch 1/100\n",
      "215/215 [==============================] - 5s 18ms/step - loss: 0.4677 - accuracy: 0.0000e+00 - val_loss: 0.4366 - val_accuracy: 0.0000e+00\n",
      "Epoch 2/100\n",
      "215/215 [==============================] - 3s 16ms/step - loss: 0.3924 - accuracy: 0.0000e+00 - val_loss: 0.4267 - val_accuracy: 0.0000e+00\n",
      "Epoch 3/100\n",
      "215/215 [==============================] - 3s 14ms/step - loss: 0.3653 - accuracy: 0.0000e+00 - val_loss: 0.4197 - val_accuracy: 0.0000e+00\n",
      "Epoch 4/100\n",
      "215/215 [==============================] - 3s 14ms/step - loss: 0.3306 - accuracy: 0.0000e+00 - val_loss: 0.4427 - val_accuracy: 0.0000e+00\n",
      "Epoch 5/100\n",
      "215/215 [==============================] - 3s 16ms/step - loss: 0.2874 - accuracy: 0.0000e+00 - val_loss: 0.4745 - val_accuracy: 0.0000e+00\n",
      "Epoch 6/100\n",
      "215/215 [==============================] - 3s 15ms/step - loss: 0.2334 - accuracy: 0.0000e+00 - val_loss: 0.5043 - val_accuracy: 0.0000e+00\n",
      "Epoch 7/100\n",
      "215/215 [==============================] - 3s 15ms/step - loss: 0.1822 - accuracy: 0.0000e+00 - val_loss: 0.5633 - val_accuracy: 0.0000e+00\n",
      "Epoch 8/100\n",
      "215/215 [==============================] - 3s 15ms/step - loss: 0.1384 - accuracy: 0.0000e+00 - val_loss: 0.6253 - val_accuracy: 0.0000e+00\n",
      "Epoch 9/100\n",
      "215/215 [==============================] - 3s 15ms/step - loss: 0.1077 - accuracy: 0.0000e+00 - val_loss: 0.7229 - val_accuracy: 0.0000e+00\n",
      "Epoch 10/100\n",
      "215/215 [==============================] - 3s 14ms/step - loss: 0.0868 - accuracy: 4.3789e-04 - val_loss: 0.7699 - val_accuracy: 0.0000e+00\n",
      "Epoch 11/100\n",
      "215/215 [==============================] - 3s 15ms/step - loss: 0.0774 - accuracy: 0.0013 - val_loss: 0.8011 - val_accuracy: 0.0013\n",
      "Epoch 12/100\n",
      "215/215 [==============================] - 3s 14ms/step - loss: 0.0663 - accuracy: 0.0028 - val_loss: 0.8691 - val_accuracy: 0.0039\n",
      "Epoch 13/100\n",
      "215/215 [==============================] - 3s 14ms/step - loss: 0.0656 - accuracy: 0.0042 - val_loss: 0.8956 - val_accuracy: 0.0066\n",
      "Epoch 14/100\n",
      "215/215 [==============================] - 3s 16ms/step - loss: 0.0585 - accuracy: 0.0057 - val_loss: 0.9951 - val_accuracy: 0.0026\n",
      "Epoch 15/100\n",
      "215/215 [==============================] - 3s 14ms/step - loss: 0.0524 - accuracy: 0.0048 - val_loss: 0.9808 - val_accuracy: 0.0039\n",
      "Epoch 16/100\n",
      "215/215 [==============================] - 3s 15ms/step - loss: 0.0479 - accuracy: 0.0057 - val_loss: 0.9368 - val_accuracy: 0.0066\n",
      "Epoch 17/100\n",
      "215/215 [==============================] - 3s 14ms/step - loss: 0.0462 - accuracy: 0.0073 - val_loss: 0.9597 - val_accuracy: 0.0039\n",
      "Epoch 18/100\n",
      "215/215 [==============================] - 3s 14ms/step - loss: 0.0435 - accuracy: 0.0034 - val_loss: 1.0805 - val_accuracy: 0.0066\n",
      "Epoch 19/100\n",
      "215/215 [==============================] - 3s 14ms/step - loss: 0.0417 - accuracy: 0.0054 - val_loss: 1.0250 - val_accuracy: 0.0131\n",
      "Epoch 20/100\n",
      "215/215 [==============================] - 3s 14ms/step - loss: 0.0428 - accuracy: 0.0069 - val_loss: 1.0079 - val_accuracy: 0.0131\n",
      "Epoch 21/100\n",
      "215/215 [==============================] - 3s 14ms/step - loss: 0.0367 - accuracy: 0.0050 - val_loss: 1.0793 - val_accuracy: 0.0144\n",
      "Epoch 22/100\n",
      "215/215 [==============================] - 3s 14ms/step - loss: 0.0365 - accuracy: 0.0099 - val_loss: 1.0569 - val_accuracy: 0.0144\n",
      "Epoch 23/100\n",
      "215/215 [==============================] - 3s 14ms/step - loss: 0.0358 - accuracy: 0.0099 - val_loss: 1.0876 - val_accuracy: 0.0157\n",
      "Epoch 24/100\n",
      "215/215 [==============================] - 3s 15ms/step - loss: 0.0339 - accuracy: 0.0134 - val_loss: 1.1494 - val_accuracy: 0.0171\n",
      "Epoch 25/100\n",
      "215/215 [==============================] - 3s 15ms/step - loss: 0.0310 - accuracy: 0.0152 - val_loss: 1.1581 - val_accuracy: 0.0236\n",
      "Epoch 26/100\n",
      "215/215 [==============================] - 3s 14ms/step - loss: 0.0285 - accuracy: 0.0181 - val_loss: 1.1868 - val_accuracy: 0.0262\n",
      "Epoch 27/100\n",
      "215/215 [==============================] - 3s 14ms/step - loss: 0.0294 - accuracy: 0.0194 - val_loss: 1.1932 - val_accuracy: 0.0302\n",
      "Epoch 28/100\n",
      "215/215 [==============================] - 3s 15ms/step - loss: 0.0288 - accuracy: 0.0236 - val_loss: 1.2001 - val_accuracy: 0.0367\n",
      "Epoch 29/100\n",
      "215/215 [==============================] - 3s 15ms/step - loss: 0.0316 - accuracy: 0.0244 - val_loss: 1.2365 - val_accuracy: 0.0289\n",
      "Epoch 30/100\n",
      "215/215 [==============================] - 3s 14ms/step - loss: 0.0315 - accuracy: 0.0289 - val_loss: 1.2063 - val_accuracy: 0.0262\n",
      "Epoch 31/100\n",
      "215/215 [==============================] - 3s 14ms/step - loss: 0.0331 - accuracy: 0.0279 - val_loss: 1.2289 - val_accuracy: 0.0276\n",
      "Epoch 32/100\n",
      "215/215 [==============================] - 3s 14ms/step - loss: 0.0295 - accuracy: 0.0261 - val_loss: 1.2734 - val_accuracy: 0.0276\n",
      "Epoch 33/100\n",
      "215/215 [==============================] - 3s 14ms/step - loss: 0.0267 - accuracy: 0.0333 - val_loss: 1.2905 - val_accuracy: 0.0420\n",
      "Epoch 34/100\n",
      "215/215 [==============================] - 3s 14ms/step - loss: 0.0320 - accuracy: 0.0283 - val_loss: 1.3170 - val_accuracy: 0.0223\n",
      "Epoch 35/100\n",
      "215/215 [==============================] - 3s 16ms/step - loss: 0.0288 - accuracy: 0.0336 - val_loss: 1.4529 - val_accuracy: 0.0289\n",
      "Epoch 36/100\n",
      "215/215 [==============================] - 3s 14ms/step - loss: 0.0333 - accuracy: 0.0273 - val_loss: 1.4080 - val_accuracy: 0.0289\n",
      "Epoch 37/100\n",
      "215/215 [==============================] - 3s 15ms/step - loss: 0.0231 - accuracy: 0.0324 - val_loss: 1.4113 - val_accuracy: 0.0367\n",
      "Epoch 38/100\n",
      "215/215 [==============================] - 3s 14ms/step - loss: 0.0211 - accuracy: 0.0412 - val_loss: 1.5021 - val_accuracy: 0.0525\n",
      "Epoch 39/100\n",
      "215/215 [==============================] - 3s 15ms/step - loss: 0.0298 - accuracy: 0.0448 - val_loss: 1.5041 - val_accuracy: 0.0276\n",
      "Epoch 40/100\n",
      "215/215 [==============================] - 3s 16ms/step - loss: 0.0258 - accuracy: 0.0397 - val_loss: 1.5085 - val_accuracy: 0.0249\n",
      "Epoch 41/100\n",
      "215/215 [==============================] - 3s 16ms/step - loss: 0.0256 - accuracy: 0.0382 - val_loss: 1.5586 - val_accuracy: 0.0394\n",
      "Epoch 42/100\n",
      "215/215 [==============================] - 3s 14ms/step - loss: 0.0191 - accuracy: 0.0517 - val_loss: 1.6185 - val_accuracy: 0.0472\n",
      "Epoch 43/100\n",
      "215/215 [==============================] - 3s 14ms/step - loss: 0.0212 - accuracy: 0.0512 - val_loss: 1.5600 - val_accuracy: 0.0472\n",
      "Epoch 44/100\n",
      "215/215 [==============================] - 3s 16ms/step - loss: 0.0169 - accuracy: 0.0633 - val_loss: 1.5837 - val_accuracy: 0.0525\n",
      "Epoch 45/100\n",
      "215/215 [==============================] - 3s 16ms/step - loss: 0.0198 - accuracy: 0.0496 - val_loss: 1.5280 - val_accuracy: 0.0472\n",
      "Epoch 46/100\n",
      "215/215 [==============================] - 3s 14ms/step - loss: 0.0223 - accuracy: 0.0528 - val_loss: 1.5455 - val_accuracy: 0.0604\n",
      "Epoch 47/100\n",
      "215/215 [==============================] - 3s 14ms/step - loss: 0.0195 - accuracy: 0.0641 - val_loss: 1.6173 - val_accuracy: 0.0774\n",
      "Epoch 48/100\n",
      "215/215 [==============================] - 3s 14ms/step - loss: 0.0209 - accuracy: 0.0612 - val_loss: 1.6791 - val_accuracy: 0.0551\n",
      "Epoch 49/100\n",
      "215/215 [==============================] - 3s 14ms/step - loss: 0.0205 - accuracy: 0.0613 - val_loss: 1.6997 - val_accuracy: 0.0604\n",
      "Epoch 50/100\n",
      "215/215 [==============================] - 3s 14ms/step - loss: 0.0193 - accuracy: 0.0647 - val_loss: 1.5779 - val_accuracy: 0.0656\n",
      "Epoch 51/100\n",
      "215/215 [==============================] - 3s 14ms/step - loss: 0.0201 - accuracy: 0.0635 - val_loss: 1.5962 - val_accuracy: 0.0617\n",
      "Epoch 52/100\n",
      "215/215 [==============================] - 3s 15ms/step - loss: 0.0520 - accuracy: 0.0485 - val_loss: 1.6142 - val_accuracy: 0.0276\n",
      "Epoch 53/100\n",
      "215/215 [==============================] - 3s 14ms/step - loss: 0.0452 - accuracy: 0.0378 - val_loss: 1.6230 - val_accuracy: 0.0538\n",
      "Epoch 54/100\n",
      "215/215 [==============================] - 3s 14ms/step - loss: 0.0273 - accuracy: 0.0565 - val_loss: 1.6624 - val_accuracy: 0.0669\n",
      "Epoch 55/100\n",
      "215/215 [==============================] - 3s 14ms/step - loss: 0.0210 - accuracy: 0.0715 - val_loss: 1.7381 - val_accuracy: 0.0617\n",
      "Epoch 56/100\n",
      "215/215 [==============================] - 3s 15ms/step - loss: 0.0140 - accuracy: 0.0868 - val_loss: 1.7316 - val_accuracy: 0.1142\n",
      "Epoch 57/100\n",
      "215/215 [==============================] - 3s 14ms/step - loss: 0.0147 - accuracy: 0.0908 - val_loss: 1.8197 - val_accuracy: 0.0879\n",
      "Epoch 58/100\n",
      "215/215 [==============================] - 3s 14ms/step - loss: 0.0132 - accuracy: 0.0984 - val_loss: 1.8388 - val_accuracy: 0.1063\n",
      "Epoch 59/100\n",
      "215/215 [==============================] - 3s 14ms/step - loss: 0.0139 - accuracy: 0.1001 - val_loss: 1.8132 - val_accuracy: 0.0892\n",
      "Epoch 60/100\n",
      "215/215 [==============================] - 3s 14ms/step - loss: 0.0126 - accuracy: 0.0944 - val_loss: 1.9121 - val_accuracy: 0.0997\n",
      "Epoch 61/100\n",
      "215/215 [==============================] - 3s 14ms/step - loss: 0.0148 - accuracy: 0.0952 - val_loss: 1.9000 - val_accuracy: 0.1037\n",
      "Epoch 62/100\n",
      "215/215 [==============================] - 3s 14ms/step - loss: 0.0123 - accuracy: 0.1092 - val_loss: 1.9379 - val_accuracy: 0.0984\n",
      "Epoch 63/100\n",
      "215/215 [==============================] - 3s 14ms/step - loss: 0.0163 - accuracy: 0.0931 - val_loss: 1.9083 - val_accuracy: 0.0958\n",
      "Epoch 64/100\n",
      "215/215 [==============================] - 3s 14ms/step - loss: 0.0225 - accuracy: 0.0863 - val_loss: 1.7489 - val_accuracy: 0.0591\n",
      "Epoch 65/100\n",
      "215/215 [==============================] - 3s 15ms/step - loss: 0.0164 - accuracy: 0.0819 - val_loss: 1.8947 - val_accuracy: 0.0748\n",
      "Epoch 66/100\n",
      "215/215 [==============================] - 3s 14ms/step - loss: 0.0222 - accuracy: 0.0855 - val_loss: 1.9147 - val_accuracy: 0.0591\n",
      "Epoch 67/100\n",
      "215/215 [==============================] - 3s 14ms/step - loss: 0.0271 - accuracy: 0.0607 - val_loss: 1.7314 - val_accuracy: 0.0394\n",
      "Epoch 68/100\n",
      "215/215 [==============================] - 3s 14ms/step - loss: 0.0380 - accuracy: 0.0501 - val_loss: 1.7284 - val_accuracy: 0.0656\n",
      "Epoch 69/100\n",
      "215/215 [==============================] - 3s 14ms/step - loss: 0.0307 - accuracy: 0.0648 - val_loss: 1.8865 - val_accuracy: 0.0656\n",
      "Epoch 70/100\n",
      "215/215 [==============================] - 3s 14ms/step - loss: 0.0200 - accuracy: 0.0814 - val_loss: 1.8098 - val_accuracy: 0.0709\n",
      "Epoch 71/100\n",
      "215/215 [==============================] - 3s 14ms/step - loss: 0.0129 - accuracy: 0.0813 - val_loss: 1.9516 - val_accuracy: 0.0879\n",
      "Epoch 72/100\n",
      "215/215 [==============================] - 3s 14ms/step - loss: 0.0119 - accuracy: 0.0995 - val_loss: 2.0156 - val_accuracy: 0.0906\n",
      "Epoch 73/100\n",
      "215/215 [==============================] - 3s 14ms/step - loss: 0.0122 - accuracy: 0.1060 - val_loss: 1.9851 - val_accuracy: 0.1010\n",
      "Epoch 74/100\n",
      "215/215 [==============================] - 3s 14ms/step - loss: 0.0138 - accuracy: 0.1052 - val_loss: 2.0437 - val_accuracy: 0.0932\n",
      "Epoch 75/100\n",
      "215/215 [==============================] - 3s 14ms/step - loss: 0.0164 - accuracy: 0.0895 - val_loss: 2.0242 - val_accuracy: 0.0827\n",
      "Epoch 76/100\n",
      "215/215 [==============================] - 3s 14ms/step - loss: 0.0125 - accuracy: 0.1073 - val_loss: 1.9833 - val_accuracy: 0.1076\n",
      "Epoch 77/100\n",
      "215/215 [==============================] - 3s 14ms/step - loss: 0.0164 - accuracy: 0.1026 - val_loss: 1.8827 - val_accuracy: 0.0906\n",
      "Epoch 78/100\n",
      "215/215 [==============================] - 3s 14ms/step - loss: 0.0147 - accuracy: 0.0879 - val_loss: 1.9365 - val_accuracy: 0.0945\n",
      "Epoch 79/100\n",
      "215/215 [==============================] - 3s 14ms/step - loss: 0.0126 - accuracy: 0.1109 - val_loss: 2.1904 - val_accuracy: 0.0984\n",
      "Epoch 80/100\n",
      "215/215 [==============================] - 3s 14ms/step - loss: 0.0176 - accuracy: 0.0995 - val_loss: 1.9078 - val_accuracy: 0.0761\n",
      "Epoch 81/100\n",
      "215/215 [==============================] - 3s 14ms/step - loss: 0.0182 - accuracy: 0.0956 - val_loss: 1.9665 - val_accuracy: 0.1129\n",
      "Epoch 82/100\n",
      "215/215 [==============================] - 3s 14ms/step - loss: 0.0166 - accuracy: 0.1052 - val_loss: 2.0139 - val_accuracy: 0.1142\n",
      "Epoch 83/100\n",
      "215/215 [==============================] - 3s 14ms/step - loss: 0.0143 - accuracy: 0.1150 - val_loss: 2.0348 - val_accuracy: 0.1102\n",
      "Epoch 84/100\n",
      "215/215 [==============================] - 3s 14ms/step - loss: 0.0159 - accuracy: 0.1108 - val_loss: 2.0297 - val_accuracy: 0.1076\n",
      "Epoch 85/100\n",
      "215/215 [==============================] - 3s 14ms/step - loss: 0.0175 - accuracy: 0.1179 - val_loss: 2.0857 - val_accuracy: 0.1115\n",
      "Epoch 86/100\n",
      "215/215 [==============================] - 3s 14ms/step - loss: 0.0267 - accuracy: 0.1292 - val_loss: 1.8894 - val_accuracy: 0.0932\n",
      "Epoch 87/100\n",
      "215/215 [==============================] - 3s 14ms/step - loss: 0.0531 - accuracy: 0.0724 - val_loss: 1.7954 - val_accuracy: 0.0564\n",
      "Epoch 88/100\n",
      "215/215 [==============================] - 3s 14ms/step - loss: 0.0253 - accuracy: 0.0803 - val_loss: 1.9467 - val_accuracy: 0.0774\n",
      "Epoch 89/100\n",
      "215/215 [==============================] - 3s 14ms/step - loss: 0.0152 - accuracy: 0.0993 - val_loss: 1.9725 - val_accuracy: 0.1076\n",
      "Epoch 90/100\n",
      "215/215 [==============================] - 3s 14ms/step - loss: 0.0111 - accuracy: 0.1163 - val_loss: 2.0175 - val_accuracy: 0.1115\n",
      "Epoch 91/100\n",
      "215/215 [==============================] - 3s 14ms/step - loss: 0.0108 - accuracy: 0.1260 - val_loss: 2.0481 - val_accuracy: 0.1220\n",
      "Epoch 92/100\n",
      "215/215 [==============================] - 3s 14ms/step - loss: 0.0096 - accuracy: 0.1331 - val_loss: 2.1316 - val_accuracy: 0.1207\n",
      "Epoch 93/100\n",
      "215/215 [==============================] - 3s 14ms/step - loss: 0.0108 - accuracy: 0.1324 - val_loss: 2.0602 - val_accuracy: 0.1325\n",
      "Epoch 94/100\n",
      "215/215 [==============================] - 3s 14ms/step - loss: 0.0120 - accuracy: 0.1355 - val_loss: 2.1531 - val_accuracy: 0.1168\n",
      "Epoch 95/100\n",
      "215/215 [==============================] - 3s 14ms/step - loss: 0.0104 - accuracy: 0.1347 - val_loss: 2.1337 - val_accuracy: 0.1286\n",
      "Epoch 96/100\n",
      "215/215 [==============================] - 3s 14ms/step - loss: 0.0119 - accuracy: 0.1270 - val_loss: 2.1167 - val_accuracy: 0.1155\n",
      "Epoch 97/100\n",
      "215/215 [==============================] - 3s 14ms/step - loss: 0.0120 - accuracy: 0.1330 - val_loss: 2.1217 - val_accuracy: 0.1325\n",
      "Epoch 98/100\n",
      "215/215 [==============================] - 3s 14ms/step - loss: 0.0134 - accuracy: 0.1357 - val_loss: 2.1200 - val_accuracy: 0.1352\n",
      "Epoch 99/100\n",
      "215/215 [==============================] - 3s 14ms/step - loss: 0.0121 - accuracy: 0.1357 - val_loss: 2.1542 - val_accuracy: 0.1339\n",
      "Epoch 100/100\n",
      "215/215 [==============================] - 3s 14ms/step - loss: 0.0181 - accuracy: 0.1157 - val_loss: 2.0140 - val_accuracy: 0.0945\n"
     ]
    }
   ],
   "source": [
    "# fit the model\n",
    "model_7_history = model_7.fit(train_sentences,\n",
    "                              train_labels,\n",
    "                              epochs=100,\n",
    "                              validation_data=(val_sentences, val_labels),\n",
    "                              callbacks=[create_tensorboard_callback(SAVE_DIR,\n",
    "                                                                     \"tf_hub_sentence_encoder_10_percent\")])"
   ]
  },
  {
   "cell_type": "code",
   "execution_count": 207,
   "id": "d63cf866-85aa-4e0d-97ff-0ee89aa6ab88",
   "metadata": {},
   "outputs": [
    {
     "name": "stdout",
     "output_type": "stream",
     "text": [
      "24/24 [==============================] - 1s 11ms/step\n"
     ]
    },
    {
     "data": {
      "text/plain": [
       "array([[2.3229092e-09],\n",
       "       [8.8299650e-01],\n",
       "       [1.0000000e+00],\n",
       "       [4.5822585e-06],\n",
       "       [2.5091688e-03],\n",
       "       [9.9999958e-01],\n",
       "       [1.0000000e+00],\n",
       "       [1.0000000e+00],\n",
       "       [9.9998951e-01],\n",
       "       [3.7670343e-08]], dtype=float32)"
      ]
     },
     "execution_count": 207,
     "metadata": {},
     "output_type": "execute_result"
    }
   ],
   "source": [
    "model_7_pred_probs = model_7.predict(val_sentences)\n",
    "model_7_pred_probs[:10]"
   ]
  },
  {
   "cell_type": "code",
   "execution_count": 208,
   "id": "7280a708-38f6-4fd3-9487-fa389e47da0f",
   "metadata": {},
   "outputs": [
    {
     "data": {
      "text/plain": [
       "<tf.Tensor: shape=(10,), dtype=float32, numpy=array([0., 1., 1., 0., 0., 1., 1., 1., 1., 0.], dtype=float32)>"
      ]
     },
     "execution_count": 208,
     "metadata": {},
     "output_type": "execute_result"
    }
   ],
   "source": [
    "model_7_preds = tf.squeeze(tf.round(model_7_pred_probs))\n",
    "model_7_preds[:10]"
   ]
  },
  {
   "cell_type": "code",
   "execution_count": 284,
   "id": "056e34c6-587d-456e-967a-39f61efe2030",
   "metadata": {},
   "outputs": [
    {
     "data": {
      "text/plain": [
       "{'accuracy': 0.7847769028871391,\n",
       " 'precision': 0.7862392297712013,\n",
       " 'recall': 0.7847769028871391,\n",
       " 'f1': 0.7830611097687449}"
      ]
     },
     "execution_count": 284,
     "metadata": {},
     "output_type": "execute_result"
    }
   ],
   "source": [
    "model_7_results = calculate_results(val_labels, model_7_preds)\n",
    "model_7_results"
   ]
  },
  {
   "cell_type": "code",
   "execution_count": 285,
   "id": "bab62d7b-a995-4c2f-927e-618d9211acd4",
   "metadata": {},
   "outputs": [
    {
     "data": {
      "text/plain": [
       "{'accuracy': 0.7926509186351706,\n",
       " 'precision': 0.8111390004213173,\n",
       " 'recall': 0.7926509186351706,\n",
       " 'f1': 0.7862189758049549}"
      ]
     },
     "execution_count": 285,
     "metadata": {},
     "output_type": "execute_result"
    }
   ],
   "source": [
    "baseline_results"
   ]
  },
  {
   "cell_type": "code",
   "execution_count": 286,
   "id": "3e4ca513-40a4-4369-b3e7-78707a2e5363",
   "metadata": {},
   "outputs": [
    {
     "data": {
      "text/plain": [
       "{'accuracy': 0.7926509186351706,\n",
       " 'precision': 0.7930624875358199,\n",
       " 'recall': 0.7926509186351706,\n",
       " 'f1': 0.7916058782200516}"
      ]
     },
     "execution_count": 286,
     "metadata": {},
     "output_type": "execute_result"
    }
   ],
   "source": [
    "model_6_results"
   ]
  },
  {
   "cell_type": "code",
   "execution_count": 212,
   "id": "4e1c40b4-eaef-499e-b9c1-ff0cf3cf1e3a",
   "metadata": {},
   "outputs": [
    {
     "data": {
      "image/png": "[encoded data removed]",
      "text/plain": [
       "<Figure size 640x480 with 1 Axes>"
      ]
     },
     "metadata": {},
     "output_type": "display_data"
    },
    {
     "data": {
      "image/png": "[encoded data removed]",
      "text/plain": [
       "<Figure size 640x480 with 1 Axes>"
      ]
     },
     "metadata": {},
     "output_type": "display_data"
    }
   ],
   "source": [
    "plot_loss_curves(model_7_history)"
   ]
  },
  {
   "cell_type": "markdown",
   "id": "40099e00-2885-4d2a-81f9-4074468ac5b2",
   "metadata": {},
   "source": [
    "### Since data splitting in the above experiment was done through the shuffled DataFrame, there is a possibility of memory leakage from training data to validation data."
   ]
  },
  {
   "cell_type": "code",
   "execution_count": 216,
   "id": "2c71af02-1dfd-4a8f-b5b0-119ca197e8c0",
   "metadata": {},
   "outputs": [],
   "source": [
    "train_sentences_90_percent, train_sentences_10_percent, train_labels_90_percent, train_labels_10_percent = train_test_split(np.array(train_sentences),\n",
    "                                                                                                                            train_labels,\n",
    "                                                                                                                            test_size=0.1,\n",
    "                                                                                                                            random_state=42)"
   ]
  },
  {
   "cell_type": "code",
   "execution_count": 214,
   "id": "8df61079-1c7b-41b1-9b33-219253862887",
   "metadata": {},
   "outputs": [
    {
     "name": "stdout",
     "output_type": "stream",
     "text": [
      "Total training examples: 6851\n",
      "Length of 10% training examples: 686\n"
     ]
    }
   ],
   "source": [
    "# Check length of 10 percent datasets\n",
    "print(f\"Total training examples: {len(train_sentences)}\")\n",
    "print(f\"Length of 10% training examples: {len(train_sentences_10_percent)}\")"
   ]
  },
  {
   "cell_type": "code",
   "execution_count": 217,
   "id": "48764498-b0ba-4bdc-88d0-7f930ac6ca51",
   "metadata": {},
   "outputs": [
    {
     "data": {
      "text/plain": [
       "0    415\n",
       "1    271\n",
       "Name: count, dtype: int64"
      ]
     },
     "execution_count": 217,
     "metadata": {},
     "output_type": "execute_result"
    }
   ],
   "source": [
    "pd.Series(train_labels_10_percent).value_counts()"
   ]
  },
  {
   "cell_type": "code",
   "execution_count": 220,
   "id": "34d9ff1d-dd0c-4f08-8259-925a0e53b227",
   "metadata": {},
   "outputs": [
    {
     "name": "stdout",
     "output_type": "stream",
     "text": [
      "Model: \"model_6_USE\"\n",
      "_________________________________________________________________\n",
      " Layer (type)                Output Shape              Param #   \n",
      "=================================================================\n",
      " USE (KerasLayer)            (None, 512)               256797824 \n",
      "                                                                 \n",
      " dense_30 (Dense)            (None, 128)               65664     \n",
      "                                                                 \n",
      " dense_31 (Dense)            (None, 64)                8256      \n",
      "                                                                 \n",
      " dense_32 (Dense)            (None, 1)                 65        \n",
      "                                                                 \n",
      "=================================================================\n",
      "Total params: 256,871,809\n",
      "Trainable params: 73,985\n",
      "Non-trainable params: 256,797,824\n",
      "_________________________________________________________________\n"
     ]
    }
   ],
   "source": [
    "# Clone model_6 but reset weights\n",
    "model_7 = tf.keras.models.clone_model(model_6)\n",
    "\n",
    "# Compile model\n",
    "model_7.compile(loss=\"binary_crossentropy\",\n",
    "                optimizer=tf.keras.optimizers.Adam(),\n",
    "                metrics=[\"accuracy\"])\n",
    "\n",
    "model_7.summary()"
   ]
  },
  {
   "cell_type": "code",
   "execution_count": 221,
   "id": "c4edf535-0569-4c37-91ee-0da4a04e9b55",
   "metadata": {},
   "outputs": [
    {
     "name": "stdout",
     "output_type": "stream",
     "text": [
      "Saving TensorBoard log files to: model_logs/tf_hub_sentence_encoder_correct_split/20241009-181519\n",
      "Epoch 1/5\n",
      "22/22 [==============================] - 4s 49ms/step - loss: 0.6501 - accuracy: 0.6122 - val_loss: 0.6311 - val_accuracy: 0.5722\n",
      "Epoch 2/5\n",
      "22/22 [==============================] - 0s 20ms/step - loss: 0.5323 - accuracy: 0.7755 - val_loss: 0.5397 - val_accuracy: 0.7717\n",
      "Epoch 3/5\n",
      "22/22 [==============================] - 0s 20ms/step - loss: 0.4222 - accuracy: 0.8499 - val_loss: 0.5128 - val_accuracy: 0.7782\n",
      "Epoch 4/5\n",
      "22/22 [==============================] - 0s 20ms/step - loss: 0.3331 - accuracy: 0.8761 - val_loss: 0.4770 - val_accuracy: 0.7979\n",
      "Epoch 5/5\n",
      "22/22 [==============================] - 0s 21ms/step - loss: 0.2722 - accuracy: 0.8994 - val_loss: 0.4954 - val_accuracy: 0.7848\n"
     ]
    }
   ],
   "source": [
    "# Fit the model to 10% of the training data\n",
    "model_7_history = model_7.fit(x=train_sentences_10_percent,\n",
    "                              y=train_labels_10_percent,\n",
    "                              epochs=5,\n",
    "                              validation_data=(val_sentences, val_labels),\n",
    "                              callbacks=[create_tensorboard_callback(SAVE_DIR, \"tf_hub_sentence_encoder_correct_split\")])"
   ]
  },
  {
   "cell_type": "code",
   "execution_count": 223,
   "id": "ed7613e5-21fe-4ef0-ae9b-dc2b9100212d",
   "metadata": {},
   "outputs": [
    {
     "name": "stdout",
     "output_type": "stream",
     "text": [
      "24/24 [==============================] - 0s 8ms/step\n"
     ]
    },
    {
     "data": {
      "text/plain": [
       "array([[0.11989555],\n",
       "       [0.94024163],\n",
       "       [0.9661415 ],\n",
       "       [0.14263012],\n",
       "       [0.49681976],\n",
       "       [0.92827725],\n",
       "       [0.9574384 ],\n",
       "       [0.9220133 ],\n",
       "       [0.94271135],\n",
       "       [0.05083275]], dtype=float32)"
      ]
     },
     "execution_count": 223,
     "metadata": {},
     "output_type": "execute_result"
    }
   ],
   "source": [
    "model_7_pred_probs = model_7.predict(val_sentences)\n",
    "model_7_pred_probs[:10]"
   ]
  },
  {
   "cell_type": "code",
   "execution_count": 224,
   "id": "8f2bad33-529d-4f9b-b54e-2c491b412158",
   "metadata": {},
   "outputs": [
    {
     "data": {
      "text/plain": [
       "<tf.Tensor: shape=(10,), dtype=float32, numpy=array([0., 1., 1., 0., 0., 1., 1., 1., 1., 0.], dtype=float32)>"
      ]
     },
     "execution_count": 224,
     "metadata": {},
     "output_type": "execute_result"
    }
   ],
   "source": [
    "model_7_preds = tf.squeeze(tf.round(model_7_pred_probs))\n",
    "model_7_preds[:10]"
   ]
  },
  {
   "cell_type": "code",
   "execution_count": 287,
   "id": "081b878d-296b-4be0-8e83-1b4b31a78482",
   "metadata": {},
   "outputs": [
    {
     "data": {
      "text/plain": [
       "{'accuracy': 0.7847769028871391,\n",
       " 'precision': 0.7862392297712013,\n",
       " 'recall': 0.7847769028871391,\n",
       " 'f1': 0.7830611097687449}"
      ]
     },
     "execution_count": 287,
     "metadata": {},
     "output_type": "execute_result"
    }
   ],
   "source": [
    "model_7_results = calculate_results(val_labels, model_7_preds)\n",
    "model_7_results"
   ]
  },
  {
   "cell_type": "markdown",
   "id": "966902a0-d2f0-42f6-b46e-1dfd8995c0da",
   "metadata": {},
   "source": [
    "## Comparing the performance of each model"
   ]
  },
  {
   "cell_type": "code",
   "execution_count": 288,
   "id": "99c24347-3eb7-4c09-aeac-1ba93339d469",
   "metadata": {},
   "outputs": [
    {
     "data": {
      "text/html": [
       "<div>\n",
       "<style scoped>\n",
       "    .dataframe tbody tr th:only-of-type {\n",
       "        vertical-align: middle;\n",
       "    }\n",
       "\n",
       "    .dataframe tbody tr th {\n",
       "        vertical-align: top;\n",
       "    }\n",
       "\n",
       "    .dataframe thead th {\n",
       "        text-align: right;\n",
       "    }\n",
       "</style>\n",
       "<table border=\"1\" class=\"dataframe\">\n",
       "  <thead>\n",
       "    <tr style=\"text-align: right;\">\n",
       "      <th></th>\n",
       "      <th>accuracy</th>\n",
       "      <th>precision</th>\n",
       "      <th>recall</th>\n",
       "      <th>f1</th>\n",
       "    </tr>\n",
       "  </thead>\n",
       "  <tbody>\n",
       "    <tr>\n",
       "      <th>0_baseline</th>\n",
       "      <td>0.792651</td>\n",
       "      <td>0.811139</td>\n",
       "      <td>0.792651</td>\n",
       "      <td>0.786219</td>\n",
       "    </tr>\n",
       "    <tr>\n",
       "      <th>1_simple_dense</th>\n",
       "      <td>0.737533</td>\n",
       "      <td>0.737156</td>\n",
       "      <td>0.737533</td>\n",
       "      <td>0.737263</td>\n",
       "    </tr>\n",
       "    <tr>\n",
       "      <th>2_lstm</th>\n",
       "      <td>0.745407</td>\n",
       "      <td>0.744904</td>\n",
       "      <td>0.745407</td>\n",
       "      <td>0.744736</td>\n",
       "    </tr>\n",
       "    <tr>\n",
       "      <th>3_gru</th>\n",
       "      <td>0.749344</td>\n",
       "      <td>0.748985</td>\n",
       "      <td>0.749344</td>\n",
       "      <td>0.748348</td>\n",
       "    </tr>\n",
       "    <tr>\n",
       "      <th>4_bidirectional</th>\n",
       "      <td>0.740157</td>\n",
       "      <td>0.739866</td>\n",
       "      <td>0.740157</td>\n",
       "      <td>0.738848</td>\n",
       "    </tr>\n",
       "    <tr>\n",
       "      <th>5_conv1d</th>\n",
       "      <td>0.737533</td>\n",
       "      <td>0.737046</td>\n",
       "      <td>0.737533</td>\n",
       "      <td>0.737105</td>\n",
       "    </tr>\n",
       "    <tr>\n",
       "      <th>6_tf_hub_sentence_encoder</th>\n",
       "      <td>0.792651</td>\n",
       "      <td>0.793062</td>\n",
       "      <td>0.792651</td>\n",
       "      <td>0.791606</td>\n",
       "    </tr>\n",
       "    <tr>\n",
       "      <th>7_tf_hub_10_percent_data</th>\n",
       "      <td>0.784777</td>\n",
       "      <td>0.786239</td>\n",
       "      <td>0.784777</td>\n",
       "      <td>0.783061</td>\n",
       "    </tr>\n",
       "  </tbody>\n",
       "</table>\n",
       "</div>"
      ],
      "text/plain": [
       "                           accuracy  precision    recall        f1\n",
       "0_baseline                 0.792651   0.811139  0.792651  0.786219\n",
       "1_simple_dense             0.737533   0.737156  0.737533  0.737263\n",
       "2_lstm                     0.745407   0.744904  0.745407  0.744736\n",
       "3_gru                      0.749344   0.748985  0.749344  0.748348\n",
       "4_bidirectional            0.740157   0.739866  0.740157  0.738848\n",
       "5_conv1d                   0.737533   0.737046  0.737533  0.737105\n",
       "6_tf_hub_sentence_encoder  0.792651   0.793062  0.792651  0.791606\n",
       "7_tf_hub_10_percent_data   0.784777   0.786239  0.784777  0.783061"
      ]
     },
     "execution_count": 288,
     "metadata": {},
     "output_type": "execute_result"
    }
   ],
   "source": [
    "# Combine model results into a DataFrame\n",
    "all_model_results = pd.DataFrame({\"0_baseline\": baseline_results,\n",
    "                                  \"1_simple_dense\": model_1_results,\n",
    "                                  \"2_lstm\": model_2_results,\n",
    "                                  \"3_gru\": model_3_results,\n",
    "                                  \"4_bidirectional\": model_4_results,\n",
    "                                  \"5_conv1d\": model_5_results,\n",
    "                                  \"6_tf_hub_sentence_encoder\": model_6_results,\n",
    "                                  \"7_tf_hub_10_percent_data\": model_7_results})\n",
    "all_model_results = all_model_results.transpose()\n",
    "all_model_results"
   ]
  },
  {
   "cell_type": "code",
   "execution_count": 381,
   "id": "169758ce-0a89-42b9-9fcf-7bca46cef540",
   "metadata": {},
   "outputs": [
    {
     "data": {
      "image/png": "[encoded data removed]",
      "text/plain": [
       "<Figure size 800x500 with 1 Axes>"
      ]
     },
     "metadata": {},
     "output_type": "display_data"
    }
   ],
   "source": [
    "colors = ['skyblue', 'lightgreen', 'lightcoral', 'lightpink']\n",
    "all_model_results.plot(kind=\"bar\", figsize=(8, 5), color=colors).legend(bbox_to_anchor=(1.0, 1.0));"
   ]
  },
  {
   "cell_type": "code",
   "execution_count": 384,
   "id": "e5c04edb-9007-46dc-9612-18f3390fa761",
   "metadata": {},
   "outputs": [
    {
     "data": {
      "image/png": "[encoded data removed]",
      "text/plain": [
       "<Figure size 1000x700 with 1 Axes>"
      ]
     },
     "metadata": {},
     "output_type": "display_data"
    }
   ],
   "source": [
    "all_model_results.sort_values(\"f1\", ascending=False)[\"f1\"].plot(kind=\"bar\", figsize=(10, 7), color='lightcoral');"
   ]
  },
  {
   "cell_type": "markdown",
   "id": "d8376ffe-55a0-495e-aa85-9fa1734a4156",
   "metadata": {},
   "source": [
    "## Saving and loading a trained model"
   ]
  },
  {
   "cell_type": "code",
   "execution_count": 299,
   "id": "d1160292-6415-40c5-b7f5-a0d050e086b5",
   "metadata": {},
   "outputs": [
    {
     "data": {
      "text/plain": [
       "({'accuracy': 0.7926509186351706,\n",
       "  'precision': 0.7930624875358199,\n",
       "  'recall': 0.7926509186351706,\n",
       "  'f1': 0.7916058782200516},\n",
       " {'accuracy': 0.7847769028871391,\n",
       "  'precision': 0.7862392297712013,\n",
       "  'recall': 0.7847769028871391,\n",
       "  'f1': 0.7830611097687449})"
      ]
     },
     "execution_count": 299,
     "metadata": {},
     "output_type": "execute_result"
    }
   ],
   "source": [
    "model_6_results, model_7_results"
   ]
  },
  {
   "cell_type": "code",
   "execution_count": 300,
   "id": "73c4718d-a089-45f0-bdf3-9e3067135a89",
   "metadata": {},
   "outputs": [],
   "source": [
    "model_6.save(\"model_6.h5\")"
   ]
  },
  {
   "cell_type": "code",
   "execution_count": 301,
   "id": "8c5f2b06-7699-4e25-9a9a-eb4b09ca4107",
   "metadata": {},
   "outputs": [],
   "source": [
    "loaded_model_6 = tf.keras.models.load_model(\"model_6.h5\", \n",
    "                                            custom_objects={\"KerasLayer\": hub.KerasLayer})"
   ]
  },
  {
   "cell_type": "code",
   "execution_count": 303,
   "id": "6c4088b4-e12e-43b0-b236-fba2bd5c559a",
   "metadata": {},
   "outputs": [
    {
     "name": "stdout",
     "output_type": "stream",
     "text": [
      "24/24 [==============================] - 0s 11ms/step - loss: 1.9595 - accuracy: 0.1732\n"
     ]
    },
    {
     "data": {
      "text/plain": [
       "[1.9594639539718628, 0.17322835326194763]"
      ]
     },
     "execution_count": 303,
     "metadata": {},
     "output_type": "execute_result"
    }
   ],
   "source": [
    "loaded_model_6.evaluate(val_sentences, val_labels)"
   ]
  },
  {
   "cell_type": "markdown",
   "id": "7d0cfb9a-d19a-4dbd-95e5-6cff8e3da77e",
   "metadata": {},
   "source": [
    "### Finding the most wrong examples"
   ]
  },
  {
   "cell_type": "code",
   "execution_count": 305,
   "id": "b5a0f056-5451-4b44-a120-e491fd296c4a",
   "metadata": {},
   "outputs": [
    {
     "data": {
      "text/html": [
       "<div>\n",
       "<style scoped>\n",
       "    .dataframe tbody tr th:only-of-type {\n",
       "        vertical-align: middle;\n",
       "    }\n",
       "\n",
       "    .dataframe tbody tr th {\n",
       "        vertical-align: top;\n",
       "    }\n",
       "\n",
       "    .dataframe thead th {\n",
       "        text-align: right;\n",
       "    }\n",
       "</style>\n",
       "<table border=\"1\" class=\"dataframe\">\n",
       "  <thead>\n",
       "    <tr style=\"text-align: right;\">\n",
       "      <th></th>\n",
       "      <th>text</th>\n",
       "      <th>target</th>\n",
       "      <th>pred</th>\n",
       "      <th>pred_prob</th>\n",
       "    </tr>\n",
       "  </thead>\n",
       "  <tbody>\n",
       "    <tr>\n",
       "      <th>0</th>\n",
       "      <td>DFR EP016 Monthly Meltdown - On Dnbheaven 2015...</td>\n",
       "      <td>0</td>\n",
       "      <td>0.0</td>\n",
       "      <td>0.000403</td>\n",
       "    </tr>\n",
       "    <tr>\n",
       "      <th>1</th>\n",
       "      <td>FedEx no longer to transport bioterror germs i...</td>\n",
       "      <td>0</td>\n",
       "      <td>1.0</td>\n",
       "      <td>0.999831</td>\n",
       "    </tr>\n",
       "    <tr>\n",
       "      <th>2</th>\n",
       "      <td>Gunmen kill four in El Salvador bus attack: Su...</td>\n",
       "      <td>1</td>\n",
       "      <td>1.0</td>\n",
       "      <td>1.000000</td>\n",
       "    </tr>\n",
       "    <tr>\n",
       "      <th>3</th>\n",
       "      <td>@camilacabello97 Internally and externally scr...</td>\n",
       "      <td>1</td>\n",
       "      <td>0.0</td>\n",
       "      <td>0.000257</td>\n",
       "    </tr>\n",
       "    <tr>\n",
       "      <th>4</th>\n",
       "      <td>Radiation emergency #preparedness starts with ...</td>\n",
       "      <td>1</td>\n",
       "      <td>0.0</td>\n",
       "      <td>0.004118</td>\n",
       "    </tr>\n",
       "  </tbody>\n",
       "</table>\n",
       "</div>"
      ],
      "text/plain": [
       "                                                text  target  pred  pred_prob\n",
       "0  DFR EP016 Monthly Meltdown - On Dnbheaven 2015...       0   0.0   0.000403\n",
       "1  FedEx no longer to transport bioterror germs i...       0   1.0   0.999831\n",
       "2  Gunmen kill four in El Salvador bus attack: Su...       1   1.0   1.000000\n",
       "3  @camilacabello97 Internally and externally scr...       1   0.0   0.000257\n",
       "4  Radiation emergency #preparedness starts with ...       1   0.0   0.004118"
      ]
     },
     "execution_count": 305,
     "metadata": {},
     "output_type": "execute_result"
    }
   ],
   "source": [
    "val_df = pd.DataFrame({\"text\": val_sentences,\n",
    "                       \"target\": val_labels,\n",
    "                       \"pred\": model_6_preds,\n",
    "                       \"pred_prob\": tf.squeeze(model_6_pred_probs)})\n",
    "val_df.head()"
   ]
  },
  {
   "cell_type": "code",
   "execution_count": 306,
   "id": "2bfb343b-8626-4f65-af22-58aafc9405f1",
   "metadata": {},
   "outputs": [
    {
     "data": {
      "text/html": [
       "<div>\n",
       "<style scoped>\n",
       "    .dataframe tbody tr th:only-of-type {\n",
       "        vertical-align: middle;\n",
       "    }\n",
       "\n",
       "    .dataframe tbody tr th {\n",
       "        vertical-align: top;\n",
       "    }\n",
       "\n",
       "    .dataframe thead th {\n",
       "        text-align: right;\n",
       "    }\n",
       "</style>\n",
       "<table border=\"1\" class=\"dataframe\">\n",
       "  <thead>\n",
       "    <tr style=\"text-align: right;\">\n",
       "      <th></th>\n",
       "      <th>text</th>\n",
       "      <th>target</th>\n",
       "      <th>pred</th>\n",
       "      <th>pred_prob</th>\n",
       "    </tr>\n",
       "  </thead>\n",
       "  <tbody>\n",
       "    <tr>\n",
       "      <th>692</th>\n",
       "      <td>New Giant Flames (Giant Manly Brown) info/orde...</td>\n",
       "      <td>0</td>\n",
       "      <td>1.0</td>\n",
       "      <td>1.000000</td>\n",
       "    </tr>\n",
       "    <tr>\n",
       "      <th>628</th>\n",
       "      <td>@noah_anyname That's where the concentration c...</td>\n",
       "      <td>0</td>\n",
       "      <td>1.0</td>\n",
       "      <td>1.000000</td>\n",
       "    </tr>\n",
       "    <tr>\n",
       "      <th>237</th>\n",
       "      <td>Came across this fire video not mine..enjoy..B...</td>\n",
       "      <td>0</td>\n",
       "      <td>1.0</td>\n",
       "      <td>1.000000</td>\n",
       "    </tr>\n",
       "    <tr>\n",
       "      <th>359</th>\n",
       "      <td>the windstorm blew thru my open window and now...</td>\n",
       "      <td>0</td>\n",
       "      <td>1.0</td>\n",
       "      <td>1.000000</td>\n",
       "    </tr>\n",
       "    <tr>\n",
       "      <th>109</th>\n",
       "      <td>[55436] 1950 LIONEL TRAINS SMOKE LOCOMOTIVES W...</td>\n",
       "      <td>0</td>\n",
       "      <td>1.0</td>\n",
       "      <td>1.000000</td>\n",
       "    </tr>\n",
       "    <tr>\n",
       "      <th>49</th>\n",
       "      <td>@madonnamking RSPCA site multiple 7 story high...</td>\n",
       "      <td>0</td>\n",
       "      <td>1.0</td>\n",
       "      <td>1.000000</td>\n",
       "    </tr>\n",
       "    <tr>\n",
       "      <th>712</th>\n",
       "      <td>WPRI 12 Eyewitness News Rhode Island set to mo...</td>\n",
       "      <td>0</td>\n",
       "      <td>1.0</td>\n",
       "      <td>1.000000</td>\n",
       "    </tr>\n",
       "    <tr>\n",
       "      <th>645</th>\n",
       "      <td>Love is the weapon for this wounded generation...</td>\n",
       "      <td>0</td>\n",
       "      <td>1.0</td>\n",
       "      <td>0.999999</td>\n",
       "    </tr>\n",
       "    <tr>\n",
       "      <th>381</th>\n",
       "      <td>Deaths 3 http://t.co/nApviyGKYK</td>\n",
       "      <td>0</td>\n",
       "      <td>1.0</td>\n",
       "      <td>0.999999</td>\n",
       "    </tr>\n",
       "    <tr>\n",
       "      <th>209</th>\n",
       "      <td>Ashes 2015: AustraliaÛªs collapse at Trent Br...</td>\n",
       "      <td>0</td>\n",
       "      <td>1.0</td>\n",
       "      <td>0.999999</td>\n",
       "    </tr>\n",
       "  </tbody>\n",
       "</table>\n",
       "</div>"
      ],
      "text/plain": [
       "                                                  text  target  pred  \\\n",
       "692  New Giant Flames (Giant Manly Brown) info/orde...       0   1.0   \n",
       "628  @noah_anyname That's where the concentration c...       0   1.0   \n",
       "237  Came across this fire video not mine..enjoy..B...       0   1.0   \n",
       "359  the windstorm blew thru my open window and now...       0   1.0   \n",
       "109  [55436] 1950 LIONEL TRAINS SMOKE LOCOMOTIVES W...       0   1.0   \n",
       "49   @madonnamking RSPCA site multiple 7 story high...       0   1.0   \n",
       "712  WPRI 12 Eyewitness News Rhode Island set to mo...       0   1.0   \n",
       "645  Love is the weapon for this wounded generation...       0   1.0   \n",
       "381                    Deaths 3 http://t.co/nApviyGKYK       0   1.0   \n",
       "209  Ashes 2015: AustraliaÛªs collapse at Trent Br...       0   1.0   \n",
       "\n",
       "     pred_prob  \n",
       "692   1.000000  \n",
       "628   1.000000  \n",
       "237   1.000000  \n",
       "359   1.000000  \n",
       "109   1.000000  \n",
       "49    1.000000  \n",
       "712   1.000000  \n",
       "645   0.999999  \n",
       "381   0.999999  \n",
       "209   0.999999  "
      ]
     },
     "execution_count": 306,
     "metadata": {},
     "output_type": "execute_result"
    }
   ],
   "source": [
    "most_wrong = val_df[val_df[\"target\"] != val_df[\"pred\"]].sort_values(\"pred_prob\", ascending=False)\n",
    "most_wrong[:10]"
   ]
  },
  {
   "cell_type": "code",
   "execution_count": 307,
   "id": "fa2bd55f-d00b-491c-932f-3faa06397704",
   "metadata": {},
   "outputs": [
    {
     "name": "stdout",
     "output_type": "stream",
     "text": [
      "Target: 0, Pred: 1, Prob: 1.0\n",
      "Text:\n",
      "New Giant Flames (Giant Manly Brown) info/order sms:087809233445 pin:2327564d http://t.co/T1mBw0ia3o  http://t.co/CLfa0PY5Lm\n",
      "\n",
      "----\n",
      "\n",
      "Target: 0, Pred: 1, Prob: 1.0\n",
      "Text:\n",
      "@noah_anyname That's where the concentration camps and mass murder come in. \n",
      " \n",
      "EVERY. FUCKING. TIME.\n",
      "\n",
      "----\n",
      "\n",
      "Target: 0, Pred: 1, Prob: 1.0\n",
      "Text:\n",
      "Came across this fire video not mine..enjoy..Babes way of saying hi to me while he's in the fire truck??\n",
      "#fireman #Û_ http://t.co/V5gTUnwohy\n",
      "\n",
      "----\n",
      "\n",
      "Target: 0, Pred: 1, Prob: 1.0\n",
      "Text:\n",
      "the windstorm blew thru my open window and now my bong is in pieces just another example of nature's indifference to human suffering\n",
      "\n",
      "----\n",
      "\n",
      "Target: 0, Pred: 1, Prob: 0.9999999403953552\n",
      "Text:\n",
      "[55436] 1950 LIONEL TRAINS SMOKE LOCOMOTIVES WITH MAGNE-TRACTION INSTRUCTIONS http://t.co/xEZBs3sq0y http://t.co/C2x0QoKGlY\n",
      "\n",
      "----\n",
      "\n",
      "Target: 0, Pred: 1, Prob: 0.9999998211860657\n",
      "Text:\n",
      "@madonnamking RSPCA site multiple 7 story high rise buildings next to low density character residential in an area that floods\n",
      "\n",
      "----\n",
      "\n",
      "Target: 0, Pred: 1, Prob: 0.9999995231628418\n",
      "Text:\n",
      "WPRI 12 Eyewitness News Rhode Island set to modernize its voting equipment WPRI 12 EyewitnessÛ_ http://t.co/aP9JBrPmQg\n",
      "\n",
      "----\n",
      "\n",
      "Target: 0, Pred: 1, Prob: 0.9999994039535522\n",
      "Text:\n",
      "Love is the weapon for this wounded generation &lt;3\n",
      "\n",
      "----\n",
      "\n",
      "Target: 0, Pred: 1, Prob: 0.9999994039535522\n",
      "Text:\n",
      "Deaths 3 http://t.co/nApviyGKYK\n",
      "\n",
      "----\n",
      "\n",
      "Target: 0, Pred: 1, Prob: 0.9999993443489075\n",
      "Text:\n",
      "Ashes 2015: AustraliaÛªs collapse at Trent Bridge among worst in history: England bundled out Australia for 60 ... http://t.co/t5TrhjUAU0\n",
      "\n",
      "----\n",
      "\n"
     ]
    }
   ],
   "source": [
    "# Check the false positives (model predicted 1 when should've been 0)\n",
    "for row in most_wrong[:10].itertuples(): # loop through the top 10 rows (change the index to view different rows)\n",
    "  _, text, target, pred, prob = row\n",
    "  print(f\"Target: {target}, Pred: {int(pred)}, Prob: {prob}\")\n",
    "  print(f\"Text:\\n{text}\\n\")\n",
    "  print(\"----\\n\")"
   ]
  },
  {
   "cell_type": "code",
   "execution_count": 308,
   "id": "fb24a67b-396f-4b50-8d91-ab783d669a67",
   "metadata": {},
   "outputs": [
    {
     "name": "stdout",
     "output_type": "stream",
     "text": [
      "Target: 1, Pred: 0, Prob: 1.743315353186503e-10\n",
      "Text:\n",
      "I get to smoke my shit in peace\n",
      "\n",
      "----\n",
      "\n",
      "Target: 1, Pred: 0, Prob: 1.6666208690896411e-10\n",
      "Text:\n",
      "World War II book LIGHTNING JOE An Autobiography by General J. Lawton Collins http://t.co/R4khEH7iaf http://t.co/qSZgJfUutu\n",
      "\n",
      "----\n",
      "\n",
      "Target: 1, Pred: 0, Prob: 9.240189169368307e-11\n",
      "Text:\n",
      "Just came back from camping and returned with a new song which gets recorded tomorrow. Can't wait! #Desolation #TheConspiracyTheory #NewEP\n",
      "\n",
      "----\n",
      "\n",
      "Target: 1, Pred: 0, Prob: 5.73210263976609e-11\n",
      "Text:\n",
      "Lucas Duda is Ghost Rider. Not the Nic Cage version but an actual 'engulfed in flames' badass. #Mets\n",
      "\n",
      "----\n",
      "\n",
      "Target: 1, Pred: 0, Prob: 1.37701985231109e-11\n",
      "Text:\n",
      "when you don't know which way an ambulance is coming from &lt;&lt;\n",
      "\n",
      "----\n",
      "\n",
      "Target: 1, Pred: 0, Prob: 8.831739159442797e-12\n",
      "Text:\n",
      "Perspectives on the Grateful Dead: Critical Writings (Contributions to the Study http://t.co/fmu0fnuMxf http://t.co/AgGRyhVXKr\n",
      "\n",
      "----\n",
      "\n",
      "Target: 1, Pred: 0, Prob: 2.855267021081853e-12\n",
      "Text:\n",
      "'The way you move is like a full on rainstorm and I'm a house of cards'\n",
      "\n",
      "----\n",
      "\n",
      "Target: 1, Pred: 0, Prob: 1.7796786180163116e-12\n",
      "Text:\n",
      "Why are you deluged with low self-image? Take the quiz: http://t.co/XsPqdOrIqj http://t.co/CQYvFR4UCy\n",
      "\n",
      "----\n",
      "\n",
      "Target: 1, Pred: 0, Prob: 9.599061014098614e-15\n",
      "Text:\n",
      "going to redo my nails and watch behind the scenes of desolation of smaug ayyy\n",
      "\n",
      "----\n",
      "\n",
      "Target: 1, Pred: 0, Prob: 6.776903617305172e-16\n",
      "Text:\n",
      "Reddit Will Now QuarantineÛ_ http://t.co/pkUAMXw6pm #onlinecommunities #reddit #amageddon #freespeech #Business http://t.co/PAWvNJ4sAP\n",
      "\n",
      "----\n",
      "\n"
     ]
    }
   ],
   "source": [
    "# Check the most wrong false negatives (model predicted 0 when should've predict 1)\n",
    "for row in most_wrong[-10:].itertuples():\n",
    "  _, text, target, pred, prob = row\n",
    "  print(f\"Target: {target}, Pred: {int(pred)}, Prob: {prob}\")\n",
    "  print(f\"Text:\\n{text}\\n\")\n",
    "  print(\"----\\n\")"
   ]
  },
  {
   "cell_type": "markdown",
   "id": "6f6210cc-f372-45df-b117-3a714b47605f",
   "metadata": {},
   "source": [
    "### Making predictions on the test dataset\n"
   ]
  },
  {
   "cell_type": "code",
   "execution_count": 311,
   "id": "9036288c-12a7-45c8-b667-7bb62c94c942",
   "metadata": {},
   "outputs": [
    {
     "data": {
      "text/plain": [
       "'take a bow for his marvellous performance at shibuya'"
      ]
     },
     "execution_count": 311,
     "metadata": {},
     "output_type": "execute_result"
    }
   ],
   "source": [
    "custom_tweet = \"take a bow for his marvellous performance at shibuya\"\n",
    "custom_tweet"
   ]
  },
  {
   "cell_type": "code",
   "execution_count": 312,
   "id": "0dbebdd2-98bb-48c6-ae23-dff0b98972f6",
   "metadata": {},
   "outputs": [],
   "source": [
    "def predict_on_sentence(model, sentence):\n",
    "  pred_prob = model.predict([sentence])\n",
    "  pred_label = tf.squeeze(tf.round(pred_prob)).numpy()\n",
    "  print(f\"Pred: {pred_label}\", \"(real disaster)\" if pred_label > 0 else \"(not real disaster)\", f\"Prob: {pred_prob[0][0]}\")\n",
    "  print(f\"Text:\\n{sentence}\")"
   ]
  },
  {
   "cell_type": "code",
   "execution_count": 314,
   "id": "cf289261-4f43-41c2-97d7-db368360457f",
   "metadata": {},
   "outputs": [
    {
     "name": "stdout",
     "output_type": "stream",
     "text": [
      "1/1 [==============================] - 0s 468ms/step\n",
      "Pred: 0.0 (not real disaster) Prob: 0.0005938426475040615\n",
      "Text:\n",
      "take a bow for his marvellous performance at shibuya\n"
     ]
    }
   ],
   "source": [
    "# make a prediction on tweet from the wild\n",
    "predict_on_sentence(model=model_6,\n",
    "                    sentence=custom_tweet)"
   ]
  },
  {
   "cell_type": "code",
   "execution_count": 325,
   "id": "1ca58b96-3aef-4a3a-9228-ccd7b423f690",
   "metadata": {},
   "outputs": [
    {
     "name": "stdout",
     "output_type": "stream",
     "text": [
      "* Running on local URL:  http://127.0.0.1:7869\n",
      "* Running on public URL: https://49e00e7c13392c9c7b.gradio.live\n",
      "\n",
      "This share link expires in 72 hours. For free permanent hosting and GPU upgrades, run `gradio deploy` from the terminal in the working directory to deploy to Hugging Face Spaces (https://huggingface.co/spaces)\n"
     ]
    },
    {
     "data": {
      "text/html": [
       "<div><iframe src=\"https://49e00e7c13392c9c7b.gradio.live\" width=\"100%\" height=\"500\" allow=\"autoplay; camera; microphone; clipboard-read; clipboard-write;\" frameborder=\"0\" allowfullscreen></iframe></div>"
      ],
      "text/plain": [
       "<IPython.core.display.HTML object>"
      ]
     },
     "metadata": {},
     "output_type": "display_data"
    },
    {
     "data": {
      "text/plain": []
     },
     "execution_count": 325,
     "metadata": {},
     "output_type": "execute_result"
    },
    {
     "name": "stdout",
     "output_type": "stream",
     "text": [
      "1/1 [==============================] - 0s 69ms/step\n",
      "1/1 [==============================] - 0s 95ms/step\n"
     ]
    }
   ],
   "source": [
    "import gradio as gr\n",
    "\n",
    "model = loaded_model_6\n",
    "\n",
    "def predict_on_sentence(sentence):\n",
    "  pred_prob = model.predict([sentence])\n",
    "  pred_label = tf.squeeze(tf.round(pred_prob)).numpy()\n",
    "  return \"real disaster\" if pred_label > 0 else \"not real disaster\"\n",
    "\n",
    "demo = gr.Interface(\n",
    "    fn=predict_on_sentence,\n",
    "    inputs=[\"text\"],\n",
    "    outputs=[\"text\"],\n",
    ")\n",
    "\n",
    "demo.launch(share=True)"
   ]
  },
  {
   "cell_type": "markdown",
   "id": "49266ed0-59c6-40a9-af53-9b573472d444",
   "metadata": {},
   "source": [
    "## The speed/score tradeoff\n"
   ]
  },
  {
   "cell_type": "code",
   "execution_count": 326,
   "id": "4b2d38f2-c49b-4346-b2dd-ff6c0c60186a",
   "metadata": {},
   "outputs": [],
   "source": [
    "# Calculate the time of predictions\n",
    "import time\n",
    "def pred_timer(model, samples):\n",
    "  start_time = time.perf_counter()\n",
    "  model.predict(samples)\n",
    "  end_time = time.perf_counter()\n",
    "  total_time = end_time-start_time\n",
    "  time_per_pred = total_time/len(val_sentences)\n",
    "  return total_time, time_per_pred"
   ]
  },
  {
   "cell_type": "code",
   "execution_count": 327,
   "id": "9600bec6-46cd-4fde-aa64-85d7aca32158",
   "metadata": {},
   "outputs": [
    {
     "name": "stdout",
     "output_type": "stream",
     "text": [
      "24/24 [==============================] - 1s 44ms/step\n"
     ]
    },
    {
     "data": {
      "text/plain": [
       "(1.393376799998805, 0.0018285784776887204)"
      ]
     },
     "execution_count": 327,
     "metadata": {},
     "output_type": "execute_result"
    }
   ],
   "source": [
    "# Calculate TF Hub Sentence Encoder prediction times\n",
    "model_6_total_pred_time, model_6_time_per_pred = pred_timer(model_6, val_sentences)\n",
    "model_6_total_pred_time, model_6_time_per_pred"
   ]
  },
  {
   "cell_type": "code",
   "execution_count": 328,
   "id": "59428e19-86be-43fb-84b7-23114fbfd435",
   "metadata": {},
   "outputs": [
    {
     "data": {
      "text/plain": [
       "(0.07513839999955962, 9.860682414640371e-05)"
      ]
     },
     "execution_count": 328,
     "metadata": {},
     "output_type": "execute_result"
    }
   ],
   "source": [
    "# Calculate Naive Bayes prediction times\n",
    "baseline_total_pred_time, baseline_time_per_pred = pred_timer(model_0, val_sentences)\n",
    "baseline_total_pred_time, baseline_time_per_pred"
   ]
  },
  {
   "cell_type": "code",
   "execution_count": 329,
   "id": "743731de-796e-4592-8f56-db33dd164f5e",
   "metadata": {},
   "outputs": [
    {
     "data": {
      "image/png": "[encoded data removed]",
      "text/plain": [
       "<Figure size 1000x700 with 1 Axes>"
      ]
     },
     "metadata": {},
     "output_type": "display_data"
    }
   ],
   "source": [
    "import matplotlib.pyplot as plt\n",
    "\n",
    "plt.figure(figsize=(10, 7))\n",
    "plt.scatter(baseline_time_per_pred, baseline_results[\"f1\"], label=\"baseline\")\n",
    "plt.scatter(model_6_time_per_pred, model_6_results[\"f1\"], label=\"tf_hub_sentence_encoder\")\n",
    "plt.legend()\n",
    "plt.title(\"F1-score versus time per prediction\")\n",
    "plt.xlabel(\"Time per prediction\")\n",
    "plt.ylabel(\"F1-Score\");"
   ]
  },
  {
   "cell_type": "code",
   "execution_count": null,
   "id": "f5ceea1d-f63d-4f59-9876-6f16ec563642",
   "metadata": {},
   "outputs": [],
   "source": []
  }
 ],
 "metadata": {
  "kernelspec": {
   "display_name": "Python 3 (ipykernel)",
   "language": "python",
   "name": "python3"
  },
  "language_info": {
   "codemirror_mode": {
    "name": "ipython",
    "version": 3
   },
   "file_extension": ".py",
   "mimetype": "text/x-python",
   "name": "python",
   "nbconvert_exporter": "python",
   "pygments_lexer": "ipython3",
   "version": "3.10.13"
  }
 },
 "nbformat": 4,
 "nbformat_minor": 5
}
